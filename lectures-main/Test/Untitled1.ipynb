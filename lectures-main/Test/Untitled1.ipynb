{
 "cells": [
  {
   "cell_type": "code",
   "execution_count": 9,
   "id": "a2bb6b39-272d-4587-85dd-f6660b27a194",
   "metadata": {},
   "outputs": [
    {
     "name": "stdout",
     "output_type": "stream",
     "text": [
      "-\n",
      "℃\n",
      "℃\n",
      "0\n",
      "3\n"
     ]
    }
   ],
   "source": [
    "def calcNumber():\n",
    "    str_s ='-30℃'\n",
    "    sign = str_s[0]\n",
    "    tail = str_s[-1]\n",
    "    print(sign)\n",
    "    print(tail)\n",
    "    print( str_s[-1])\n",
    "    print( str_s[-2])\n",
    "    print( str_s[1])\n",
    "\n",
    "\n",
    "calcNumber();"
   ]
  },
  {
   "cell_type": "markdown",
   "id": "caa9b18a-a5c7-42ae-a87a-5e213f2dda26",
   "metadata": {},
   "source": [
    "### \n"
   ]
  }
 ],
 "metadata": {
  "kernelspec": {
   "display_name": "Python 3 (ipykernel)",
   "language": "python",
   "name": "python3"
  },
  "language_info": {
   "codemirror_mode": {
    "name": "ipython",
    "version": 3
   },
   "file_extension": ".py",
   "mimetype": "text/x-python",
   "name": "python",
   "nbconvert_exporter": "python",
   "pygments_lexer": "ipython3",
   "version": "3.12.7"
  }
 },
 "nbformat": 4,
 "nbformat_minor": 5
}
