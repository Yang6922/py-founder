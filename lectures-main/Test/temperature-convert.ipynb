{
 "cells": [
  {
   "cell_type": "code",
   "execution_count": 20,
   "id": "f367ca24-94c5-46c1-bfc5-3b2f71a060e3",
   "metadata": {},
   "outputs": [
    {
     "name": "stdout",
     "output_type": "stream",
     "text": [
      "86.0℉\n"
     ]
    }
   ],
   "source": [
    "# define function\n",
    "def tempatureConvert_2(input_temp):\n",
    "    result = None\n",
    "    #-30℃\n",
    "    input_new_temp = input_temp.upper();\n",
    "    sign = input_new_temp[0]\n",
    "    real_temp = None\n",
    "    tail = input_new_temp[-1]\n",
    "    if sign in ['+','-']:\n",
    "         real_temp = input_new_temp[1:-1]\n",
    "    else:\n",
    "        sign = '+'\n",
    "        real_temp = input_new_temp[0:-1]\n",
    "    temp  = float(real_temp)\n",
    "    if tail == '℃':\n",
    "        # Celsius (°C) * 9/5) \n",
    "        celsius =  (temp * (9/5)) + 32\n",
    "        result  = f'{celsius}℉'\n",
    "    elif tail == '℉':\n",
    "        # Fahrenheit (°F) - 32) * 5/9\n",
    "        fahrenheit = (temp - 32)* (5/9)\n",
    "        result = f'{fahrenheit}℃'\n",
    "    else:\n",
    "        print('输入格式不正确!')\n",
    "    return result\n",
    "    \n",
    "result = tempatureConvert_2(\"-30℃\")    \n",
    "print(result)"
   ]
  },
  {
   "cell_type": "markdown",
   "id": "98a9fedc-1a12-4d8f-a984-8a74b3d659e6",
   "metadata": {},
   "source": [
    "### sum"
   ]
  },
  {
   "cell_type": "code",
   "execution_count": 24,
   "id": "8a4c30f9-ba0c-447d-b6ba-607aa20c330d",
   "metadata": {},
   "outputs": [
    {
     "name": "stdout",
     "output_type": "stream",
     "text": [
      "55\n"
     ]
    }
   ],
   "source": [
    "\n",
    "def sum(i):\n",
    "    if i<=0:\n",
    "        return 0\n",
    "    return i + sum(i - 1)\n",
    "result =sum(10)\n",
    "print(result)"
   ]
  },
  {
   "cell_type": "code",
   "execution_count": null,
   "id": "754baf43-8612-4496-b2d2-aca21d6fbd92",
   "metadata": {},
   "outputs": [],
   "source": []
  }
 ],
 "metadata": {
  "kernelspec": {
   "display_name": "Python 3 (ipykernel)",
   "language": "python",
   "name": "python3"
  },
  "language_info": {
   "codemirror_mode": {
    "name": "ipython",
    "version": 3
   },
   "file_extension": ".py",
   "mimetype": "text/x-python",
   "name": "python",
   "nbconvert_exporter": "python",
   "pygments_lexer": "ipython3",
   "version": "3.12.7"
  }
 },
 "nbformat": 4,
 "nbformat_minor": 5
}
