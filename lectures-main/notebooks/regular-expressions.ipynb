{
 "cells": [
  {
   "cell_type": "markdown",
   "id": "be20f81c-3a4c-44ea-a869-c3c0befd2c36",
   "metadata": {},
   "source": [
    "## 正则表达式进行模式匹配"
   ]
  },
  {
   "cell_type": "markdown",
   "id": "d33e44c8-034e-4480-988a-fd84145fee78",
   "metadata": {},
   "source": [
    "## 模式匹配"
   ]
  },
  {
   "cell_type": "markdown",
   "id": "0987f0aa-ccb6-478c-9f7b-73459d98f74c",
   "metadata": {},
   "source": [
    "### 检查电话号码的函数"
   ]
  },
  {
   "cell_type": "code",
   "execution_count": 3,
   "id": "5d72a9bf-bb60-4ec5-961b-b7b80c56f346",
   "metadata": {},
   "outputs": [],
   "source": [
    "# 确保字符串长度为 12 个字符\n",
    "# 检查前面的三个字符是否为数字，后跟一个连字符，三个数字，另一个连字符，最后是四个数字\n",
    "def isPhoneNumber(text):\n",
    "    if len(text) != 12:\n",
    "        return False\n",
    "    if not text[0:3].isdecimal() or text[3] != '-':\n",
    "        return False\n",
    "    if not text[4:7].isdecimal() or text[7] != '-':\n",
    "        return False\n",
    "    if not text[8:12].isdecimal():\n",
    "        return False\n",
    "    return True\n"
   ]
  },
  {
   "cell_type": "markdown",
   "id": "72f9a081-f6ef-4361-b180-eb056f552364",
   "metadata": {},
   "source": [
    "### 文本中查找电话号码"
   ]
  },
  {
   "cell_type": "code",
   "execution_count": 9,
   "id": "48a9559b-9d4e-4356-b03f-3cacfa9d24ff",
   "metadata": {},
   "outputs": [
    {
     "name": "stdout",
     "output_type": "stream",
     "text": [
      "Phone number found: 415-555-1011\n",
      "Phone number found: 415-555-9999\n"
     ]
    }
   ],
   "source": [
    "message = 'Call me at 415-555-1011 tomorrow. 415-555-9999 is my office.'\n",
    "for i in range(len(message)):\n",
    "    chunk = message[i:i+12]\n",
    "    if isPhoneNumber(chunk):\n",
    "        print('Phone number found: ' + chunk)"
   ]
  },
  {
   "cell_type": "markdown",
   "id": "b8b179f5-12b9-4916-92a4-22c446c281ff",
   "metadata": {},
   "source": [
    "\n",
    "\n",
    "\n",
    "## 正则表达式匹配"
   ]
  },
  {
   "cell_type": "markdown",
   "id": "24f4b7ac-35c5-4392-829d-c1bdc84a2e41",
   "metadata": {},
   "source": [
    "### 正则表达式（regex）是文本模式的描述。例如，\\d 表示一个数字字符（0-9)"
   ]
  },
  {
   "cell_type": "code",
   "execution_count": 10,
   "id": "298495e4-bec5-492b-93b2-d84c7289295a",
   "metadata": {},
   "outputs": [
    {
     "name": "stdout",
     "output_type": "stream",
     "text": [
      "Phone number found: 415-555-4242\n"
     ]
    }
   ],
   "source": [
    "# 创建正则表达式对象\n",
    "# 使用正则表达式 \\d{3}-\\d{3}-\\d{4} 可以匹配格式为“三位数字-三位数字-四位数字”的电话号码\n",
    "# 使用对象的 search() 方法搜索目标字符串。\n",
    "# 通过 Match 对象的 group() 方法获取匹配的文本\n",
    "import re\n",
    "\n",
    "phoneNumRegex = re.compile(r'\\d{3}-\\d{3}-\\d{4}')\n",
    "mo = phoneNumRegex.search('My number is 415-555-4242.')\n",
    "print('Phone number found: ' + mo.group())"
   ]
  },
  {
   "cell_type": "markdown",
   "id": "23ce879a-736b-4a2e-b76b-14a92b990083",
   "metadata": {},
   "source": [
    "## 使用括号进行分组"
   ]
  },
  {
   "cell_type": "code",
   "execution_count": 11,
   "id": "8b1d10b9-25dc-4abd-8bb4-c586ed584771",
   "metadata": {},
   "outputs": [
    {
     "name": "stdout",
     "output_type": "stream",
     "text": [
      "415\n",
      "555-4242\n",
      "415-555-4242\n",
      "415-555-4242\n"
     ]
    }
   ],
   "source": [
    "# 第一个括号中的内容为组 1\n",
    "# 第二个括号中的内容为组 2\n",
    "# 递 0 或不传参数则会返回整个匹配文本\n",
    "import re\n",
    "\n",
    "phoneNumRegex = re.compile(r'(\\d{3})-(\\d{3}-\\d{4})')\n",
    "mo = phoneNumRegex.search('My number is 415-555-4242.')\n",
    "print(mo.group(1))  # 输出: '415'\n",
    "print(mo.group(2))  # 输出: '555-4242'\n",
    "print(mo.group(0))  # 输出: '415-555-4242'\n",
    "print(mo.group())   # 输出: '415-555-4242'\n"
   ]
  },
  {
   "cell_type": "markdown",
   "id": "777aed5d-479e-4fa9-a0a3-ec087dcf3286",
   "metadata": {},
   "source": [
    "### 如果你想一次性获取所有的分组，可以使用 groups() 方法"
   ]
  },
  {
   "cell_type": "code",
   "execution_count": 12,
   "id": "8325595b-9c07-4da0-9c0e-46da499289a2",
   "metadata": {},
   "outputs": [
    {
     "name": "stdout",
     "output_type": "stream",
     "text": [
      "('415', '555-4242')\n",
      "415\n",
      "555-4242\n"
     ]
    }
   ],
   "source": [
    "print(mo.groups())  # 输出: ('415', '555-4242')\n",
    "\n",
    "areaCode, mainNumber = mo.groups()\n",
    "print(areaCode)     # 输出: 415\n",
    "print(mainNumber)   # 输出: 555-4242\n"
   ]
  },
  {
   "cell_type": "markdown",
   "id": "5d18f83b-5728-4500-931a-1b41fc64ca28",
   "metadata": {},
   "source": [
    "### 匹配括号"
   ]
  },
  {
   "cell_type": "code",
   "execution_count": 15,
   "id": "904d8a56-169a-44a2-8300-44571c242740",
   "metadata": {},
   "outputs": [
    {
     "name": "stdout",
     "output_type": "stream",
     "text": [
      "(415)\n",
      "555-4242\n"
     ]
    }
   ],
   "source": [
    "# 匹配()需要用转义符\\(....\\)匹配实际括号的内容\n",
    "phoneNumRegex = re.compile(r'(\\(\\d{3}\\)) (\\d{3}-\\d{4})')\n",
    "mo = phoneNumRegex.search('My phone number is (415) 555-4242.')\n",
    "print(mo.group(1))  # 输出: '(415)'\n",
    "print(mo.group(2))  # 输出: '555-4242'\n"
   ]
  },
  {
   "cell_type": "markdown",
   "id": "853adc7c-165c-4085-940f-9e3eca9053bd",
   "metadata": {},
   "source": [
    "### 使用管道符(|)Pipe匹配多个组"
   ]
  },
  {
   "cell_type": "code",
   "execution_count": 16,
   "id": "da61a559-0324-408b-9ca6-3d3dda522802",
   "metadata": {},
   "outputs": [
    {
     "name": "stdout",
     "output_type": "stream",
     "text": [
      "Batman\n",
      "Tina Fey\n"
     ]
    }
   ],
   "source": [
    "#管道符 | 是一个强大的工具，允许你在正则表达式中匹配多个表达式。例如，正则表达式 r'Batman|Tina Fey' 可以匹配字符串中的 'Batman' 或 'Tina Fey\n",
    "# 当 'Batman' 和 'Tina Fey' 同时出现在搜索字符串中时，返回的 Match 对象将是第一个匹配的文本\n",
    "import re\n",
    "\n",
    "heroRegex = re.compile(r'Batman|Tina Fey')\n",
    "mo1 = heroRegex.search('Batman and Tina Fey.')\n",
    "print(mo1.group())  # 输出: 'Batman'\n",
    "\n",
    "mo2 = heroRegex.search('Tina Fey and Batman.')\n",
    "print(mo2.group())  # 输出: 'Tina Fey'\n"
   ]
  },
  {
   "cell_type": "markdown",
   "id": "ade66b75-4602-4c4b-8644-c492c4feba13",
   "metadata": {},
   "source": [
    "### 匹配多个模式"
   ]
  },
  {
   "cell_type": "code",
   "execution_count": 19,
   "id": "b9b9e721-422a-4000-8f05-f696af15d0ba",
   "metadata": {
    "scrolled": true
   },
   "outputs": [
    {
     "name": "stdout",
     "output_type": "stream",
     "text": [
      "Batmobile\n",
      "mobile\n"
     ]
    }
   ],
   "source": [
    "# 如果你需要匹配实际的管道符字符，可以用反斜杠转义它，像这样 \\| (（即 | 本身)\n",
    "\n",
    "# 你还可以使用管道符来作为正则表达式的一部分，以匹配多个模式。\n",
    "# 例如，假设你想匹配字符串 'Batman'、'Batmobile'、'Batcopter' 和 'Batbat'。\n",
    "# 由于这些字符串都以 \"Bat\" 开头，因此可以只指定一次前缀。可以使用括号来实现这一点\n",
    "batRegex = re.compile(r'Bat(man|mobile|copter|bat)')\n",
    "mo = batRegex.search('Batmobile lost a wheel')\n",
    "print(mo.group())   # 输出: 'Batmobile'\n",
    "print(mo.group(1))  # 输出: 'mobile'\n"
   ]
  },
  {
   "cell_type": "markdown",
   "id": "4fd3116e-aecd-4f1f-bac2-f0fdfbcd7edb",
   "metadata": {},
   "source": [
    "### 可选匹配(?)"
   ]
  },
  {
   "cell_type": "code",
   "execution_count": 23,
   "id": "009e30db-baf7-47c7-ac78-b3cc3966a819",
   "metadata": {},
   "outputs": [
    {
     "name": "stdout",
     "output_type": "stream",
     "text": [
      "Batman\n",
      "Batwoman\n"
     ]
    }
   ],
   "source": [
    "# 这里的 (wo)? 部分表示模式 \"wo\" 是一个可选组。这个正则表达式会匹配包含零个实例或一个实例的 \"wo\"\n",
    "\n",
    "batRegex = re.compile(r'Bat(wo)?man')\n",
    "mo1 = batRegex.search('The Adventures of Batman')\n",
    "print(mo1.group())  # 输出: Batman\n",
    "\n",
    "mo2 = batRegex.search('The Adventures of Batwoman')\n",
    "print(mo2.group())  # 输出: Batwoman\n",
    "\n"
   ]
  },
  {
   "cell_type": "code",
   "execution_count": 24,
   "id": "d549f295-56d0-4600-af70-390d8f936f32",
   "metadata": {},
   "outputs": [],
   "source": [
    "### 正则表达式查找有或没有区号的电话号码"
   ]
  },
  {
   "cell_type": "code",
   "execution_count": 25,
   "id": "881b2f89-4cb3-4f27-b65c-de99986b7335",
   "metadata": {},
   "outputs": [
    {
     "name": "stdout",
     "output_type": "stream",
     "text": [
      "415-555-4242\n",
      "555-4242\n"
     ]
    }
   ],
   "source": [
    "# 如果你需要匹配实际的问号字符，请用 \\? 进行转义。\n",
    "phoneRegex = re.compile(r'(\\d{3}-)?\\d{3}-\\d{4}')\n",
    "mo1 = phoneRegex.search('My number is 415-555-4242')\n",
    "print(mo1.group())  # 输出: 415-555-4242\n",
    "\n",
    "mo2 = phoneRegex.search('My number is 555-4242')\n",
    "print(mo2.group())  # 输出: 555-4242\n"
   ]
  },
  {
   "cell_type": "markdown",
   "id": "0c5e13c3-9223-41c7-b192-6544bc514c7e",
   "metadata": {},
   "source": [
    "### 使用(*)匹配零次或多次"
   ]
  },
  {
   "cell_type": "code",
   "execution_count": 26,
   "id": "371b1f38-9d45-4f57-8e38-c09387b50532",
   "metadata": {},
   "outputs": [
    {
     "name": "stdout",
     "output_type": "stream",
     "text": [
      "Batman\n",
      "Batwoman\n",
      "Batwowowowoman\n"
     ]
    }
   ],
   "source": [
    "# (wo)* 匹配字符串中零次的 wo\n",
    "batRegex = re.compile(r'Bat(wo)*man')\n",
    "mo1 = batRegex.search('The Adventures of Batman')\n",
    "print(mo1.group())  # 输出: Batman\n",
    "\n",
    "mo2 = batRegex.search('The Adventures of Batwoman')\n",
    "print(mo2.group())  # 输出: Batwoman\n",
    "\n",
    "mo3 = batRegex.search('The Adventures of Batwowowowoman')\n",
    "print(mo3.group())  # 输出: Batwowowowoman\n"
   ]
  },
  {
   "cell_type": "markdown",
   "id": "9ba1d2b4-c038-4341-9f11-7a13f8249f5f",
   "metadata": {},
   "source": [
    "### 使用(+)匹配一个或多个"
   ]
  },
  {
   "cell_type": "code",
   "execution_count": 28,
   "id": "0dca9042-be64-4862-beff-4fb533c072d7",
   "metadata": {},
   "outputs": [
    {
     "name": "stdout",
     "output_type": "stream",
     "text": [
      "Batwoman\n",
      "Batwowowowoman\n",
      "True\n"
     ]
    }
   ],
   "source": [
    "#(wo)+匹配字符串中一个或多个的 wo\n",
    "# 正则表达式 Bat(wo)+man 不会匹配字符串 'The Adventures of Batman'，因为加号要求至少有一个 wo 的出现。\n",
    "batRegex = re.compile(r'Bat(wo)+man')\n",
    "mo1 = batRegex.search('The Adventures of Batwoman')\n",
    "print(mo1.group())  # 输出: Batwoman\n",
    "\n",
    "mo2 = batRegex.search('The Adventures of Batwowowowoman')\n",
    "print(mo2.group())  # 输出: Batwowowowoman\n",
    "\n",
    "mo3 = batRegex.search('The Adventures of Batman')\n",
    "print(mo3 == None)  # 输出: True\n"
   ]
  },
  {
   "cell_type": "markdown",
   "id": "d746229c-0389-441e-860f-0f9f0cfcb33f",
   "metadata": {},
   "source": [
    "### 使用花括号{}匹配特定次数"
   ]
  },
  {
   "cell_type": "code",
   "execution_count": 29,
   "id": "7db4ed89-911d-4ca8-a9a8-a0e6929e8b72",
   "metadata": {},
   "outputs": [
    {
     "name": "stdout",
     "output_type": "stream",
     "text": [
      "HaHaHa\n",
      "True\n"
     ]
    }
   ],
   "source": [
    "# (Ha){3}\n",
    "# (Ha)(Ha)(Ha)\n",
    "# Ha){3,5}\n",
    "# ((Ha)(Ha)(Ha))|((Ha)(Ha)(Ha)(Ha))|((Ha)(Ha)(Ha)(Ha)(Ha))\n",
    "\n",
    "haRegex = re.compile(r'(Ha){3}')\n",
    "mo1 = haRegex.search('HaHaHa')\n",
    "print(mo1.group())  # 输出: HaHaHa\n",
    "\n",
    "mo2 = haRegex.search('Ha')\n",
    "print(mo2 == None)  # 输出: True\n"
   ]
  },
  {
   "cell_type": "code",
   "execution_count": 34,
   "id": "1fab7a26-f99c-4a28-aa02-f8a7990312ae",
   "metadata": {},
   "outputs": [
    {
     "name": "stdout",
     "output_type": "stream",
     "text": [
      "HaHaHaHaHa\n",
      "HaHaHa\n"
     ]
    }
   ],
   "source": [
    "#贪婪匹配 \n",
    "#(Ha){3,5}，在字符串 'HaHaHaHaHa' 中，它会找到最长的匹配，即 'HaHaHaHaHa'，因为它符合3到5次的条件\n",
    "greedyHaRegex = re.compile(r'(Ha){3,5}')\n",
    "mo1 = greedyHaRegex.search('HaHaHaHaHa')\n",
    "print(mo1.group())  # 输出 'HaHaHaHaHa'\n",
    "\n",
    "\n",
    "#非贪婪版本的正则表达式 (Ha){3,5}?，则会找到最短的匹配，即 'HaHaHa'，因为它同样满足至少3次的条件\n",
    "nongreedyHaRegex = re.compile(r'(Ha){3,5}?')\n",
    "mo2 = nongreedyHaRegex.search('HaHaHaHaHa')\n",
    "print(mo2.group())  # 输出 'HaHaHa'\n"
   ]
  },
  {
   "cell_type": "markdown",
   "id": "b8776c28-dc94-4474-bad3-faa1e29f7ed2",
   "metadata": {},
   "source": [
    "### findall() "
   ]
  },
  {
   "cell_type": "code",
   "execution_count": 36,
   "id": "d4a899d7-95e7-45a3-ad85-401a2cd4eedb",
   "metadata": {},
   "outputs": [
    {
     "name": "stdout",
     "output_type": "stream",
     "text": [
      "415-555-9999\n",
      "['415-555-9999', '212-555-0000']\n"
     ]
    }
   ],
   "source": [
    "phoneNumRegex = re.compile(r'\\d\\d\\d-\\d\\d\\d-\\d\\d\\d\\d')\n",
    "mo = phoneNumRegex.search('Cell: 415-555-9999 Work: 212-555-0000')\n",
    "print(mo.group())  # 输出 '415-555-9999'\n",
    "\n",
    "# findall() 方法返回一个字符串匹配的列表\n",
    "phoneNumRegex = re.compile(r'\\d\\d\\d-\\d\\d\\d-\\d\\d\\d\\d')  # 无分组\n",
    "print(phoneNumRegex.findall('Cell: 415-555-9999 Work: 212-555-0000'))\n",
    "# 输出 ['415-555-9999', '212-555-0000']\n"
   ]
  },
  {
   "cell_type": "markdown",
   "id": "23fb6573-bd1f-4b21-b327-90e961c25dc9",
   "metadata": {},
   "source": [
    "### 字符类"
   ]
  },
  {
   "cell_type": "markdown",
   "id": "a62dc26c-fd82-4964-ac46-fd155e447ee1",
   "metadata": {},
   "source": [
    "| 简写    | 表示                               |\n",
    "| ------- | ---------------------------------- |\n",
    "| `\\d`   | 任意数字字符，范围为 0 到 9。      |\n",
    "| `\\D`   | 任何不是数字字符的字符。          |\n",
    "| `\\w`   | 任何字母、数字字符或下划线字符。  |\n",
    "| `\\W`   | 任何不是字母、数字字符或下划线的字符。 |\n",
    "| `\\s`   | 任何空格、制表符或换行字符。      |\n",
    "| `\\S`   | 任何不是空格、制表符或换行的字符。 |\n"
   ]
  },
  {
   "cell_type": "code",
   "execution_count": 38,
   "id": "8f5b2d9e-dc0c-4790-9dba-c93fb84f9d7c",
   "metadata": {},
   "outputs": [
    {
     "name": "stdout",
     "output_type": "stream",
     "text": [
      "['12 drummers', '11 pipers', '10 lords', '9 ladies', '8 maids', '7 swans', '6 geese', '5 rings', '4 birds', '3 hens', '2 doves', '1 partridge']\n"
     ]
    }
   ],
   "source": [
    "# 字符类 [0-5] 仅匹配数字 0 到 5\n",
    "# 正则表达式 \\d+\\s\\w+ 将匹配包含一个或多个数字字符（\\d+），\n",
    "# 后跟一个空白字符（\\s），\n",
    "# 再后跟一个或多个字母/数字/下划线字符（\\w+）的文本。\n",
    "# findall() 方法返回与该正则表达式模式匹配的所有字符串，并以列表形式返回\n",
    "xmasRegex = re.compile(r'\\d+\\s\\w+')\n",
    "print(xmasRegex.findall('12 drummers, 11 pipers, 10 lords, 9 ladies, 8 maids, 7 swans, 6 geese, 5 rings, 4 birds, 3 hens, 2 doves, 1 partridge'))\n"
   ]
  },
  {
   "cell_type": "markdown",
   "id": "a2efefc9-4348-4f3d-a49c-ff5888f4bddb",
   "metadata": {},
   "source": [
    "### 创建自定义字符类"
   ]
  },
  {
   "cell_type": "code",
   "execution_count": 39,
   "id": "f8a393c5-19a6-400a-9495-45913052c5c2",
   "metadata": {},
   "outputs": [
    {
     "name": "stdout",
     "output_type": "stream",
     "text": [
      "['o', 'o', 'o', 'e', 'a', 'a', 'o', 'o', 'A', 'O', 'O']\n"
     ]
    }
   ],
   "source": [
    "# 字符类 [aeiouAEIOU] 将匹配任何元音字母，无论是小写还是大写\n",
    "vowelRegex = re.compile(r'[aeiouAEIOU]')\n",
    "print(vowelRegex.findall('RoboCop eats baby food. BABY FOOD.'))\n"
   ]
  },
  {
   "cell_type": "code",
   "execution_count": 43,
   "id": "384729d7-6bcf-46f3-9e0b-c7ba602ca619",
   "metadata": {},
   "outputs": [
    {
     "name": "stdout",
     "output_type": "stream",
     "text": [
      "['R', 'b', 'C', 'p', ' ', 't', 's', ' ', 'b', 'b', 'y', ' ', 'f', 'd', '.', ' ', 'B', 'B', 'Y', ' ', 'F', 'D', '.']\n"
     ]
    }
   ],
   "source": [
    "# ^你可以创建一个负字符类。负字符类将匹配所有不在字符类中的字符\n",
    "consonantRegex = re.compile(r'[^aeiouAEIOU]')\n",
    "print(consonantRegex.findall('RoboCop eats baby food. BABY FOOD.'))\n"
   ]
  },
  {
   "cell_type": "markdown",
   "id": "0cbc88e3-cdaa-470a-84dd-8d0d026628fd",
   "metadata": {},
   "source": [
    "### 插入符号(^)和美元符号($)  \n",
    "\n",
    "(^)来指示匹配必须发生在搜索文本的开头  \n",
    "\n",
    "($)以指示字符串必须以该正则表达式模式结尾"
   ]
  },
  {
   "cell_type": "code",
   "execution_count": 47,
   "id": "561c7f6c-15fe-4ade-9c31-7824b17e67f4",
   "metadata": {},
   "outputs": [
    {
     "name": "stdout",
     "output_type": "stream",
     "text": [
      "<re.Match object; span=(0, 5), match='Hello'>\n",
      "True\n"
     ]
    }
   ],
   "source": [
    "# 正则表达式 r'^Hello' 匹配以 \"Hello\" 开头的字符串\n",
    "beginsWithHello = re.compile(r'^Hello')\n",
    "print(beginsWithHello.search('Hello world!'))\n",
    "print(beginsWithHello.search('He said hello.') == None)\n"
   ]
  },
  {
   "cell_type": "code",
   "execution_count": 48,
   "id": "7356140d-299d-415d-a5f5-228fcc7bbdc5",
   "metadata": {},
   "outputs": [
    {
     "name": "stdout",
     "output_type": "stream",
     "text": [
      "<re.Match object; span=(0, 10), match='1234567890'>\n",
      "True\n",
      "True\n"
     ]
    }
   ],
   "source": [
    "# 正则表达式 r'^\\d+$' 匹配以一个或多个数字字符开头和结尾的字符串\n",
    "wholeStringIsNum = re.compile(r'^\\d+$')\n",
    "print(wholeStringIsNum.search('1234567890'))\n",
    "print(wholeStringIsNum.search('12345xyz67890') == None)\n",
    "print(wholeStringIsNum.search('12 34567890') == None)\n"
   ]
  },
  {
   "cell_type": "markdown",
   "id": "f1c8a7d2-ad6a-4af8-95a8-c5ebec2fccfc",
   "metadata": {},
   "source": [
    "### 通配符字符"
   ]
  },
  {
   "cell_type": "code",
   "execution_count": 51,
   "id": "854c26c0-9aa4-43c8-b203-f86865d27a16",
   "metadata": {},
   "outputs": [
    {
     "name": "stdout",
     "output_type": "stream",
     "text": [
      "['cat', 'hat', 'sat', 'lat', 'mat']\n"
     ]
    }
   ],
   "source": [
    "# 在正则表达式中，.（点）字符被称为通配符，可以匹配任何字符（除了换行符）\n",
    "import re\n",
    "\n",
    "atRegex = re.compile(r'.at')\n",
    "result = atRegex.findall('The cat in the hat sat on the flat mat.')\n",
    "print(result)  # 输出: ['cat', 'hat', 'sat', 'lat', 'mat']\n",
    "\n"
   ]
  },
  {
   "cell_type": "code",
   "execution_count": 52,
   "id": "d7057020-4f13-4751-b2c0-3b9f6ed28926",
   "metadata": {},
   "outputs": [
    {
     "name": "stdout",
     "output_type": "stream",
     "text": [
      "Al\n",
      "Sweigart\n"
     ]
    }
   ],
   "source": [
    "# 可以使用点星号 .* 来表示“任意内容”。请记住，点字符表示“任何单个字符（除了换行符）”，而星号字符表示“零个或多个前面的字符”\n",
    "# 点星号使用贪婪模式：它会尽可能多地匹配文本\n",
    "nameRegex = re.compile(r'First Name: (.*) Last Name: (.*)')\n",
    "mo = nameRegex.search('First Name: Al Last Name: Sweigart')\n",
    "print(mo.group(1))  # 输出: 'Al'\n",
    "print(mo.group(2))  # 输出: 'Sweigart'\n"
   ]
  },
  {
   "cell_type": "code",
   "execution_count": 55,
   "id": "c6e25c0d-6aa8-432a-a82a-aafa526252ef",
   "metadata": {},
   "outputs": [
    {
     "name": "stdout",
     "output_type": "stream",
     "text": [
      "<To serve man>\n",
      "<To serve man>\n"
     ]
    }
   ],
   "source": [
    "# 非贪婪方式匹配所有文本，可以使用点、星号和问号 .*?\n",
    "nongreedyRegex = re.compile(r'<.*?>')\n",
    "mo = nongreedyRegex.search('<To serve man> for dinner.')\n",
    "print(mo.group())  # 输出: '<To serve man>'\n",
    "\n",
    "greedyRegex = re.compile(r'<.*>')\n",
    "mo = greedyRegex.search('<To serve man> for dinner.')\n",
    "print(mo.group())  # 输出: '<To serve man> for dinner.>'\n"
   ]
  },
  {
   "cell_type": "code",
   "execution_count": 56,
   "id": "c89451a6-34d4-48b9-a09d-1ad5bd4fd582",
   "metadata": {},
   "outputs": [
    {
     "name": "stdout",
     "output_type": "stream",
     "text": [
      "Serve the public trust.\n",
      "Serve the public trust.\n",
      "Protect the innocent.\n",
      "Uphold the law.\n"
     ]
    }
   ],
   "source": [
    "# 点星号 .* 默认情况下会匹配所有字符，除了换行符。\n",
    "# 通过将 re.DOTALL 作为第二个参数传递给 re.compile()，可以使点字符匹配所有字符，包括换行符\n",
    "import re\n",
    "\n",
    "# 不包含 re.DOTALL 的正则表达式\n",
    "noNewlineRegex = re.compile('.*')\n",
    "# 查找匹配项\n",
    "result1 = noNewlineRegex.search('Serve the public trust.\\nProtect the innocent.\\nUphold the law.').group()\n",
    "# 打印结果\n",
    "print(result1)  # 输出: 'Serve the public trust.'\n",
    "\n",
    "# 包含 re.DOTALL 的正则表达式\n",
    "newlineRegex = re.compile('.*', re.DOTALL)\n",
    "# 查找匹配项\n",
    "result2 = newlineRegex.search('Serve the public trust.\\nProtect the innocent.\\nUphold the law.').group()\n",
    "# 打印结果\n",
    "print(result2)  \n",
    "# 输出: \n",
    "# 'Serve the public trust.\n",
    "# Protect the innocent.\n",
    "# Uphold the law.'\n"
   ]
  },
  {
   "cell_type": "markdown",
   "id": "ca39af15-ec79-4b2a-ae16-acead88bea57",
   "metadata": {},
   "source": [
    "### 正则表达式\n",
    "?：匹配前面的组零次或一次。  \n",
    "*：匹配前面的组零次或多次。  \n",
    "+：匹配前面的组一次或多次。  \n",
    "{n}：匹配前面的组恰好 n 次。  \n",
    "{n,}：匹配前面的组至少 n 次。  \n",
    "{,m}：匹配前面的组最多 m 次。  \n",
    "{n,m}：匹配前面的组至少 n 次且至多 m 次。  \n",
    "{n,m}?、*?、+?：执行前面的组的非贪婪匹配。  \n",
    "^spam：表示字符串必须以 \"spam\" 开头。  \n",
    "spam$：表示字符串必须以 \"spam\" 结尾。  \n",
    ".：匹配任何字符，除了换行符。    \n",
    "\\d、\\w、\\s：分别匹配数字、单词字符或空格字符。   \n",
    "\\D、\\W、\\S：分别匹配不是数字、单词字符或空格字符的任何字符。  \n",
    "[abc]：匹配方括号内的任意字符（例如 a、b 或 c）。   \n",
    "[^abc]：匹配不在方括号内的任意字符。   "
   ]
  },
  {
   "cell_type": "markdown",
   "id": "231bb9fc-fee6-4552-b029-7ac1468b08ee",
   "metadata": {},
   "source": [
    "### 不区分大小写的匹配"
   ]
  },
  {
   "cell_type": "code",
   "execution_count": 59,
   "id": "f439f3c5-26c9-48b9-b8f0-87943ee02b9d",
   "metadata": {},
   "outputs": [],
   "source": [
    "# 要使您的正则表达式不区分大小写，您可以将 re.IGNORECASE 或 re.I 作为第二个参数传递给 re.compile()\n",
    "\n",
    "import re\n",
    "\n",
    "robocop = re.compile(r'robocop', re.I)\n",
    "result1 = robocop.search('RoboCop is part man, part machine, all cop.').group()\n",
    "result2 = robocop.search('ROBOCOP protects the innocent.').group()\n",
    "result3 = robocop.search('Al, why does your programming book talk about robocop so much?').group()\n"
   ]
  },
  {
   "cell_type": "markdown",
   "id": "446877a6-cacd-4306-abe5-bc93e1c663a5",
   "metadata": {},
   "source": [
    "### 用 sub() 方法替换字符串"
   ]
  },
  {
   "cell_type": "code",
   "execution_count": 60,
   "id": "f00a9c46-0950-4bc0-bc9d-641db4bde3f2",
   "metadata": {},
   "outputs": [
    {
     "name": "stdout",
     "output_type": "stream",
     "text": [
      "CENSORED gave the secret documents to CENSORED.\n"
     ]
    }
   ],
   "source": [
    "import re\n",
    "\n",
    "namesRegex = re.compile(r'Agent \\w+')\n",
    "result = namesRegex.sub('CENSORED', 'Agent Alice gave the secret documents to Agent Bob.')\n",
    "print(result)"
   ]
  },
  {
   "cell_type": "code",
   "execution_count": 62,
   "id": "928f0ba6-c3cc-4bdc-ab4f-d02ec6df0afd",
   "metadata": {},
   "outputs": [
    {
     "name": "stdout",
     "output_type": "stream",
     "text": [
      "A**** told C**** that E**** knew B**** was a double agent.\n"
     ]
    }
   ],
   "source": [
    "import re\n",
    "\n",
    "agentNamesRegex = re.compile(r'Agent (\\w)\\w*')\n",
    "result = agentNamesRegex.sub(r'\\1****', 'Agent Alice told Agent Carol that Agent Eve knew Agent Bob was a double agent.')\n",
    "print(result)\n"
   ]
  },
  {
   "cell_type": "markdown",
   "id": "e7235e86-a2c3-4f51-8bad-0688262880b3",
   "metadata": {},
   "source": [
    "### verbose mode(详细模式)"
   ]
  },
  {
   "cell_type": "code",
   "execution_count": 2,
   "id": "2208d931-e0f9-45b8-8b76-03e08248f3e6",
   "metadata": {},
   "outputs": [],
   "source": [
    "import re\n",
    "# 正则表达式用来匹配电话号码，但它非常长，难以一眼看懂\n",
    "phoneRegex = re.compile(r'((\\d{3}|\\(\\d{3}\\))?(\\s|-|\\.)?\\d{3}(\\s|-|\\.)\\d{4}(\\s*(ext|x|ext.)\\s*\\d{2,5})?)')\n",
    "# 使用 re.VERBOSE（更易读）\n",
    "# 使用三引号（'''）将正则表达式分成多行，使得代码更加清晰、易读\n",
    "phoneRegex = re.compile(r'''(\n",
    "    (\\d{3}|\\(\\d{3}\\))?     # 区号（可以是3个数字或(XXX)格式）\n",
    "    (\\s|-|\\.)?             # 可选的分隔符（空格、连字符或点）\n",
    "    \\d{3}                  # 前3位数字\n",
    "    (\\s|-|\\.)              # 分隔符（空格、连字符或点）\n",
    "    \\d{4}                  # 后4位数字\n",
    "    (\\s*(ext|x|ext.)\\s*\\d{2,5})?  # 可选的扩展号码（ext、x或ext.，后跟2到5个数字）\n",
    ")''', re.VERBOSE)\n",
    "\n"
   ]
  },
  {
   "cell_type": "markdown",
   "id": "11d85540-9c7c-493f-ad52-85b03b7f54f9",
   "metadata": {},
   "source": [
    "### 同时启用多个选项（比如 re.VERBOSE、re.IGNORECASE 和 re.DOTALL），可以使用按位或运算符（|）来组合它们"
   ]
  },
  {
   "cell_type": "code",
   "execution_count": 3,
   "id": "2fb08831-1cdb-4d3c-9f57-cfa27677647c",
   "metadata": {},
   "outputs": [
    {
     "name": "stdout",
     "output_type": "stream",
     "text": [
      "FOO\n"
     ]
    }
   ],
   "source": [
    "# re.IGNORECASE：使得匹配不区分大小写。\n",
    "# re.DOTALL：使得 .（点号）匹配包括换行符在内的任何字符。\n",
    "# re.VERBOSE：允许在正则表达式中使用多行和注释，增加可读性。\n",
    "import re\n",
    "\n",
    "# 正则表达式：忽略大小写，允许点号匹配换行符，且可以使用注释\n",
    "someRegexValue = re.compile(r'''foo  # 匹配 'foo'\n",
    "''', re.IGNORECASE | re.DOTALL | re.VERBOSE)\n",
    "\n",
    "# 测试匹配\n",
    "match = someRegexValue.search(\"FOO\\nbar\")\n",
    "print(match.group())  # 输出 'FOO'\n"
   ]
  },
  {
   "cell_type": "markdown",
   "id": "6f94806a-fd98-4ddf-acaf-8c43dfc8b019",
   "metadata": {},
   "source": [
    "### 综合"
   ]
  },
  {
   "cell_type": "code",
   "execution_count": 23,
   "id": "db29f2da-394d-44c3-a2b8-c50d27b6944e",
   "metadata": {
    "scrolled": true
   },
   "outputs": [
    {
     "name": "stdout",
     "output_type": "stream",
     "text": [
      "Copied to clipboard:\n",
      "186-234-5678\n",
      "yc892254@gmail.com\n"
     ]
    }
   ],
   "source": [
    "import pyperclip, re\n",
    "\n",
    "# 创建电话号码正则表达式\n",
    "phoneRegex = re.compile(r'''(\n",
    "        (\\d{3}|\\(\\d{3}\\))? # 区号\n",
    "        (\\s|-|\\.)? # 分隔符\n",
    "        (\\d{3}) # 前3位数字\n",
    "        (\\s|-|\\.)? # 分隔符\n",
    "        (\\d{4}) # 后4位数字\n",
    "        (\\s*(ext|x|ext.)\\s*(\\d{2,5}))? # 扩展号\n",
    ")''', re.VERBOSE)\n",
    "\n",
    "# 创建电子邮件正则表达式\n",
    "emailRegex = re.compile(r'''(\n",
    "        [a-zA-Z0-9._%+-]+ # 用户名\n",
    "        @ # @ 符号\n",
    "        [a-zA-Z0-9.-]+ # 域名\n",
    "        (\\.[a-zA-Z]{2,4}) # 顶级域名\n",
    ")''', re.VERBOSE)\n",
    "\n",
    "# 获取剪贴板文本\n",
    "text = str(pyperclip.paste())\n",
    "\n",
    "matches = []\n",
    "\n",
    "# 查找电话号码\n",
    "for groups in phoneRegex.findall(text):\n",
    "    # 格式化电话号码\n",
    "    phoneNum = '-'.join([groups[1], groups[3], groups[5]])\n",
    "    # 检查是否有扩展号，并添加\n",
    "    if len(groups) > 8 and groups[8] != '':  # 如果扩展号存在\n",
    "        phoneNum += ' x' + groups[8]\n",
    "    matches.append(phoneNum)\n",
    "\n",
    "# 查找电子邮件地址\n",
    "for groups in emailRegex.findall(text):\n",
    "    matches.append(groups[0])  # 电子邮件是组的第一个匹配项\n",
    "\n",
    "# 将结果复制到剪贴板\n",
    "if len(matches) > 0:\n",
    "    pyperclip.copy('\\n'.join(matches))\n",
    "    print('Copied to clipboard:')\n",
    "    print('\\n'.join(matches))\n",
    "else:\n",
    "    print('No phone numbers or email addresses found.')\n"
   ]
  },
  {
   "cell_type": "code",
   "execution_count": null,
   "id": "1042a088-9f18-43ad-9ecd-17ca05e99c52",
   "metadata": {},
   "outputs": [],
   "source": []
  }
 ],
 "metadata": {
  "kernelspec": {
   "display_name": "Python 3 (ipykernel)",
   "language": "python",
   "name": "python3"
  },
  "language_info": {
   "codemirror_mode": {
    "name": "ipython",
    "version": 3
   },
   "file_extension": ".py",
   "mimetype": "text/x-python",
   "name": "python",
   "nbconvert_exporter": "python",
   "pygments_lexer": "ipython3",
   "version": "3.12.7"
  }
 },
 "nbformat": 4,
 "nbformat_minor": 5
}
