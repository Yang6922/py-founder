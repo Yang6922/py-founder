{
 "cells": [
  {
   "cell_type": "code",
   "execution_count": 1,
   "id": "308fb55c-eb11-49ba-bd74-2710b20cc1e1",
   "metadata": {},
   "outputs": [
    {
     "name": "stdout",
     "output_type": "stream",
     "text": [
      "-86.0°F\n",
      "-\n",
      "30\n",
      "℃\n"
     ]
    }
   ],
   "source": [
    "def temperatureConvert(input_temp):\n",
    "    # -30℃\n",
    "    input_retemp = input_temp.upper();\n",
    "    sign_head  = input_retemp[0]\n",
    "    sign_tail  = input_retemp[-1]\n",
    "    temp_value = None\n",
    "    real_temp  = None\n",
    "    if sign_head in ['+','-']:\n",
    "        temp_value = input_retemp[1:-1]\n",
    "    else:\n",
    "        sign_head  = '+'\n",
    "        temp_value = input_retemp[0:-1]\n",
    "    try:\n",
    "        real_temp = float(temp_value)\n",
    "    except Exception as e:\n",
    "        print('输入的温度数值格式不正确');\n",
    "        \n",
    "    if sign_tail == '℃':\n",
    "        celsius   = (real_temp * 9/5) + 32\n",
    "        result    = f'{sign_head}{celsius}°F'\n",
    "        print(result)\n",
    "    elif sign_tail == '°F':\n",
    "        fahrenheit = (real_temp - 32) * 5/9\n",
    "        result    = f'{sign_head}{fahrenheit}℃'\n",
    "        print(result)\n",
    "    else:\n",
    "       print('输入格式不合法')\n",
    "    print(sign_head)\n",
    "    print(temp_value)\n",
    "    print(sign_tail)\n",
    "    \n",
    "temperatureConvert('-30℃')"
   ]
  },
  {
   "cell_type": "code",
   "execution_count": 2,
   "id": "d5939e4e-0cdf-4091-870e-db1092541449",
   "metadata": {},
   "outputs": [
    {
     "name": "stdout",
     "output_type": "stream",
     "text": [
      "壹佰贰拾叁万肆仟伍佰陆拾柒元捌角玖分\n",
      "壹佰零壹仟零壹元整\n",
      "零元整\n"
     ]
    }
   ],
   "source": [
    "# 定义人民币大写转换的函数\n",
    "def num_to_rmb_upper(num):\n",
    "    # 定义中文大写数字和单位\n",
    "    cn_nums = [\"零\", \"壹\", \"贰\", \"叁\", \"肆\", \"伍\", \"陆\", \"柒\", \"捌\", \"玖\"]\n",
    "    cn_units = [\"\", \"拾\", \"佰\", \"仟\"]\n",
    "    cn_int_radices = [\"\", \"万\", \"亿\", \"兆\"]\n",
    "    cn_dec_units = [\"角\", \"分\"]\n",
    "    rmb_suffix = \"元\"\n",
    "    cn_negative = \"负\"\n",
    "    cn_integer = \"整\"\n",
    "\n",
    "    # 处理负数\n",
    "    if num < 0:\n",
    "        return cn_negative + num_to_rmb_upper(-num)\n",
    "\n",
    "    # 拆分整数和小数部分\n",
    "    str_num = f\"{num:.2f}\"\n",
    "    integer_part, decimal_part = str_num.split(\".\")\n",
    "\n",
    "    result = \"\"\n",
    "    # 转换整数部分\n",
    "    if int(integer_part) > 0:\n",
    "        zero_flag = False  # 零标志\n",
    "        int_len = len(integer_part)\n",
    "        for i, digit in enumerate(integer_part):\n",
    "            # 当前数字和单位\n",
    "            num = int(digit)\n",
    "            if num != 0:\n",
    "                if zero_flag:\n",
    "                    result += cn_nums[0]  # 补零\n",
    "                result += cn_nums[num] + cn_units[(int_len - i - 1) % 4]\n",
    "                zero_flag = False\n",
    "            else:\n",
    "                zero_flag = True\n",
    "            # 万、亿、兆单位\n",
    "            if (int_len - i - 1) % 4 == 0 and zero_flag is False:\n",
    "                result += cn_int_radices[(int_len - i - 1) // 4]\n",
    "        result += rmb_suffix\n",
    "    else:\n",
    "        result += cn_nums[0] + rmb_suffix\n",
    "\n",
    "    # 转换小数部分\n",
    "    if int(decimal_part) > 0:\n",
    "        for i, digit in enumerate(decimal_part[:2]):\n",
    "            num = int(digit)\n",
    "            if num != 0:\n",
    "                result += cn_nums[num] + cn_dec_units[i]\n",
    "    else:\n",
    "        result += cn_integer\n",
    "\n",
    "    return result\n",
    "\n",
    "\n",
    "# 测试\n",
    "print(num_to_rmb_upper(1234567.89))  # 输出: 壹佰贰拾叁万肆仟伍佰陆拾柒元捌角玖分\n",
    "print(num_to_rmb_upper(1001001.00))  # 输出: 壹佰万壹仟零壹元整\n",
    "print(num_to_rmb_upper(0))           # 输出: 零元整\n"
   ]
  },
  {
   "cell_type": "code",
   "execution_count": null,
   "id": "c8b516e2-5250-40dc-ac4a-d8908075e657",
   "metadata": {},
   "outputs": [],
   "source": []
  }
 ],
 "metadata": {
  "kernelspec": {
   "display_name": "Python 3 (ipykernel)",
   "language": "python",
   "name": "python3"
  },
  "language_info": {
   "codemirror_mode": {
    "name": "ipython",
    "version": 3
   },
   "file_extension": ".py",
   "mimetype": "text/x-python",
   "name": "python",
   "nbconvert_exporter": "python",
   "pygments_lexer": "ipython3",
   "version": "3.12.7"
  }
 },
 "nbformat": 4,
 "nbformat_minor": 5
}
