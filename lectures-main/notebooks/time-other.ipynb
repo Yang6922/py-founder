{
 "cells": [
  {
   "cell_type": "markdown",
   "id": "6d3f2277-ebe2-42b6-8d9e-f142d555be81",
   "metadata": {},
   "source": [
    "### Python 中 time 模块"
   ]
  },
  {
   "cell_type": "markdown",
   "id": "7a3051b1-0560-436d-bf4c-b3631d088e6b",
   "metadata": {},
   "source": [
    "### datetime.datetime 类\n",
    "\n",
    "### 时间函数\n",
    "\n",
    "- `time.time()`  \n",
    "  返回当前时刻的 Unix 时间戳（一个浮动值，表示自1970年起的秒数）。\n",
    "\n",
    "- `time.sleep(seconds)`  \n",
    "  暂停程序执行指定的秒数。\n",
    "\n",
    "- `datetime.datetime(year, month, day, hour, minute, second)`  \n",
    "  根据给定的参数创建并返回一个 `datetime` 对象，表示特定的时间点。如果未提供小时、分钟和秒钟参数，默认为 0。\n",
    "\n",
    "- `datetime.datetime.now()`  \n",
    "  返回当前日期和时间的 `datetime` 对象。\n",
    "\n",
    "- `datetime.datetime.fromtimestamp(epoch)`  \n",
    "  将 Unix 时间戳（epoch）转换为对应的 `datetime` 对象。\n",
    "\n",
    "- `datetime.timedelta()`  \n",
    "  表示时间间隔（如周、天、小时、分钟、秒等），可以用于日期和时间的加减运算。\n",
    "\n",
    "- `timedelta.total_seconds()`  \n",
    "  返回 `timedelta` 对象表示的总秒数。\n",
    "\n",
    "- `datetime.datetime.strftime(format)`  \n",
    "  根据指定的格式字符串，将 `datetime` 对象转换为字符串。格式字符串使用特殊的指令（例如：`%Y`、`%m`、`%d` 等）来控制输出格式。\n",
    "\n",
    "- `datetime.datetime.strptime(time_string, format)`  \n",
    "  根据给定的格式字符串（`format`），将字符串（`time_string`）解析为一个 `datetime` 对象。\n"
   ]
  },
  {
   "cell_type": "code",
   "execution_count": 1,
   "id": "2876ecf7-f618-446d-9d2d-df96747e53d0",
   "metadata": {},
   "outputs": [
    {
     "name": "stdout",
     "output_type": "stream",
     "text": [
      "2024-11-09 09:43:43.331558\n"
     ]
    }
   ],
   "source": [
    "import datetime\n",
    "\n",
    "# 获取当前时间(年、月、日、小时、分钟、秒和微秒)\n",
    "now = datetime.datetime.now()\n",
    "print(now)\n"
   ]
  },
  {
   "cell_type": "code",
   "execution_count": 3,
   "id": "159c3111-1de6-47de-b553-b58750c4be04",
   "metadata": {},
   "outputs": [
    {
     "name": "stdout",
     "output_type": "stream",
     "text": [
      "2015 10 21\n",
      "16 29 0\n"
     ]
    }
   ],
   "source": [
    "dt = datetime.datetime(2015, 10, 21, 16, 29, 0)\n",
    "print(dt.year, dt.month, dt.day)\n",
    "print(dt.hour, dt.minute, dt.second)\n",
    "\n"
   ]
  },
  {
   "cell_type": "code",
   "execution_count": 4,
   "id": "e5f85483-f59c-4986-bcf3-06d496b33516",
   "metadata": {},
   "outputs": [
    {
     "name": "stdout",
     "output_type": "stream",
     "text": [
      "True\n",
      "False\n",
      "True\n",
      "True\n"
     ]
    }
   ],
   "source": [
    "# 比较日期和时间\n",
    "halloween2015 = datetime.datetime(2015, 10, 31, 0, 0, 0)\n",
    "newyears2016 = datetime.datetime(2016, 1, 1, 0, 0, 0)\n",
    "oct31_2015 = datetime.datetime(2015, 10, 31, 0, 0, 0)\n",
    "\n",
    "print(halloween2015 == oct31_2015)  # True\n",
    "print(halloween2015 > newyears2016)  # False\n",
    "print(newyears2016 > halloween2015)  # True\n",
    "print(newyears2016 != oct31_2015)  # True\n"
   ]
  },
  {
   "cell_type": "code",
   "execution_count": 5,
   "id": "9a1fc941-cff4-4b37-853a-564ea7cc5c1f",
   "metadata": {},
   "outputs": [
    {
     "name": "stdout",
     "output_type": "stream",
     "text": [
      "11 36548 0\n",
      "986948.0\n",
      "11 days, 10:09:08\n"
     ]
    }
   ],
   "source": [
    "# timedelta 类：表示时间间隔\n",
    "delta = datetime.timedelta(days=11, hours=10, minutes=9, seconds=8)\n",
    "print(delta.days, delta.seconds, delta.microseconds)\n",
    "print(delta.total_seconds())  # 获取总秒数\n",
    "print(str(delta))  # 将时间差转换为人类可读的字符串\n"
   ]
  },
  {
   "cell_type": "code",
   "execution_count": 6,
   "id": "9add91f9-d15b-4afe-b636-c2b476be7740",
   "metadata": {},
   "outputs": [
    {
     "name": "stdout",
     "output_type": "stream",
     "text": [
      "2027-08-06 09:46:34.622545\n"
     ]
    }
   ],
   "source": [
    "# 计算距离当前日期 1000 天后的日期\n",
    "dt = datetime.datetime.now()\n",
    "thousandDays = datetime.timedelta(days=1000)\n",
    "new_date = dt + thousandDays\n",
    "print(new_date)\n"
   ]
  },
  {
   "cell_type": "code",
   "execution_count": 7,
   "id": "22763b7a-1cb5-490f-b72f-f6f2aa64834c",
   "metadata": {},
   "outputs": [
    {
     "name": "stdout",
     "output_type": "stream",
     "text": [
      "1985-10-28 16:29:00\n",
      "1955-11-05 16:29:00\n"
     ]
    }
   ],
   "source": [
    "oct21st = datetime.datetime(2015, 10, 21, 16, 29, 0)\n",
    "aboutThirtyYears = datetime.timedelta(days=365 * 30)\n",
    "\n",
    "print(oct21st - aboutThirtyYears)  # 30年前的日期\n",
    "print(oct21st - (2 * aboutThirtyYears))  # 60年前的日期\n"
   ]
  },
  {
   "cell_type": "markdown",
   "id": "5c53fa27-88d5-475c-af12-9311a58a5759",
   "metadata": {},
   "source": [
    "### 将 datetime 对象转换为字符串\n",
    "| 指令 | 含义 |\n",
    "|------|------|\n",
    "| `%Y` | 带世纪的年份（例如：'2014'） |\n",
    "| `%y` | 不带世纪的年份（例如：'00' 到 '99'） |\n",
    "| `%m` | 月份（'01' 到 '12'） |\n",
    "| `%B` | 完整的月份名称（例如：'November'） |\n",
    "| `%b` | 缩写的月份名称（例如：'Nov'） |\n",
    "| `%d` | 月中的日期（'01' 到 '31'） |\n",
    "| `%j` | 一年中的第几天（'001' 到 '366'） |\n",
    "| `%w` | 星期几（'0' 到 '6'，其中 0 是星期天） |\n",
    "| `%A` | 完整的星期名称（例如：'Monday'） |\n",
    "| `%a` | 缩写的星期名称（例如：'Mon'） |\n",
    "| `%H` | 24 小时制小时（'00' 到 '23'） |\n",
    "| `%I` | 12 小时制小时（'01' 到 '12'） |\n",
    "| `%M` | 分钟（'00' 到 '59'） |\n",
    "| `%S` | 秒（'00' 到 '59'） |\n",
    "| `%p` | 'AM' 或 'PM' |\n",
    "| `%%` | 字符 '%' |\n"
   ]
  },
  {
   "cell_type": "code",
   "execution_count": 9,
   "id": "247f88a6-75fb-4838-bbed-df4abc0dc98f",
   "metadata": {},
   "outputs": [
    {
     "name": "stdout",
     "output_type": "stream",
     "text": [
      "2024-11-09 09:48:46\n",
      "Saturday, November 09, 2024\n"
     ]
    }
   ],
   "source": [
    "import datetime\n",
    "\n",
    "# 当前时间\n",
    "now = datetime.datetime.now()\n",
    "\n",
    "# 格式化为 '年-月-日 小时:分钟:秒'\n",
    "formatted_time = now.strftime(\"%Y-%m-%d %H:%M:%S\")\n",
    "print(formatted_time)\n",
    "# 格式化为 \"星期几, 月 日, 年\"\n",
    "formatted_time = now.strftime(\"%A, %B %d, %Y\")\n",
    "print(formatted_time)\n",
    "\n"
   ]
  },
  {
   "cell_type": "markdown",
   "id": "e1ffbba7-8895-4c1a-af44-2ba177f576e7",
   "metadata": {},
   "source": [
    "### 时间戳转为日期"
   ]
  },
  {
   "cell_type": "code",
   "execution_count": 11,
   "id": "e3adcfa3-396b-4474-a8e9-4ff52c25e68a",
   "metadata": {},
   "outputs": [
    {
     "name": "stdout",
     "output_type": "stream",
     "text": [
      "UTC 时间: 2024-01-12 02:20:00\n",
      "本地时间: 2024-01-12 10:20:00\n"
     ]
    }
   ],
   "source": [
    "    # 时间戳（以秒为单位）\n",
    "    timestamp = 1705026000\n",
    "\n",
    "    # 转换为 UTC 时间(世界标准时间)\n",
    "    utc_time = datetime.datetime.utcfromtimestamp(timestamp)\n",
    "\n",
    "    # 转换为本地时间（北京时间 UTC + 8小时）\n",
    "    local_time = datetime.datetime.fromtimestamp(timestamp)\n",
    "\n",
    "    # 格式化为日志格式\n",
    "    log_format = \"%Y-%m-%d %H:%M:%S\"\n",
    "    formatted_utc_time = utc_time.strftime(log_format)\n",
    "    formatted_local_time = local_time.strftime(log_format)\n",
    "\n",
    "    print(f\"UTC 时间: {formatted_utc_time}\")\n",
    "    print(f\"本地时间: {formatted_local_time}\")"
   ]
  },
  {
   "cell_type": "markdown",
   "id": "150d3686-e09c-41b4-8a74-ffc79c949477",
   "metadata": {},
   "source": [
    "### 视频时长毫秒转换"
   ]
  },
  {
   "cell_type": "code",
   "execution_count": 12,
   "id": "a0bdca74-b555-4227-8317-605c3db39866",
   "metadata": {},
   "outputs": [
    {
     "name": "stdout",
     "output_type": "stream",
     "text": [
      "02:05\n"
     ]
    }
   ],
   "source": [
    "duration = 125000 \n",
    "total_seconds = round(duration / 1000)\n",
    "minutes = total_seconds // 60\n",
    "seconds = total_seconds % 60\n",
    "video_duration = f\"{minutes:02}:{seconds:02}\"\n",
    "print(video_duration)"
   ]
  },
  {
   "cell_type": "code",
   "execution_count": null,
   "id": "8df25f1e-4550-4eab-b975-59af2f597818",
   "metadata": {},
   "outputs": [],
   "source": []
  }
 ],
 "metadata": {
  "kernelspec": {
   "display_name": "Python 3 (ipykernel)",
   "language": "python",
   "name": "python3"
  },
  "language_info": {
   "codemirror_mode": {
    "name": "ipython",
    "version": 3
   },
   "file_extension": ".py",
   "mimetype": "text/x-python",
   "name": "python",
   "nbconvert_exporter": "python",
   "pygments_lexer": "ipython3",
   "version": "3.8.20"
  }
 },
 "nbformat": 4,
 "nbformat_minor": 5
}
