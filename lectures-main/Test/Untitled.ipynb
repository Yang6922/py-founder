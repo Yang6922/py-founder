{
 "cells": [
  {
   "cell_type": "code",
   "execution_count": 1,
   "id": "3f8bcb1b-49f3-419a-9a17-77a3fadcf51d",
   "metadata": {},
   "outputs": [
    {
     "name": "stdout",
     "output_type": "stream",
     "text": [
      "10072.59\n",
      "10072\n",
      "59\n",
      "0 1\n",
      "1 0\n",
      "2 0\n",
      "3 7\n",
      "4 2\n",
      "壹万零柒拾贰元\n",
      "0 5 0\n",
      "1 9 1\n",
      "壹万零柒拾贰元伍角玖分\n"
     ]
    }
   ],
   "source": [
    "def rmbConvert(num):\n",
    "    str_num = f'{num:.2f}'\n",
    "    print(str_num)\n",
    "    int_num,float_num = str_num.split('.')\n",
    "    print(int_num)\n",
    "    print(float_num)\n",
    "    rmb_dict   = ['零','壹','贰','叁','肆','伍','陆','柒','捌','玖']\n",
    "    low_units  = ['','拾','佰','仟']\n",
    "    high_units = ['','万','亿','兆']\n",
    "    small_units = ['分','角']\n",
    "    rmb_suffix = '元'\n",
    "    rmb_zg = '整'\n",
    "    result = ''\n",
    "    i_length = len(int_num)\n",
    "    f_length = len(float_num)\n",
    "    if int(int_num) > 0:\n",
    "        zero_flag = False\n",
    "        for i,c_num in enumerate(int_num):\n",
    "            num_real = int(c_num)\n",
    "            print(i,num_real)\n",
    "            if num_real!=0:\n",
    "                if zero_flag == True:\n",
    "                    result += rmb_dict[0]\n",
    "                result += rmb_dict[num_real] + low_units[(i_length -1 -i) %4]\n",
    "                zero_flag = False\n",
    "            else:\n",
    "                zero_flag = True\n",
    "            #万，亿，兆\n",
    "            if (i_length -1 -i) % 4 == 0 and zero_flag == False:\n",
    "                result += high_units[(i_length -1 -i)//4]\n",
    "                \n",
    "        result += rmb_suffix\n",
    "    else:\n",
    "        result += rmb_dict[0] + rmb_suffix\n",
    "   \n",
    "    print(result)\n",
    "    if int(float_num) > 0:\n",
    "        for i,f_num in enumerate(float_num):\n",
    "            f_real = int(f_num)\n",
    "            print(i,f_real,i%2)\n",
    "            result += rmb_dict[f_real] + small_units[(f_length -1 -i) %2]\n",
    "    else:\n",
    "        result += rmb_zg\n",
    "   \n",
    "        \n",
    "    print(result)\n",
    "rmbConvert(10072.5865)"
   ]
  },
  {
   "cell_type": "code",
   "execution_count": null,
   "id": "aa241cae-8761-4dde-b3a0-643f61f3eaa9",
   "metadata": {},
   "outputs": [],
   "source": []
  },
  {
   "cell_type": "code",
   "execution_count": 16,
   "id": "f35eeeb0-9016-4328-bcfb-a52530c42d2b",
   "metadata": {},
   "outputs": [
    {
     "name": "stdout",
     "output_type": "stream",
     "text": [
      "10072.567\n",
      "10072.57\n",
      "10072 57\n",
      "0 1 1\n",
      "1 0 0\n",
      "2 0 0\n",
      "3 7 7\n",
      "4 2 2\n",
      "壹万零柒拾贰元\n",
      "壹万零柒拾贰元伍角柒分\n"
     ]
    }
   ],
   "source": [
    "def rmbNumber_to_letter(number):\n",
    "    print(number)\n",
    "    str_number = f'{number:.2f}'\n",
    "    print(str_number)\n",
    "    int_part,decimal_part = str_number.split(\".\")\n",
    "    print(int_part,decimal_part)\n",
    "    rmb_basic_dict=[\"零\",\"壹\",\"贰\",\"叁\",\"肆\",\"伍\",\"陆\",\"柒\",\"捌\",\"玖\"]\n",
    "    low_basic = [\"\",\"拾\",\"佰\",\"仟\"]\n",
    "    high_basic = [\"\",\"万\",\"亿\",\"兆\"]\n",
    "    decimal_basic = [\"角\",\"分\"]\n",
    "    zero_flag = False\n",
    "    result = \"\"\n",
    "    rmb_suffix = \"元\"\n",
    "    if int(int_part) >0 :\n",
    "        int_part_length = len(int_part)\n",
    "        for i,cnum in enumerate(int_part):\n",
    "            real_num = int(cnum)\n",
    "            print(i,cnum,real_num)\n",
    "            if real_num !=0:\n",
    "                if zero_flag == True:\n",
    "                    result += rmb_basic_dict[0]\n",
    "                    zero_flag = False\n",
    "                result += rmb_basic_dict[real_num] +  low_basic[(int_part_length - 1 -i)%4]\n",
    "            else:\n",
    "                zero_flag = True\n",
    "            result += high_basic[(int_part_length -1 - i)//4]\n",
    "        result += rmb_suffix\n",
    "        print(result)\n",
    "    else:\n",
    "        result += rmb_basic_dict[0] + rmb_suffix\n",
    "    if int(decimal_part) > 0:\n",
    "        decimal_part_length = len(decimal_part)\n",
    "        for j,dnum in enumerate(decimal_part):\n",
    "            real_deciaml = int(dnum)\n",
    "            result += rmb_basic_dict[real_deciaml] + decimal_basic[j]\n",
    "    else:\n",
    "        result += \"整\"\n",
    "    return result\n",
    "result = rmbNumber_to_letter(10072.567)\n",
    "print(result)"
   ]
  },
  {
   "cell_type": "code",
   "execution_count": null,
   "id": "18e91f87-1de6-4eaf-8cc8-0bb1569eedc7",
   "metadata": {},
   "outputs": [],
   "source": []
  }
 ],
 "metadata": {
  "kernelspec": {
   "display_name": "Python 3 (ipykernel)",
   "language": "python",
   "name": "python3"
  },
  "language_info": {
   "codemirror_mode": {
    "name": "ipython",
    "version": 3
   },
   "file_extension": ".py",
   "mimetype": "text/x-python",
   "name": "python",
   "nbconvert_exporter": "python",
   "pygments_lexer": "ipython3",
   "version": "3.12.7"
  }
 },
 "nbformat": 4,
 "nbformat_minor": 5
}
