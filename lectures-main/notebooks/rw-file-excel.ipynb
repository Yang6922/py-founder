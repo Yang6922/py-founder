{
 "cells": [
  {
   "cell_type": "markdown",
   "id": "58e0e746-972c-4479-9068-d158ffe9e4e3",
   "metadata": {},
   "source": [
    "## 文件和文件路径"
   ]
  },
  {
   "cell_type": "markdown",
   "id": "7c1a0640-1c39-4b07-8302-a96cab87e510",
   "metadata": {},
   "source": [
    "### os.path.join() 函数可以帮助您在跨操作系统时处理路径分隔符的问题。该函数会根据操作系统自动选择合适的分隔符来连接文件夹和文件名"
   ]
  },
  {
   "cell_type": "code",
   "execution_count": 2,
   "id": "713c36aa-3f2c-4bf5-a86f-fd9d2c7301c3",
   "metadata": {},
   "outputs": [
    {
     "name": "stdout",
     "output_type": "stream",
     "text": [
      "C:\\Users\\asweigart\\documents\\file.txt\n",
      "/home/user\\documents\\file.txt\n"
     ]
    }
   ],
   "source": [
    "# Windows 系统上，文件路径使用反斜杠（\\）作为文件夹名称之间的分隔符\n",
    "import os\n",
    "path = os.path.join('C:\\\\Users\\\\asweigart', 'documents', 'file.txt')\n",
    "print(path)  # 输出：C:\\Users\\asweigart\\documents\\file.txt\n",
    "# Linux/OS X 系统上，文件路径使用正斜杠（/）作为文件夹名称之间的分隔符\n",
    "import os\n",
    "path = os.path.join('/home/user', 'documents', 'file.txt')\n",
    "print(path)  # 输出：/home/user/documents/file.txt\n"
   ]
  },
  {
   "cell_type": "code",
   "execution_count": 4,
   "id": "c2a53a14-2b00-4f23-8690-a60b2ae878f2",
   "metadata": {},
   "outputs": [],
   "source": [
    "###遍历文件名"
   ]
  },
  {
   "cell_type": "code",
   "execution_count": 5,
   "id": "a53b1fca-8b74-4ba7-8a19-265baf3e79be",
   "metadata": {},
   "outputs": [
    {
     "name": "stdout",
     "output_type": "stream",
     "text": [
      "C:\\Users\\asweigart\\accounts.txt\n",
      "C:\\Users\\asweigart\\details.csv\n",
      "C:\\Users\\asweigart\\invite.docx\n"
     ]
    }
   ],
   "source": [
    "myFiles = ['accounts.txt', 'details.csv', 'invite.docx']\n",
    "for filename in myFiles:\n",
    "    print(os.path.join('C:\\\\Users\\\\asweigart', filename))\n"
   ]
  },
  {
   "cell_type": "markdown",
   "id": "7866720b-8e20-452d-afde-78bafb4c1f31",
   "metadata": {},
   "source": [
    "### 文件操作"
   ]
  },
  {
   "cell_type": "code",
   "execution_count": 7,
   "id": "e2e84e6c-4dd6-490b-9bff-2604664851ba",
   "metadata": {},
   "outputs": [
    {
     "name": "stdout",
     "output_type": "stream",
     "text": [
      "Hello, this is a test file.\n"
     ]
    }
   ],
   "source": [
    "# 写入文件\n",
    "with open('example.txt', 'w') as file:\n",
    "    file.write(\"Hello, this is a test file.\")\n",
    "\n",
    "# 读取文件\n",
    "with open('example.txt', 'r') as file:\n",
    "    content = file.read()\n",
    "    print(content)\n"
   ]
  },
  {
   "cell_type": "markdown",
   "id": "844615cc-65be-4039-819f-d20cfef83313",
   "metadata": {},
   "source": [
    "### 工作目录 (CWD)"
   ]
  },
  {
   "cell_type": "code",
   "execution_count": 8,
   "id": "5e0c4520-0f31-4502-a15f-aa8835664b83",
   "metadata": {},
   "outputs": [
    {
     "name": "stdout",
     "output_type": "stream",
     "text": [
      "C:\\Users\\JYC11\\Desktop\\Lecture\\lectures-main\\notebooks\n",
      "C:\\Windows\\System32\n"
     ]
    }
   ],
   "source": [
    "import os\n",
    "\n",
    "# 获取当前工作目录\n",
    "print(os.getcwd())  # 输出：'C:\\\\Python34'\n",
    "\n",
    "# 修改当前工作目录\n",
    "os.chdir('C:\\\\Windows\\\\System32')\n",
    "\n",
    "# 获取修改后的当前工作目录\n",
    "print(os.getcwd())  # 输出：'C:\\\\Windows\\\\System32'\n"
   ]
  },
  {
   "cell_type": "code",
   "execution_count": 9,
   "id": "6c279f3d-6295-4b03-a971-60f3742da349",
   "metadata": {},
   "outputs": [
    {
     "name": "stdout",
     "output_type": "stream",
     "text": [
      "C:\\Windows\\System32\n",
      "C:\\Windows\\System32\n"
     ]
    }
   ],
   "source": [
    "import os\n",
    "\n",
    "# 获取当前工作目录\n",
    "print(os.getcwd())  # 输出：'C:\\\\Python34'\n",
    "\n",
    "# 修改当前工作目录\n",
    "os.chdir('C:\\\\Windows\\\\System32')\n",
    "\n",
    "# 获取修改后的当前工作目录\n",
    "print(os.getcwd())  # 输出：'C:\\\\Windows\\\\System32'\n"
   ]
  },
  {
   "cell_type": "code",
   "execution_count": 11,
   "id": "b42cf36a-6834-479f-b767-61b2c42dc0a7",
   "metadata": {},
   "outputs": [
    {
     "ename": "FileNotFoundError",
     "evalue": "[WinError 2] 系统找不到指定的文件。: 'C:\\\\ThisFolderDoesNotExist'",
     "output_type": "error",
     "traceback": [
      "\u001b[1;31m---------------------------------------------------------------------------\u001b[0m",
      "\u001b[1;31mFileNotFoundError\u001b[0m                         Traceback (most recent call last)",
      "Cell \u001b[1;32mIn[11], line 1\u001b[0m\n\u001b[1;32m----> 1\u001b[0m os\u001b[38;5;241m.\u001b[39mchdir(\u001b[38;5;124m'\u001b[39m\u001b[38;5;124mC:\u001b[39m\u001b[38;5;130;01m\\\\\u001b[39;00m\u001b[38;5;124mThisFolderDoesNotExist\u001b[39m\u001b[38;5;124m'\u001b[39m)\n",
      "\u001b[1;31mFileNotFoundError\u001b[0m: [WinError 2] 系统找不到指定的文件。: 'C:\\\\ThisFolderDoesNotExist'"
     ]
    }
   ],
   "source": [
    "# 如果尝试切换到一个不存在的目录，Python 会抛出 FileNotFoundError 错误：\n",
    "os.chdir('C:\\\\ThisFolderDoesNotExist')  \n",
    "# 输出：FileNotFoundError: [WinError 2] The system cannot find the file specified\n"
   ]
  },
  {
   "cell_type": "code",
   "execution_count": 15,
   "id": "3eab0dc1-7988-4ae3-9592-eea0d0610f38",
   "metadata": {},
   "outputs": [],
   "source": [
    "# 使用 os.makedirs() 创建新文件夹\n",
    "import os\n",
    "\n",
    "# 创建多级文件夹\n",
    "os.makedirs('C:\\\\Users\\\\JYC11\\\\Desktop\\\\Lecture\\\\waffles')\n"
   ]
  },
  {
   "cell_type": "markdown",
   "id": "cbc54231-4e53-4919-b51f-b7153cf9888a",
   "metadata": {},
   "source": [
    "### os.path 模块"
   ]
  },
  {
   "cell_type": "code",
   "execution_count": 16,
   "id": "5accb8d4-eb58-4e4d-ae3c-ea894c34246a",
   "metadata": {},
   "outputs": [
    {
     "name": "stdout",
     "output_type": "stream",
     "text": [
      "C:\\Windows\\System32\n",
      "C:\\Windows\\System32\\Scripts\n",
      "False\n",
      "True\n",
      "Windows\n",
      "..\\..\\Windows\n"
     ]
    }
   ],
   "source": [
    "import os\n",
    "\n",
    "# 获取当前路径的绝对路径\n",
    "print(os.path.abspath('.'))  # 'C:\\\\Python34'\n",
    "\n",
    "# 获取当前目录下 Scripts 文件夹的绝对路径\n",
    "print(os.path.abspath('.\\\\Scripts'))  # 'C:\\\\Python34\\\\Scripts'\n",
    "\n",
    "# 检查路径是否是绝对路径\n",
    "print(os.path.isabs('.'))  # False\n",
    "print(os.path.isabs(os.path.abspath('.')))  # True\n",
    "\n",
    "# 获取相对路径\n",
    "print(os.path.relpath('C:\\\\Windows', 'C:\\\\'))  # 'Windows'\n",
    "print(os.path.relpath('C:\\\\Windows', 'C:\\\\spam\\\\eggs'))  # '..\\\\..\\\\Windows'\n"
   ]
  },
  {
   "cell_type": "code",
   "execution_count": 17,
   "id": "ea438c96-da10-4a6b-bd44-97f6e95d2869",
   "metadata": {},
   "outputs": [],
   "source": [
    "### 获取路径的目录名和文件名"
   ]
  },
  {
   "cell_type": "code",
   "execution_count": 18,
   "id": "76889724-7b0c-49dc-a8bc-8ffcf226622d",
   "metadata": {},
   "outputs": [
    {
     "name": "stdout",
     "output_type": "stream",
     "text": [
      "calc.exe\n",
      "C:\\Windows\\System32\n"
     ]
    }
   ],
   "source": [
    "import os\n",
    "\n",
    "path = 'C:\\\\Windows\\\\System32\\\\calc.exe'\n",
    "\n",
    "# 获取文件名\n",
    "print(os.path.basename(path))  # 'calc.exe'\n",
    "\n",
    "# 获取目录名\n",
    "print(os.path.dirname(path))  # 'C:\\\\Windows\\\\System32'\n"
   ]
  },
  {
   "cell_type": "code",
   "execution_count": 19,
   "id": "50d69bd0-5d6b-494c-a0aa-342ae448cdbe",
   "metadata": {},
   "outputs": [
    {
     "name": "stdout",
     "output_type": "stream",
     "text": [
      "('C:\\\\Windows\\\\System32', 'calc.exe')\n",
      "('C:\\\\Windows\\\\System32', 'calc.exe')\n"
     ]
    }
   ],
   "source": [
    "# 分割路径\n",
    "import os\n",
    "\n",
    "calcFilePath = 'C:\\\\Windows\\\\System32\\\\calc.exe'\n",
    "\n",
    "# 使用 os.path.split() 分割路径\n",
    "print(os.path.split(calcFilePath))  # ('C:\\\\Windows\\\\System32', 'calc.exe')\n",
    "\n",
    "# 使用 os.path.dirname 和 os.path.basename 组合也能得到相同的结果\n",
    "print((os.path.dirname(calcFilePath), os.path.basename(calcFilePath)))  # ('C:\\\\Windows\\\\System32', 'calc.exe')\n"
   ]
  },
  {
   "cell_type": "code",
   "execution_count": 20,
   "id": "c6cbd0f9-b30d-4e23-887d-67a26f562901",
   "metadata": {},
   "outputs": [
    {
     "name": "stdout",
     "output_type": "stream",
     "text": [
      "['C:', 'Windows', 'System32', 'calc.exe']\n",
      "['/usr/bin']\n"
     ]
    }
   ],
   "source": [
    "# 可以通过 os.sep 获取正确的文件分隔符\n",
    "import os\n",
    "\n",
    "# 使用 os.sep 分割路径\n",
    "print('C:\\\\Windows\\\\System32\\\\calc.exe'.split(os.path.sep))  # ['C:', 'Windows', 'System32', 'calc.exe']\n",
    "\n",
    "# 在 OS X 或 Linux 上，返回的列表开头会有一个空字符串\n",
    "print('/usr/bin'.split(os.path.sep))  # ['', 'usr', 'bin']\n"
   ]
  },
  {
   "cell_type": "markdown",
   "id": "9160759d-a56b-4526-a484-aee8024cde54",
   "metadata": {},
   "source": [
    "### 查找文件大小和文件夹内容"
   ]
  },
  {
   "cell_type": "code",
   "execution_count": 21,
   "id": "46d272a5-e265-433b-b42a-f8ed93f97f7f",
   "metadata": {},
   "outputs": [
    {
     "name": "stdout",
     "output_type": "stream",
     "text": [
      "27648\n",
      "['%userprofile%', '.ipynb_checkpoints', '0409', '1028', '1029', '1031', '1033', '1036', '1040', '1041', '1042', '1045', '1046', '1049', '1055', '2052', '3082', '69fe178f-26e7-43a9-aa7d-2b616b672dde_eventlogservice.dll', '6bea57fb-8dfb-4177-9ae8-42e8b3529933_RuntimeDeviceInstall.dll', '@AdvancedKeySettingsNotification.png', '@AppHelpToast.png', '@AudioToastIcon.png', '@BackgroundAccessToastIcon.png', '@bitlockertoastimage.png', '@edptoastimage.png', '@EnrollmentToastIcon.png', '@language_notification_icon.png', '@optionalfeatures.png', '@StorageSenseToastIcon.png', '@VpnToastIcon.png', '@windows-hello-V4.1.gif', '@WindowsHelloFaceToastIcon.png', '@WindowsUpdateToastIcon.contrast-black.png', '@WindowsUpdateToastIcon.contrast-white.png', '@WindowsUpdateToastIcon.png', '@WirelessDisplayToast.png', '@WLOGO_48x48.png', 'aadauthhelper.dll', 'aadcloudap.dll', 'aadjcsp.dll', 'aadtb.dll', 'aadWamExtension.dll', 'AarSvc.dll', 'AboutSettingsHandlers.dll', 'AboveLockAppHost.dll', 'accessibilitycpl.dll', 'accountaccessor.dll', 'AccountsRt.dll', 'AcGenral.dll', 'AcLayers.dll', 'acledit.dll', 'aclui.dll', 'acmigration.dll', 'ACPBackgroundManagerPolicy.dll', 'acppage.dll', 'acproxy.dll', 'AcSpecfc.dll', 'ActionCenter.dll', 'ActionCenterCPL.dll', 'ActionQueue.dll', 'ActivationClient.dll', 'ActivationManager.dll', 'activeds.dll', 'activeds.tlb', 'ActiveHours.png', 'ActiveSyncCsp.dll', 'ActiveSyncProvider.dll', 'actxprxy.dll', 'AcWinRT.dll', 'AcXtrnal.dll', 'adalsql.dll', 'AdaptiveCards.dll', 'AddressParser.dll', 'adhapi.dll', 'adhsvc.dll', 'adprovider.dll', 'adsldp.dll', 'adsldpc.dll', 'adsmsext.dll', 'adsnt.dll', 'adtschema.dll', 'AdvancedEmojiDS.dll', 'AdvancedInstallers', 'advapi32.dll', 'advapi32res.dll', 'advpack.dll', 'aeevts.dll', 'aeinv.dll', 'aemarebackup.dll', 'aepic.dll', 'agentactivationruntime.dll', 'agentactivationruntimestarter.exe', 'agentactivationruntimewindows.dll', 'AggregatorHost.exe', 'aitstatic.exe', 'AJRouter.dll', 'alg.exe', 'altspace.dll', 'am-et', 'amcompat.tlb', 'AMD', 'amdadlx64.dll', 'amdave64.dll', 'amdfendr.ctz', 'amdfendr.itz', 'amdfendr.stz', 'amdfendrmgr.stz', 'amdfendrsr.etz', 'amdfendrsr.exe', 'amdgfxinfo64.dll', 'amdhip64.dll', 'amdihk64.dll', 'AMDKernelEvents.man', 'amdlogum.exe', 'amdlvr64.dll', 'amdmcl64.dll', 'amdmiracast.dll', 'amdmmcl.dll', 'amdmmcl6.dll', 'amdpcom64.dll', 'amdsacli64.dll', 'amdsasrv64.dll', 'amdsmi.exe', 'amdtee_api.dll', 'amdxc64.dll', 'amdxc64.so', 'amd_comgr.dll', 'amf-mft-mjpeg-decoder64.dll', 'amfrt64.dll', 'amsi.dll', 'amsiproxy.dll', 'amstream.dll', 'Analog.Shell.Broker.dll', 'AnalogCommonProxyStub.dll', 'apds.dll', 'APHostClient.dll', 'APHostRes.dll', 'APHostService.dll', 'apisampling.dll', 'ApiSetHost.AppExecutionAlias.dll', 'apisetschema.dll', 'APMon.dll', 'APMonUI.dll', 'AppContracts.dll', 'AppExtension.dll', 'apphelp.dll', 'Apphlpdm.dll', 'AppHostRegistrationVerifier.exe', 'appidapi.dll', 'appidcertstorecheck.exe', 'appidpolicyconverter.exe', 'appidsvc.dll', 'appidtel.exe', 'appinfo.dll', 'appinfoext.dll', 'AppInstallerPrompt.Desktop.dll', 'ApplicationControlCSP.dll', 'ApplicationFrame.dll', 'ApplicationFrameHost.exe', 'AppListBackupLauncher.dll', 'AppLocker', 'AppLockerCSP.dll', 'ApplyTrustOffline.exe', 'AppMon.dll', 'AppointmentActivation.dll', 'AppointmentApis.dll', 'appraiser', 'appraiser.dll', 'AppReadiness.dll', 'apprepapi.dll', 'AppResolver.dll', 'ApproveChildRequest.exe', 'appsruprov.dll', 'appverif.chm', 'appverif.exe', 'appverifUI.dll', 'appwiz.cpl', 'AppxAllUserStore.dll', 'AppXApplicabilityBlob.dll', 'AppxApplicabilityEngine.dll', 'AppXDeploymentClient.dll', 'AppXDeploymentExtensions.desktop.dll', 'AppXDeploymentExtensions.onecore.dll', 'AppXDeploymentServer.dll', 'AppxPackaging.dll', 'AppxProvisioning.xml', 'AppxSip.dll', 'AppxStreamingDataSourcePS.dll', 'AppxSysprep.dll', 'ar-SA', 'archiveint.dll', 'ARP.EXE', 'asferror.dll', 'aspnet_counters.dll', 'AssignedAccessRuntime.dll', 'asycfilt.dll', 'at.exe', 'AtBroker.exe', 'ati2erec.dll', 'atiacm64.dll', 'atiacmLocalisation.ini', 'atiadlxx.dll', 'atiapfxx.blb', 'aticfx64.dll', 'atidemgy.dll', 'atidxx64.dll', 'atieah64.exe', 'atieclxx.exe', 'atig6txx.dll', 'atimpc64.dll', 'atimuixx.dll', 'atisamu64.dll', 'atiumd6a.cap', 'ativvsva.dat', 'ativvsvl.dat', 'atl.dll', 'atl100.dll', 'atlthunk.dll', 'atmlib.dll', 'attrib.exe', 'audiodg.exe', 'AudioEndpointBuilder.dll', 'AudioEng.dll', 'AudioHandlers.dll', 'AUDIOKSE.dll', 'audioresourceregistrar.dll', 'AudioSes.dll', 'audiosrv.dll', 'AudioSrvPolicyManager.dll', 'auditcse.dll', 'auditpol.exe', 'auditpolcore.dll', 'AuthBroker.dll', 'AuthBrokerUI.dll', 'AuthenticateFAM_SecureFP.dll', 'AuthenticateFAM_SecureFP_UI.dll', 'authentication.dll', 'AuthExt.dll', 'authfwcfg.dll', 'AuthFWGP.dll', 'AuthFWSnapin.dll', 'AuthFWWizFwk.dll', 'AuthHost.exe', 'AuthHostProxy.dll', 'authui.dll', 'authz.dll', 'autochk.exe', 'autoconv.exe', 'autofmt.exe', 'AutomaticAppSignInPolicy.dll', 'autopilot.dll', 'autopilotdiag.dll', 'autoplay.dll', 'autotimesvc.dll', 'AverageRoom.bin', 'avicap32.dll', 'avifil32.dll', 'avrt.dll', 'AxInstSv.dll', 'AxInstUI.exe', 'azman.msc', 'azroles.dll', 'azroleui.dll', 'AzSqlExt.dll', 'AzureSettingSyncProvider.dll', 'BackgroundMediaPolicy.dll', 'backgroundTaskHost.exe', 'BackgroundTransferHost.exe', 'BamSettingsClient.dll', 'BarcodeProvisioningPlugin.dll', 'basecsp.dll', 'basesrv.dll', 'bash.exe', 'batmeter.dll', 'bcastdvr.proxy.dll', 'BcastDVRBroker.dll', 'BcastDVRClient.dll', 'BcastDVRCommon.dll', 'bcastdvruserservice.dll', 'bcd.dll', 'bcdboot.exe', 'bcdedit.exe', 'bcdprov.dll', 'bcdsrv.dll', 'BCP47Langs.dll', 'BCP47mrm.dll', 'bcrypt.dll', 'bcryptprimitives.dll', 'bdaplgin.ax', 'BdeHdCfgLib.dll', 'bderepair.dll', 'bdesvc.dll', 'bdeui.dll', 'BdeUISrv.exe', 'bdeunlock.exe', 'BFE.DLL', 'bg-BG', 'bi.dll', 'bidispl.dll', 'bindfltapi.dll', 'BingASDS.dll', 'BingFilterDS.dll', 'BingMaps.dll', 'BingOnlineServices.dll', 'BioCredProv.dll', 'BioIso.exe', 'bisrv.dll', 'BitLockerCsp.dll', 'BitLockerDeviceEncryption.exe', 'BitLockerWizardElev.exe', 'bitsadmin.exe', 'bitsigd.dll', 'bitsperf.dll', 'BitsProxy.dll', 'biwinrt.dll', 'BlbEvents.dll', 'blbres.dll', 'blb_ps.dll', 'BluetoothApis.dll', 'BluetoothDesktopHandlers.dll', 'BluetoothPairingSystemToastIcon.contrast-black.png', 'BluetoothPairingSystemToastIcon.contrast-high.png', 'BluetoothPairingSystemToastIcon.contrast-white.png', 'BluetoothPairingSystemToastIcon.png', 'BluetoothSystemToastIcon.contrast-white.png', 'BluetoothSystemToastIcon.png', 'bnmanager.dll', 'Boot', 'boot.sdi', 'bootcfg.exe', 'bootim.exe', 'BootMenuUX.dll', 'bootsect.exe', 'bootstr.dll', 'bootux.dll', 'BOOTVID.DLL', 'bopomofo.uce', 'branding.bmp', 'brandingRSX.bmp', 'brandingWS_RSX.bmp', 'bridgeres.dll', 'bridgeunattend.exe', 'BrokerLib.dll', 'browcli.dll', 'browserbroker.dll', 'browserexport.exe', 'BrowserSettingSync.dll', 'browser_broker.exe', 'browseui.dll', 'BTAGService.dll', 'BthAvctpSvc.dll', 'BthAvrcp.dll', 'BthAvrcpAppSvc.dll', 'bthci.dll', 'BthMtpContextHandler.dll', 'bthpanapi.dll', 'BthpanContextHandler.dll', 'Bthprops', 'bthprops.cpl', 'BthRadioMedia.dll', 'bthserv.dll', 'BthTelemetry.dll', 'bthudtask.exe', 'btpanui.dll', 'Bubbles.scr', 'BWContextHandler.dll', 'ByteCodeGenerator.exe', 'cabapi.dll', 'cabinet.dll', 'cabview.dll', 'cacls.exe', 'calc.exe', 'CallButtons.dll', 'CallButtons.ProxyStub.dll', 'CallHistoryClient.dll', 'CameraCaptureUI.dll', 'CameraSettingsUIHost.exe', 'CapabilityAccessHandlers.dll', 'CapabilityAccessManager.dll', 'CapabilityAccessManagerClient.dll', 'capauthz.dll', 'capiprovider.dll', 'capisp.dll', 'CaptureService.dll', 'CastingShellExt.dll', 'CastLaunch.dll', 'CastSrv.exe', 'CatRoot', 'catroot2', 'catsrv.dll', 'catsrvps.dll', 'catsrvut.dll', 'CBDHSvc.dll', 'cca.dll', 'cdd.dll', 'cdosys.dll', 'cdp.dll', 'cdprt.dll', 'cdpsvc.dll', 'cdpusersvc.dll', 'CellularAPI.dll', 'cellulardatacapabilityhandler.dll', 'cemapi.dll', 'cero.rs', 'certca.dll', 'certcli.dll', 'certCredProvider.dll', 'certenc.dll', 'CertEnroll.dll', 'CertEnrollCtrl.exe', 'CertEnrollUI.dll', 'certlm.msc', 'certmgr.dll', 'certmgr.msc', 'CertPKICmdlet.dll', 'CertPolEng.dll', 'certprop.dll', 'certreq.exe', 'certutil.exe', 'cewmdm.dll', 'cfgbkend.dll', 'cfgmgr32.dll', 'CfgSPCellular.dll', 'CfgSPPolicy.dll', 'cflapi.dll', 'cfmifs.dll', 'cfmifsproxy.dll', 'Chakra.dll', 'Chakradiag.dll', 'Chakrathunk.dll', 'changepk.exe', 'charmap.exe', 'chartv.dll', 'ChatApis.dll', 'chcp.com', 'CheckNetIsolation.exe', 'chkdsk.exe', 'chkntfs.exe', 'chkwudrv.dll', 'choice.exe', 'ChsStrokeDS.dll', 'chs_singlechar_pinyin.dat', 'ChtAdvancedDS.dll', 'ChtBopomofoDS.dll', 'ChtCangjieDS.dll', 'ChtHkStrokeDS.dll', 'ChtQuickDS.dll', 'ChxAPDS.dll', 'ChxDecoder.dll', 'ChxHAPDS.dll', 'chxinputrouter.dll', 'chxranker.dll', 'CHxReadingStringIME.dll', 'ci.dll', 'cic.dll', 'CIDiag.exe', 'cimfs.dll', 'cipher.exe', 'CIRCoInst.dll', 'clb.dll', 'clbcatq.dll', 'cldapi.dll', 'cleanmgr.exe', 'CleanPCCSP.dll', 'clfsw32.dll', 'cliconfg.dll', 'cliconfg.exe', 'cliconfg.rll', 'clinfo.exe', 'clip.exe', 'ClipboardServer.dll', 'Clipc.dll', 'clipesu.exe', 'ClipRenew.exe', 'ClipSVC.dll', 'ClipUp.exe', 'clipwinrt.dll', 'cloudAP.dll', 'CloudDomainJoinAUG.dll', 'CloudDomainJoinDataModelServer.dll', 'CloudExperienceHost.dll', 'CloudExperienceHostBroker.dll', 'CloudExperienceHostBroker.exe', 'CloudExperienceHostCommon.dll', 'CloudExperienceHostRedirection.dll', 'CloudExperienceHostUser.dll', 'CloudIdWxhExtension.dll', 'CloudNotifications.exe', 'CloudRestoreLauncher.dll', 'clrhost.dll', 'clusapi.dll', 'cmcfg32.dll', 'cmd.exe', 'cmdext.dll', 'cmdial32.dll', 'cmdkey.exe', 'cmdl32.exe', 'cmgrcspps.dll', 'cmifw.dll', 'cmintegrator.dll', 'cmlua.dll', 'cmmon32.exe', 'cmpbk32.dll', 'cmstp.exe', 'cmstplua.dll', 'cmutil.dll', 'cngcredui.dll', 'cngprovider.dll', 'cnvfat.dll', 'cob-au.rs', 'CodeIntegrity', 'CodeIntegrityAggregator.dll', 'cofire.exe', 'cofiredm.dll', 'colbact.dll', 'coloradapterclient.dll', 'COLORCNV.DLL', 'colorcpl.exe', 'colorui.dll', 'Com', 'combase.dll', 'comcat.dll', 'comctl32.dll', 'comdlg32.dll', 'comexp.msc', 'coml2.dll', 'comp.exe', 'compact.exe', 'compatrel', 'CompatTelRunner.exe', 'compmgmt.msc', 'CompMgmtLauncher.exe', 'ComposableShellProxyStub.dll', 'ComposerFramework.dll', 'CompPkgSrv.exe', 'CompPkgSup.dll', 'compstui.dll', 'computecore.dll', 'computelibeventlog.dll', 'computenetwork.dll', 'ComputerDefaults.exe', 'ComputerToastIcon.contrast-white.png', 'ComputerToastIcon.png', 'computestorage.dll', 'comrepl.dll', 'comres.dll', 'comsnap.dll', 'comsvcs.dll', 'comuid.dll', 'concrt140.dll', 'concrt140d.dll', 'config', 'configmanager2.dll', 'Configuration', 'ConfigureExpandedStorage.dll', 'conhost.exe', 'ConhostV1.dll', 'connect.dll', 'ConnectedAccountState.dll', 'consent.exe', 'ConsentExperienceCommon.dll', 'ConsentUX.dll', 'ConsentUxClient.dll', 'console.dll', 'ConsoleLogon.dll', 'ConstraintIndex.Search.dll', 'ContactActivation.dll', 'ContactApis.dll', 'ContactHarvesterDS.dll', 'container.dll', 'containerdevicemanagement.dll', 'ContainerSettingsProviders', 'ContentDeliveryManager.Utilities.dll', 'control.exe', 'convert.exe', 'convertvhd.exe', 'coreaudiopolicymanagerext.dll', 'coredpus.dll', 'coredpussvr.exe', 'coreglobconfig.dll', 'CoreMas.dll', 'CoreMessaging.dll', 'CoreMmRes.dll', 'CoreShell.dll', 'CoreShellAPI.dll', 'CoreShellExtFramework.dll', 'CoreUIComponents.dll', 'correngine.dll', 'courgette.log', 'CourtesyEngine.dll', 'CPFilters.dll', 'CredDialogBroker.dll', 'CredentialEnrollmentManager.exe', 'CredentialEnrollmentManagerForUser.dll', 'CredentialUIBroker.exe', 'CredProv2faHelper.dll', 'CredProvDataModel.dll', 'CredProvHelper.dll', 'credprovhost.dll', 'credprovs.dll', 'credprovslegacy.dll', 'credssp.dll', 'credui.dll', 'credwiz.exe', 'crypt32.dll', 'cryptbase.dll', 'cryptcatsvc.dll', 'cryptdlg.dll', 'cryptdll.dll', 'cryptext.dll', 'cryptnet.dll', 'cryptngc.dll', 'CryptoWinRT.dll', 'cryptsp.dll', 'cryptsvc.dll', 'crypttpmeksvc.dll', 'cryptui.dll', 'cryptuiwizard.dll', 'cryptxml.dll', 'cs-CZ', 'cscapi.dll', 'cscdll.dll', 'cscript.exe', 'CspCellularSettings.dll', 'csplte.dll', 'CspProxy.dll', 'csrr.rs', 'csrsrv.dll', 'csrss.exe', 'CSystemEventsBrokerClient.dll', 'ctfmon.exe', 'cttune.exe', 'cttunesvr.exe', 'curl.exe', 'CustomInstallExec.exe', 'cuzzapi.dll', 'cxcredprov.dll', 'CXHProvisioningServer.dll', 'C_037.NLS', 'C_10000.NLS', 'C_10001.NLS', 'C_10002.NLS', 'C_10003.NLS', 'C_10004.NLS', 'C_10005.NLS', 'C_10006.NLS', 'C_10007.NLS', 'C_10008.NLS', 'C_10010.NLS', 'C_10017.NLS', 'C_10021.NLS', 'C_10029.NLS', 'C_10079.NLS', 'C_10081.NLS', 'C_10082.NLS', 'C_1026.NLS', 'C_1047.NLS', 'C_1140.NLS', 'C_1141.NLS', 'C_1142.NLS', 'C_1143.NLS', 'C_1144.NLS', 'C_1145.NLS', 'C_1146.NLS', 'C_1147.NLS', 'C_1148.NLS', 'C_1149.NLS', 'C_1250.NLS', 'C_1251.NLS', 'C_1252.NLS', 'C_1253.NLS', 'C_1254.NLS', 'C_1255.NLS', 'C_1256.NLS', 'C_1257.NLS', 'C_1258.NLS', 'C_1361.NLS', 'C_20000.NLS', 'C_20001.NLS', 'C_20002.NLS', 'C_20003.NLS', 'C_20004.NLS', 'C_20005.NLS', 'C_20105.NLS', 'C_20106.NLS', 'C_20107.NLS', 'C_20108.NLS', 'C_20127.NLS', 'C_20261.NLS', 'C_20269.NLS', 'C_20273.NLS', 'C_20277.NLS', 'C_20278.NLS', 'C_20280.NLS', 'C_20284.NLS', 'C_20285.NLS', 'C_20290.NLS', 'C_20297.NLS', 'C_20420.NLS', 'C_20423.NLS', 'C_20424.NLS', 'C_20833.NLS', 'C_20838.NLS', 'C_20866.NLS', 'C_20871.NLS', 'C_20880.NLS', 'C_20905.NLS', 'C_20924.NLS', 'C_20932.NLS', 'C_20936.NLS', 'C_20949.NLS', 'C_21025.NLS', 'C_21027.NLS', 'C_21866.NLS', 'C_28591.NLS', 'C_28592.NLS', 'C_28593.NLS', 'C_28594.NLS', 'C_28595.NLS', 'C_28596.NLS', 'C_28597.NLS', 'C_28598.NLS', 'C_28599.NLS', 'c_28603.nls', 'C_28605.NLS', 'C_437.NLS', 'C_500.NLS', 'C_708.NLS', 'C_720.NLS', 'C_737.NLS', 'C_775.NLS', 'C_850.NLS', 'C_852.NLS', 'C_855.NLS', 'C_857.NLS', 'C_858.NLS', 'C_860.NLS', 'C_861.NLS', 'C_862.NLS', 'C_863.NLS', 'C_864.NLS', 'C_865.NLS', 'C_866.NLS', 'C_869.NLS', 'C_870.NLS', 'C_874.NLS', 'C_875.NLS', 'C_932.NLS', 'C_936.NLS', 'C_949.NLS', 'C_950.NLS', 'C_G18030.DLL', 'c_GSM7.DLL', 'C_IS2022.DLL', 'C_ISCII.DLL', 'd2d1.dll', 'd2d1debug3.dll', 'd3d10.dll', 'd3d10core.dll', 'd3d10level9.dll', 'd3d10ref.dll', 'd3d10sdklayers.dll', 'd3d10warp.dll', 'd3d10_1.dll', 'd3d10_1core.dll', 'd3d11.dll', 'd3d11on12.dll', 'd3d11_3SDKLayers.dll', 'D3D12.dll', 'D3D12Core.dll', 'd3d12SDKLayers.dll', 'd3d8thk.dll', 'd3d9.dll', 'd3d9on12.dll', 'D3DCompiler_47.dll', 'd3dconfig.exe', 'd3dref9.dll', 'D3DSCache.dll', 'da-DK', 'dab.dll', 'dabapi.dll', 'DAConn.dll', 'dafAspInfraProvider.dll', 'dafBth.dll', 'DafDnsSd.dll', 'dafDockingProvider.dll', 'DAFESCL.dll', 'DafGip.dll', 'DAFIoT.dll', 'DAFIPP.dll', 'DAFMCP.dll', 'dafpos.dll', 'DafPrintProvider.dll', 'dafupnp.dll', 'dafWCN.dll', 'dafWfdProvider.dll', 'DAFWiProv.dll', 'DAFWSD.dll', 'DAMediaManager.dll', 'DAMM.dll', 'DaOtpCredentialProvider.dll', 'das.dll', 'dasHost.exe', 'dataclen.dll', 'DataExchange.dll', 'DataExchangeHost.exe', 'datamarketsvc.dll', 'DataStoreCacheDumpTool.exe', 'DataUsageHandlers.dll', 'DataUsageLiveTileTask.exe', 'datusage.dll', 'davclnt.dll', 'davhlpr.dll', 'DavSyncProvider.dll', 'daxexec.dll', 'dbgcore.dll', 'dbgeng.dll', 'dbghelp.dll', 'DbgModel.dll', 'dbnetlib.dll', 'dbnmpntw.dll', 'dccw.exe', 'dciman32.dll', 'dcntel.dll', 'dcomcnfg.exe', 'dcomp.dll', 'dcsvc.dll', 'DDACLSys.dll', 'DdcAntiTheftApi.dll', 'DdcClaimsApi.dll', 'DdcComImplementationsDesktop.dll', 'DDDS.dll', 'DDFs', 'ddisplay.dll', 'ddodiag.exe', 'DDOIProxy.dll', 'DDORes.dll', 'ddraw.dll', 'ddrawex.dll', 'de-DE', 'declaredconfiguration.dll', 'DefaultAccountTile.png', 'DefaultDeviceManager.dll', 'DefaultHrtfs.bin', 'DefaultPrinterProvider.dll', 'DefaultQuestions.json', 'Defrag.exe', 'defragproxy.dll', 'defragres.dll', 'defragsvc.dll', 'delegatorprovider.dll', 'delete', 'DeliveryOptimizationMIProv.mof', 'DeliveryOptimizationMIProvUninstall.mof', 'deploymentcsphelper.exe', 'deploymentcsps.dll', 'desk.cpl', 'deskadp.dll', 'deskmon.dll', 'desktopimgdownldr.exe', 'DesktopKeepOnToastImg.gif', 'DesktopShellAppStateContract.dll', 'DesktopShellExt.dll', 'DesktopSpotlightToastIcon_Dark.png', 'DesktopSpotlightToastIcon_Light.png', 'DesktopSwitcherDataModel.dll', 'DesktopView.Internal.Broker.dll', 'DesktopView.Internal.Broker.ProxyStub.dll', 'DetailedReading-Default.xml', 'detoured.dll', 'DevDispItemProvider.dll', 'DeveloperOptionsSettingsHandlers.dll', 'devenum.dll', 'deviceaccess.dll', 'deviceassociation.dll', 'DeviceCensus.exe', 'DeviceCenter.dll', 'DeviceCredential.dll', 'DeviceCredentialDeployment.exe', 'DeviceDirectoryClient.dll', 'DeviceDisplayStatusManager.dll', 'DeviceDriverRetrievalClient.dll', 'DeviceEject.exe', 'DeviceElementSource.dll', 'DeviceEnroller.exe', 'DeviceFlows.DataModel.dll', 'DeviceMetadataRetrievalClient.dll', 'devicengccredprov.dll', 'DevicePairing.dll', 'DevicePairingExperienceMEM.dll', 'DevicePairingFolder.dll', 'DevicePairingProxy.dll', 'DevicePairingWizard.exe', 'DeviceProperties.exe', 'DeviceReactivation.dll', 'deviceregistration.dll', 'DeviceSetupManager.dll', 'DeviceSetupManagerAPI.dll', 'DeviceSetupStatusProvider.dll', 'DevicesFlowBroker.dll', 'DeviceSoftwareInstallationClient.dll', 'DeviceUpdateAgent.dll', 'DeviceUxRes.dll', 'devinv.dll', 'devmgmt.msc', 'devmgr.dll', 'DevModeRunAsUserConfig.msc', 'devobj.dll', 'DevPropMgr.dll', 'DevQueryBroker.dll', 'devrtl.dll', 'dfdts.dll', 'DFDWiz.exe', 'dfrgui.exe', 'dfscli.dll', 'dfshim.dll', 'DfsShlEx.dll', 'dgtrayicon.exe', 'dhcpcmonitor.dll', 'dhcpcore.dll', 'dhcpcore6.dll', 'dhcpcsvc.dll', 'dhcpcsvc6.dll', 'dhcpsapi.dll', 'DHolographicDisplay.dll', 'DiagCpl.dll', 'diagnosticdataquery.dll', 'DiagnosticDataSettings.dll', 'DiagnosticInvoker.dll', 'DiagnosticLogCSP.dll', 'diagperf.dll', 'DiagSvc.dll', 'DiagSvcs', 'diagtrack.dll', 'dialclient.dll', 'dialer.exe', 'dialserver.dll', 'DictationManager.dll', 'difxapi.dll', 'dimsjob.dll', 'dimsroam.dll', 'dinput.dll', 'dinput8.dll', 'Direct2DDesktop.dll', 'directmanipulation.dll', 'DirectML.Debug.dll', 'directml.dll', 'directxdatabaseupdater.exe', 'discan.dll', 'diskmgmt.msc', 'diskpart.exe', 'diskperf.exe', 'diskraid.exe', 'DiskSnapshot.conf', 'DiskSnapshot.exe', 'Dism', 'Dism.exe', 'DismApi.dll', 'DispBroker.Desktop.dll', 'DispBroker.dll', 'dispdiag.exe', 'dispex.dll', 'Display.dll', 'DisplayManager.dll', 'DisplaySwitch.exe', 'DisplaySystemToastIcon.contrast-white.png', 'DisplaySystemToastIcon.png', 'djctq.rs', 'djoin.exe', 'dllhost.exe', 'dllhst3g.exe', 'dlnashext.dll', 'DMAlertListener.ProxyStub.dll', 'DmApiSetExtImplDesktop.dll', 'DMAppsRes.dll', 'dmcertinst.exe', 'dmcfghost.exe', 'dmcfgutils.dll', 'dmclient.exe', 'dmcmnutils.dll', 'dmcommandlineutils.dll', 'dmcsps.dll', 'dmdlgs.dll', 'dmdskmgr.dll', 'dmdskres.dll', 'dmdskres2.dll', 'dmenrollengine.dll', 'dmenterprisediagnostics.dll', 'dmintf.dll', 'dmiso8601utils.dll', 'dmloader.dll', 'DmNotificationBroker.exe', 'dmocx.dll', 'dmoleaututils.dll', 'DmOmaCpMo.exe', 'dmprocessxmlfiltered.dll', 'dmpushproxy.dll', 'DMPushRouterCore.dll', 'DMRCDecoder.dll', 'DMRServer.dll', 'dmsynth.dll', 'dmusic.dll', 'dmutil.dll', 'dmvdsitf.dll', 'dmview.ocx', 'dmwappushsvc.dll', 'dmwmicsp.dll', 'dmxmlhelputils.dll', 'dnsapi.dll', 'dnscacheugc.exe', 'dnscmmc.dll', 'dnsext.dll', 'dnshc.dll', 'dnsrslvr.dll', 'Docking.VirtualInput.dll', 'DockInterface.ProxyStub.dll', 'docprop.dll', 'DocumentPerformanceEvents.dll', 'dolbyaposvc', 'DolbyDecMFT.dll', 'domgmt.dll', 'dosettings.dll', 'doskey.exe', 'dosvc.dll', 'dot3api.dll', 'dot3cfg.dll', 'Dot3Conn.dll', 'dot3dlg.dll', 'dot3gpclnt.dll', 'dot3gpui.dll', 'dot3hc.dll', 'dot3mm.dll', 'dot3msm.dll', 'dot3svc.dll', 'dot3ui.dll', 'downlevel', 'dpapi.dll', 'dpapimig.exe', 'dpapiprovider.dll', 'dpapisrv.dll', 'DpiScaling.exe', 'dpnaddr.dll', 'dpnathlp.dll', 'dpnet.dll', 'dpnhpast.dll', 'dpnhupnp.dll', 'dpnlobby.dll', 'dpnsvr.exe', 'dps.dll', 'dpx.dll', 'DragDropExperienceCommon.dll', 'DragDropExperienceDataExchangeDelegated.dll', 'driverquery.exe', 'drivers', 'DriverState', 'DriverStore', 'drprov.dll', 'drt.dll', 'DrtmAuthTxt.wim', 'drtprov.dll', 'drttransport.dll', 'drvinst.exe', 'drvsetup.dll', 'DRVSTORE', 'drvstore.dll', 'dsauth.dll', 'dsc', 'DscCore.dll', 'DscCoreConfProv.dll', 'dsclient.dll', 'dscproxy.dll', 'DscTimer.dll', 'dsdmo.dll', 'dskquota.dll', 'dskquoui.dll', 'DsmUserTask.exe', 'dsound.dll', 'dsparse.dll', 'dsprop.dll', 'dsquery.dll', 'dsreg.dll', 'dsregcmd.exe', 'dsregtask.dll', 'dsrole.dll', 'dssec.dat', 'dssec.dll', 'dssenh.dll', 'dssvc.dll', 'dstokenclean.exe', 'Dsui.dll', 'dsuiext.dll', 'dswave.dll', 'dtsh.dll', 'DTUHandler.exe', 'DTUHandlerPS.dll', 'DuCsps.dll', 'dui70.dll', 'duser.dll', 'dusmapi.dll', 'dusmsvc.dll', 'dusmtask.exe', 'dvdplay.exe', 'dwm.exe', 'dwmapi.dll', 'dwmcore.dll', 'dwmghost.dll', 'dwminit.dll', 'dwmredir.dll', 'dwmscene.dll', 'DWrite.dll', 'DWWIN.EXE', 'DXCap.exe', 'DXCaptureReplay.dll', 'DXCore.dll', 'DXCpl.exe', 'dxdiag.exe', 'dxdiagn.dll', 'dxgi.dll', 'dxgiadaptercache.exe', 'DXGIDebug.dll', 'dxgwdi.dll', 'dxilconv.dll', 'dxmasf.dll', 'DXP.dll', 'dxpps.dll', 'Dxpserver.exe', 'DxpTaskSync.dll', 'dxtmsft.dll', 'DXToolsMonitor.dll', 'DXToolsOfflineAnalysis.dll', 'DxToolsReportGenerator.dll', 'DXToolsReporting.dll', 'dxtrans.dll', 'dxva2.dll', 'DynamicLong.bin', 'DynamicMedium.bin', 'DynamicShort.bin', 'dynamoapi.dll', 'EAMProgressHandler.dll', 'Eap3Host.exe', 'eapp3hst.dll', 'eappcfg.dll', 'eappcfgui.dll', 'eappgnui.dll', 'eapphost.dll', 'eappprxy.dll', 'eapprovp.dll', 'eapputil.dll', 'eapsimextdesktop.dll', 'eapsvc.dll', 'EapTeapAuth.dll', 'EapTeapConfig.dll', 'EapTeapExt.dll', 'easconsent.dll', 'EaseOfAccessDialog.exe', 'easinvoker.exe', 'easinvoker.proxystub.dll', 'EASPolicyManagerBrokerHost.exe', 'EasPolicyManagerBrokerPS.dll', 'easwrt.dll', 'edgeangle.dll', 'EdgeContent.dll', 'edgehtml.dll', 'edgeIso.dll', 'EdgeManager.dll', 'EditBufferTestHook.dll', 'EditionUpgradeHelper.dll', 'EditionUpgradeManagerObj.dll', 'edpauditapi.dll', 'EDPCleanup.exe', 'edpcsp.dll', 'edpnotify.exe', 'edptask.dll', 'edputil.dll', 'EduPrintProv.exe', 'eeprov.dll', 'EEURestart.exe', 'eeutil.dll', 'efsadu.dll', 'efscore.dll', 'efsext.dll', 'efslsaext.dll', 'efssvc.dll', 'efsui.exe', 'efsutil.dll', 'efswrt.dll', 'EhStorAPI.dll', 'EhStorAuthn.exe', 'EhStorPwdMgr.dll', 'EhStorShell.dll', 'el-GR', 'els.dll', 'ELSCore.dll', 'elshyph.dll', 'elslad.dll', 'elsTrans.dll', 'EM.exe', 'EmailApis.dll', 'embeddedmodesvc.dll', 'embeddedmodesvcapi.dll', 'EmojiDS.dll', 'en', 'en-GB', 'en-US', 'encapi.dll', 'energy.dll', 'energyprov.dll', 'energytask.dll', 'enrollmentapi.dll', 'EnterpriseAPNCsp.dll', 'EnterpriseAppMgmtClient.dll', 'EnterpriseAppMgmtSvc.dll', 'enterprisecsps.dll', 'EnterpriseDesktopAppMgmtCSP.dll', 'enterpriseetw.dll', 'EnterpriseModernAppMgmtCSP.dll', 'enterpriseresourcemanager.dll', 'EoAExperiences.exe', 'eqossnap.dll', 'ErrorDetails.dll', 'ErrorDetailsCore.dll', 'es-ES', 'es-MX', 'es.dll', 'EsclProtocol.dll', 'EsclScan.dll', 'EsclWiaDriver.dll', 'EsdSip.dll', 'esent.dll', 'esentprf.dll', 'esentutl.exe', 'esevss.dll', 'eShims.dll', 'esrb.rs', 'et-EE', 'ETDApix.dll', 'ETDCmds.dll', 'ETDCtrl.exe', 'ETDFavorite.dll', 'ETDService.exe', 'ETDUn_inst.exe', 'EthernetMediaManager.dll', 'ETWCoreUIComponentsResources.dll', 'ETWESEProviderResources.dll', 'EtwRundown.dll', 'eudcedit.exe', 'eUICCsCSP.dll', 'EventAggregation.dll', 'eventcls.dll', 'eventcreate.exe', 'EventViewer_EventDetails.xsl', 'eventvwr.exe', 'eventvwr.msc', 'evr.dll', 'ExecModelClient.dll', 'execmodelproxy.dll', 'expand.exe', 'ExplorerFrame.dll', 'ExSMime.dll', 'extrac32.exe', 'ExtrasXmlParser.dll', 'F12', 'f3ahvoas.dll', 'facecredentialprovider.dll', 'Face_Beauty_DLL_X64.dll', 'Facilitator.dll', 'Family.Authentication.dll', 'Family.Cache.dll', 'Family.Client.dll', 'Family.SyncEngine.dll', 'FamilySafetyExt.dll', 'Faultrep.dll', 'FaxPrinterInstaller.dll', 'fc.exe', 'fcon.dll', 'fdBth.dll', 'fdBthProxy.dll', 'FdDevQuery.dll', 'fde.dll', 'fdeploy.dll', 'fdPHost.dll', 'fdPnp.dll', 'fdprint.dll', 'fdProxy.dll', 'FDResPub.dll', 'fdSSDP.dll', 'fdWCN.dll', 'fdWNet.dll', 'fdWSD.dll', 'FeatureToastBulldogImg.png', 'FeatureToastDlpImg.png', 'feclient.dll', 'ff-Adlm-SN', 'ffbroker.dll', 'fhcat.dll', 'fhcfg.dll', 'fhcleanup.dll', 'fhcpl.dll', 'fhengine.dll', 'fhevents.dll', 'fhlisten.dll', 'fhmanagew.exe', 'fhsettingsprovider.dll', 'fhshl.dll', 'fhsrchapi.dll', 'fhsrchph.dll', 'fhsvc.dll', 'fhsvcctl.dll', 'fhtask.dll', 'fhuxadapter.dll', 'fhuxapi.dll', 'fhuxcommon.dll', 'fhuxgraphics.dll', 'fhuxpresentation.dll', 'fi-FI', 'fidocredprov.dll', 'FileAppxStreamingDataSource.dll', 'FileHistory.exe', 'filemgmt.dll', 'FilterDS.dll', 'find.exe', 'findnetprinters.dll', 'findstr.exe', 'finger.exe', 'fingerprintcredential.dll', 'Firewall.cpl', 'FirewallAPI.dll', 'FirewallControlPanel.dll', 'fixmapi.exe', 'FlightSettings.dll', 'fltLib.dll', 'fltMC.exe', 'FluencyDS.dll', 'fmapi.dll', 'FMAPO64.dll', 'FMAPP.exe', 'fmifs.dll', 'FMMP.dll', 'FMPCHAPO64.dll', 'fms.dll', 'FMService64.exe', 'FM_Speech_PP64.dll', 'FNTCACHE.DAT', 'FntCache.dll', 'fodhelper.exe', 'Fondue.exe', 'fontdrvhost.exe', 'fontext.dll', 'FontGlyphAnimator.dll', 'fontgroupsoverride.dll', 'FontProvider.dll', 'fontsub.dll', 'fontview.exe', 'forfiles.exe', 'format.com', 'fpb.rs', 'fphc.dll', 'fr-CA', 'fr-FR', 'framedyn.dll', 'framedynos.dll', 'FrameServer.dll', 'FrameServerClient.dll', 'frprov.dll', 'fsavailux.exe', 'FsIso.exe', 'fsmgmt.msc', 'FsNVSDeviceSource.dll', 'fsquirt.exe', 'fsutil.exe', 'fsutilext.dll', 'fthsvc.dll', 'ftp.exe', 'fundisc.dll', 'fveapi.dll', 'fveapibase.dll', 'fvecerts.dll', 'fvecpl.dll', 'fvenotify.exe', 'fveskybackup.dll', 'fveui.dll', 'fvewiz.dll', 'fwbase.dll', 'fwcfg.dll', 'fwmdmcsp.dll', 'fwpolicyiomgr.dll', 'FWPUCLNT.DLL', 'FwRemoteSvr.dll', 'FXSAPI.dll', 'FXSCOM.dll', 'FXSCOMEX.dll', 'FXSCOMPOSE.dll', 'FXSCOMPOSERES.dll', 'FXSCOVER.exe', 'FXSEVENT.dll', 'FXSMON.dll', 'FXSRESM.dll', 'FXSROUTE.dll', 'FXSST.dll', 'FXSSVC.exe', 'FXST30.dll', 'FXSTIFF.dll', 'FxsTmp', 'FXSUNATD.exe', 'FXSUTILITY.dll', 'g711codc.ax', 'GameBarPresenceWriter.exe', 'GameBarPresenceWriter.proxy.dll', 'GameChatOverlayExt.dll', 'GameChatTranscription.dll', 'GameInput.dll', 'GameInputInbox.dll', 'GameInputSvc.exe', 'GameManager64.dll', 'gamemode.dll', 'GamePanel.exe', 'GamePanelExternalHook.dll', 'gamestreamingext.dll', 'GameSystemToastIcon.contrast-white.png', 'GameSystemToastIcon.png', 'gameux.dll', 'gamingtcui.dll', 'gatherNetworkInfo.vbs', 'gb2312.uce', 'gcdef.dll', 'gdi32.dll', 'gdi32full.dll', 'GdiPlus.dll', 'generaltel.dll', 'GenValObj.exe', 'Geocommon.dll', 'Geolocation.dll', 'getmac.exe', 'getuname.dll', 'glmf32.dll', 'globinputhost.dll', 'glu32.dll', 'gmsaclient.dll', 'gpapi.dll', 'GPCSEWrapperCsp.dll', 'gpedit.dll', 'gpprnext.dll', 'gpresult.exe', 'gpsvc.dll', 'gptext.dll', 'gpupdate.exe', 'GraphicsCapture.dll', 'GraphicsPerfSvc.dll', 'grb.rs', 'Groupinghc.dll', 'GroupPolicy', 'GroupPolicyUsers', 'grpconv.exe', 'hal.dll', 'HalExtIntcLpioDMA.dll', 'HalExtPL080.dll', 'HandwritingSystemToastIcon.contrast-white.png', 'HandwritingSystemToastIcon.png', 'hascsp.dll', 'HashtagDS.dll', 'hbaapi.dll', 'hcproviders.dll', 'HdcpHandler.dll', 'hdwwiz.cpl', 'hdwwiz.exe', 'he-IL', 'HeadphoneSystemToastIcon.contrast-white.png', 'HeadphoneSystemToastIcon.png', 'HeadsetSystemToastIcon.contrast-white.png', 'HeadsetSystemToastIcon.png', 'HealthSystemToastIcon.contrast-white.png', 'HealthSystemToastIcon.png', 'HeatCore.dll', 'help.exe', 'HelpPaneProxy.dll', 'hgcpl.dll', 'hgprint.dll', 'hhctrl.ocx', 'hhsetup.dll', 'hid.dll', 'HidCfu.dll', 'hidphone.tsp', 'hidserv.dll', 'hlink.dll', 'hmkd.dll', 'hnetcfg.dll', 'HNetCfgClient.dll', 'hnetmon.dll', 'HologramCompositor.dll', 'HologramWorld.dll', 'HolographicExtensions.dll', 'HolographicRuntimes.dll', 'HoloShellRuntime.dll', 'HoloSHExtensions.dll', 'HoloSI.PCShell.dll', 'HOSTNAME.EXE', 'hotplug.dll', 'hr-HR', 'HrtfApo.dll', 'html.iec', 'httpapi.dll', 'httpprxc.dll', 'httpprxm.dll', 'httpprxp.dll', 'HttpsDataSource.dll', 'htui.dll', 'hu-HU', 'hvax64.exe', 'hvhostsvc.dll', 'hvix64.exe', 'hvloader.dll', 'HvSocket.dll', 'Hydrogen', 'Hydrogen.dll', 'IA2ComProxy.dll', 'ias', 'ias.dll', 'iasacct.dll', 'iasads.dll', 'iasdatastore.dll', 'iashlpr.dll', 'IasMigPlugin.dll', 'iasnap.dll', 'iaspolcy.dll', 'iasrad.dll', 'iasrecst.dll', 'iassam.dll', 'iassdo.dll', 'iassvcs.dll', 'ibmpmsvc.exe', 'icacls.exe', 'icfupgd.dll', 'icm32.dll', 'icmp.dll', 'icmsg', 'icmui.dll', 'IconCodecService.dll', 'IcsEntitlementHost.exe', 'icsigd.dll', 'icsunattend.exe', 'icsvc.dll', 'icsvcext.dll', 'icsxml', 'icu.dll', 'icuin.dll', 'icuuc.dll', 'IdCtrls.dll', 'ideograf.uce', 'IdListen.dll', 'idndl.dll', 'IDStore.dll', 'ie4uinit.exe', 'ie4ushowIE.exe', 'IEAdvpack.dll', 'ieapfltr.dll', 'iedkcs32.dll', 'ieframe.dll', 'iemigplugin.dll', 'iepeers.dll', 'ieproxy.dll', 'iernonce.dll', 'iertutil.dll', 'IESettingSync.exe', 'iesetup.dll', 'iesysprep.dll', 'ieui.dll', 'ieuinit.inf', 'ieUnatt.exe', 'iexpress.exe', 'ifmon.dll', 'ifsutil.dll', 'ifsutilx.dll', 'igdDiag.dll', 'IHDS.dll', 'ihvrilproxy.dll', 'IKEEXT.DLL', 'imaadp32.acm', 'imagehlp.dll', 'imageres.dll', 'imagesp1.dll', 'imapi.dll', 'imapi2.dll', 'imapi2fs.dll', 'ImController.CoInstaller.dll', 'ImController.InfInstaller.exe', 'iMDriver.inf', 'iMDriverHelper.dll', 'IME', 'imgutil.dll', 'imm32.dll', 'immersivetpmvscmgrsvr.exe', 'ImplatSetup.dll', 'IndexedDbLegacy.dll', 'inetcomm.dll', 'inetcpl.cpl', 'inetmib1.dll', 'inetpp.dll', 'inetppui.dll', 'INETRES.dll', 'inetsrv', 'InfDefaultInstall.exe', 'InkEd.dll', 'InkObjCore.dll', 'InprocLogger.dll', 'input.dll', 'InputCloudStore.dll', 'InputController.dll', 'InputHost.dll', 'InputInjectionBroker.dll', 'InputLocaleManager.dll', 'InputMethod', 'InputService.dll', 'InputSwitch.dll', 'InputSwitchToastHandler.exe', 'InputSystemToastIcon.contrast-white.png', 'InputSystemToastIcon.png', 'inseng.dll', 'InstallService.dll', 'InstallServiceTasks.dll', 'IntegratedServicesRegionPolicySet.json', 'IntelIHVRouter08.dll', 'IntelIHVRouter10.dll', 'IntelWifiIhv08.dll', 'internetmail.dll', 'InternetMailCsp.dll', 'intl.cpl', 'invagent.dll', 'iologmsg.dll', 'ipconfig.exe', 'IPELoggingDictationHelper.dll', 'IPHLPAPI.DLL', 'iphlpsvc.dll', 'Ipmi', 'ipnathlp.dll', 'IpNatHlpClient.dll', 'IppCommon.dll', 'IppCommonProxy.dll', 'iprtprio.dll', 'iprtrmgr.dll', 'ipsecsnp.dll', 'IPSECSVC.DLL', 'ipsmsnap.dll', 'ipxlatcfg.dll', 'iri.dll', 'irprops.cpl', 'iscsicli.exe', 'iscsicpl.dll', 'iscsicpl.exe', 'iscsidsc.dll', 'iscsied.dll', 'iscsiexe.dll', 'iscsilog.dll', 'iscsium.dll', 'iscsiwmi.dll', 'iscsiwmiv2.dll', 'ISM.dll', 'isoburn.exe', 'it-IT', 'itircl.dll', 'itss.dll', 'iuilp.dll', 'iumbase.dll', 'iumcrypt.dll', 'iumdll.dll', 'IumSdk.dll', 'iyuv_32.dll', 'ja-jp', 'JavaScriptCollectionAgent.dll', 'joinproviderol.dll', 'joinutil.dll', 'joy.cpl', 'JpMapControl.dll', 'jpndecoder.dll', 'jpninputrouter.dll', 'jpnranker.dll', 'JpnServiceDS.dll', 'jscript.dll', 'jscript9.dll', 'jscript9diag.dll', 'jsproxy.dll', 'k9001_type_0_restore.txt', 'k900_type_0_restore.txt', 'kanji_1.uce', 'kanji_2.uce', 'kapp_ci.sbin', 'kapp_si.sbin', 'kbd101.dll', 'kbd101a.dll', 'kbd101b.dll', 'kbd101c.dll', 'kbd103.dll', 'kbd106.dll', 'kbd106n.dll', 'KBDA1.DLL', 'KBDA2.DLL', 'KBDA3.DLL', 'KBDADLM.DLL', 'KBDAL.DLL', 'KBDARME.DLL', 'kbdarmph.dll', 'kbdarmty.dll', 'KBDARMW.DLL', 'kbdax2.dll', 'KBDAZE.DLL', 'KBDAZEL.DLL', 'KBDAZST.DLL', 'KBDBASH.DLL', 'KBDBE.DLL', 'KBDBENE.DLL', 'KBDBGPH.DLL', 'KBDBGPH1.DLL', 'KBDBHC.DLL', 'KBDBLR.DLL', 'KBDBR.DLL', 'KBDBU.DLL', 'KBDBUG.DLL', 'KBDBULG.DLL', 'KBDCA.DLL', 'KBDCAN.DLL', 'KBDCHER.DLL', 'KBDCHERP.DLL', 'KBDCR.DLL', 'KBDCZ.DLL', 'KBDCZ1.DLL', 'KBDCZ2.DLL', 'KBDDA.DLL', 'KBDDIV1.DLL', 'KBDDIV2.DLL', 'KBDDV.DLL', 'KBDDZO.DLL', 'KBDES.DLL', 'KBDEST.DLL', 'KBDFA.DLL', 'kbdfar.dll', 'KBDFC.DLL', 'KBDFI.DLL', 'KBDFI1.DLL', 'KBDFO.DLL', 'KBDFR.DLL', 'KBDFTHRK.DLL', 'KBDGAE.DLL', 'KBDGEO.DLL', 'kbdgeoer.dll', 'kbdgeome.dll', 'kbdgeooa.dll', 'kbdgeoqw.dll', 'KBDGKL.DLL', 'KBDGN.DLL', 'KBDGR.DLL', 'KBDGR1.DLL', 'KBDGRLND.DLL', 'KBDGTHC.DLL', 'KBDHAU.DLL', 'KBDHAW.DLL', 'KBDHE.DLL', 'KBDHE220.DLL', 'KBDHE319.DLL', 'KBDHEB.DLL', 'kbdhebl3.dll', 'KBDHELA2.DLL', 'KBDHELA3.DLL', 'KBDHEPT.DLL', 'KBDHU.DLL', 'KBDHU1.DLL', 'kbdibm02.dll', 'KBDIBO.DLL', 'KBDIC.DLL', 'KBDINASA.DLL', 'KBDINBE1.DLL', 'KBDINBE2.DLL', 'KBDINBEN.DLL', 'KBDINDEV.DLL', 'KBDINEN.DLL', 'KBDINGUJ.DLL', 'KBDINHIN.DLL', 'KBDINKAN.DLL', 'KBDINMAL.DLL', 'KBDINMAR.DLL', 'KBDINORI.DLL', 'KBDINPUN.DLL', 'KBDINTAM.DLL', 'KBDINTEL.DLL', 'KBDINUK2.DLL', 'KBDIR.DLL', 'KBDIT.DLL', 'KBDIT142.DLL', 'KBDIULAT.DLL', 'KBDJAV.DLL', 'KBDJPN.DLL', 'KBDKAZ.DLL', 'KBDKHMR.DLL', 'KBDKNI.DLL', 'KBDKOR.DLL', 'KBDKURD.DLL', 'KBDKYR.DLL', 'KBDLA.DLL', 'KBDLAO.DLL', 'kbdlisub.dll', 'kbdlisus.dll', 'kbdlk41a.dll', 'KBDLT.DLL', 'KBDLT1.DLL', 'KBDLT2.DLL', 'KBDLV.DLL', 'KBDLV1.DLL', 'KBDLVST.DLL', 'KBDMAC.DLL', 'KBDMACST.DLL', 'KBDMAORI.DLL', 'KBDMLT47.DLL', 'KBDMLT48.DLL', 'KBDMON.DLL', 'KBDMONMO.DLL', 'KBDMONST.DLL', 'KBDMYAN.DLL', 'KBDNE.DLL', 'kbdnec.dll', 'kbdnec95.dll', 'kbdnecat.dll', 'kbdnecnt.dll', 'KBDNEPR.DLL', 'kbdnko.dll', 'KBDNO.DLL', 'KBDNO1.DLL', 'KBDNSO.DLL', 'KBDNTL.DLL', 'KBDOGHAM.DLL', 'KBDOLCH.DLL', 'KBDOLDIT.DLL', 'KBDOSA.DLL', 'KBDOSM.DLL', 'KBDPASH.DLL', 'kbdphags.dll', 'KBDPL.DLL', 'KBDPL1.DLL', 'KBDPO.DLL', 'KBDRO.DLL', 'KBDROPR.DLL', 'KBDROST.DLL', 'KBDRU.DLL', 'KBDRU1.DLL', 'KBDRUM.DLL', 'KBDSF.DLL', 'KBDSG.DLL', 'KBDSL.DLL', 'KBDSL1.DLL', 'KBDSMSFI.DLL', 'KBDSMSNO.DLL', 'KBDSN1.DLL', 'KBDSORA.DLL', 'KBDSOREX.DLL', 'KBDSORS1.DLL', 'KBDSORST.DLL', 'KBDSP.DLL', 'KBDSW.DLL', 'KBDSW09.DLL', 'KBDSYR1.DLL', 'KBDSYR2.DLL', 'KBDTAILE.DLL', 'KBDTAJIK.DLL', 'KBDTAM99.DLL', 'KBDTAT.DLL', 'KBDTH0.DLL', 'KBDTH1.DLL', 'KBDTH2.DLL', 'KBDTH3.DLL', 'KBDTIFI.DLL', 'KBDTIFI2.DLL', 'KBDTIPRC.DLL', 'KBDTIPRD.DLL', 'KBDTT102.DLL', 'KBDTUF.DLL', 'KBDTUQ.DLL', 'KBDTURME.DLL', 'KBDTZM.DLL', 'KBDUGHR.DLL', 'KBDUGHR1.DLL', 'KBDUK.DLL', 'KBDUKX.DLL', 'KBDUR.DLL', 'KBDUR1.DLL', 'KBDURDU.DLL', 'KBDUS.DLL', 'KBDUSA.DLL', 'KBDUSL.DLL', 'KBDUSR.DLL', 'KBDUSX.DLL', 'KBDUZB.DLL', 'KBDVNTC.DLL', 'KBDWOL.DLL', 'KBDYAK.DLL', 'KBDYBA.DLL', 'KBDYCC.DLL', 'KBDYCL.DLL', 'kd.dll', 'kdcom.dll', 'kdcpw.dll', 'kdhvcom.dll', 'kdnet.dll', 'kdnet_uart16550.dll', 'KdsCli.dll', 'kdstub.dll', 'kdusb.dll', 'kd_02_10df.dll', 'kd_02_10ec.dll', 'kd_02_1137.dll', 'kd_02_14e4.dll', 'kd_02_15b3.dll', 'kd_02_1969.dll', 'kd_02_19a2.dll', 'kd_02_1af4.dll', 'kd_02_8086.dll', 'kd_07_1415.dll', 'kd_0C_8086.dll', 'keepaliveprovider.dll', 'KerbClientShared.dll', 'kerberos.dll', 'kernel.appcore.dll', 'kernel32.dll', 'KernelBase.dll', 'KeyboardSystemToastIcon.contrast-white.png', 'KeyboardSystemToastIcon.png', 'KeyCredMgr.dll', 'keyiso.dll', 'keymgr.dll', 'KeywordDetectorMsftSidAdapter.dll', 'Keywords', 'klist.exe', 'kmddsp.tsp', 'KnobsCore.dll', 'KnobsCsp.dll', 'ko-KR', 'KOAYJJ_L.DLL', 'KOBDrvAPIIF.DLL', 'korean.uce', 'ksetup.exe', 'ksproxy.ax', 'kspsafe.dll', 'kstvtune.ax', 'ksuser.dll', 'Kswdmcap.ax', 'ksxbar.ax', 'ktmutil.exe', 'ktmw32.dll', 'l2gpstore.dll', 'l2nacp.dll', 'L2SecHC.dll', 'l3codeca.acm', 'l3codecp.acm', 'label.exe', 'LangCleanupSysprepAction.dll', 'LanguageComponentsInstaller.dll', 'LanguageComponentsInstallerComHandler.exe', 'LanguageOverlayServer.dll', 'LanguageOverlayUtil.dll', 'LanguagePackDiskCleanup.dll', 'LanguagePackManagementCSP.dll', 'LAPRXY.DLL', 'laps.dll', 'lapscsp.dll', 'LaptopPlugInToastImg.gif', 'LargeRoom.bin', 'LaunchTM.exe', 'LaunchWinApp.exe', 'lcphrase.tbl', 'lcptr.tbl', 'LegacyNetUX.dll', 'LegacyNetUXHost.exe', 'LegacySystemSettings.dll', 'Lenovo', 'LenovoAPI.dll', 'LenovoITS', 'lfsvc.dll', 'libcrypto.dll', 'libsmi_guest.dll', 'libsmi_host.dll', 'license.rtf', 'LicenseManager.dll', 'LicenseManagerApi.dll', 'LicenseManagerShellext.exe', 'LicenseManagerSvc.dll', 'Licenses', 'LicensingCSP.dll', 'licensingdiag.exe', 'LicensingDiagSpp.dll', 'LicensingUI.exe', 'LicensingWinRT.dll', 'licmgr10.dll', 'linkinfo.dll', 'ListSvc.dll', 'LITSSvc.exe', 'lltdapi.dll', 'lltdres.dll', 'lltdsvc.dll', 'lmhsvc.dll', 'LnvHelp64.dll', 'loadperf.dll', 'locale.nls', 'localsec.dll', 'localspl.dll', 'localui.dll', 'LocationApi.dll', 'LocationFramework.dll', 'LocationFrameworkInternalPS.dll', 'LocationFrameworkPS.dll', 'LocationNotificationWindows.exe', 'LocationWinPalMisc.dll', 'Locator.exe', 'LockAppBroker.dll', 'LockAppHost.exe', 'LockController.dll', 'LockHostingFramework.dll', 'LockScreenContent.dll', 'LockScreenContentHost.dll', 'LockScreenContentServer.exe', 'LockScreenData.dll', 'lodctr.exe', 'logagent.exe', 'LogFiles', 'loghours.dll', 'logman.exe', 'logoncli.dll', 'LogonController.dll', 'LogonUI.exe', 'Logs', 'lpasvc.dll', 'lpk.dll', 'lpkinstall.exe', 'lpksetup.exe', 'lpksetupproxyserv.dll', 'LPlatSvc.exe', 'lpremove.exe', 'LsaIso.exe', 'lsasrv.dll', 'lsass.exe', 'lsm.dll', 'lsmproxy.dll', 'lt-LT', 'luainstall.dll', 'luiapi.dll', 'lusrmgr.msc', 'lv-LV', 'lxss', 'lz32.dll', 'l_intl.nls', 'Magnification.dll', 'Magnify.exe', 'MailContactsCalendarSync', 'main.cpl', 'MaintenanceUI.dll', 'makecab.exe', 'manage-bde.exe', 'ManageCI.dll', 'MapConfiguration.dll', 'MapControlCore.dll', 'MapControlStringsRes.dll', 'MapGeocoder.dll', 'mapi32.dll', 'mapistub.dll', 'MapRouter.dll', 'MapsBtSvc.dll', 'MapsBtSvcProxy.dll', 'MapsCSP.dll', 'MapsStore.dll', 'mapstoasttask.dll', 'mapsupdatetask.dll', 'MbaeApi.dll', 'MbaeApiPublic.dll', 'MbaeParserTask.exe', 'MbaeXmlParser.dll', 'mblctr.exe', 'MBMediaManager.dll', 'MBR2GPT.EXE', 'mbsmsapi.dll', 'mbussdapi.dll', 'mcbuilder.exe', 'MCCSEngineShared.dll', 'MCCSPal.dll', 'mciavi32.dll', 'mcicda.dll', 'mciqtz32.dll', 'mciseq.dll', 'mciwave.dll', 'mcl64.dll', 'McpManagementProxy.dll', 'McpManagementService.dll', 'MCRecvSrc.dll', 'mcupdate_AuthenticAMD.dll', 'mcupdate_GenuineIntel.dll', 'MDEServer.exe', 'MDMAgent.exe', 'MDMAppInstaller.exe', 'MdmCommon.dll', 'MdmDiagnostics.dll', 'MdmDiagnosticsTool.exe', 'mdminst.dll', 'mdmlocalmanagement.dll', 'mdmmigrator.dll', 'mdmpostprocessevaluator.dll', 'mdmregistration.dll', 'MdRes.exe', 'MdSched.exe', 'MediaFoundation.DefaultPerceptionProvider.dll', 'MediaSystemToastIcon.contrast-white.png', 'MediaSystemToastIcon.png', 'MediumRoom.bin', 'MemoryDiagnostic.dll', 'MessagingDataModel2.dll', 'MessagingService.dll', 'mf.dll', 'mf3216.dll', 'mfAACEnc.dll', 'mfasfsrcsnk.dll', 'mfaudiocnv.dll', 'mfc100.dll', 'mfc100chs.dll', 'mfc100cht.dll', 'mfc100deu.dll', 'mfc100enu.dll', 'mfc100esn.dll', 'mfc100fra.dll', 'mfc100ita.dll', 'mfc100jpn.dll', 'mfc100kor.dll', 'mfc100rus.dll', 'mfc100u.dll', 'mfc120.dll', 'mfc120chs.dll', 'mfc120cht.dll', 'mfc120deu.dll', 'mfc120enu.dll', 'mfc120esn.dll', 'mfc120fra.dll', 'mfc120ita.dll', 'mfc120jpn.dll', 'mfc120kor.dll', 'mfc120rus.dll', 'mfc120u.dll', 'mfc140.dll', 'mfc140chs.dll', 'mfc140cht.dll', 'mfc140d.dll', 'mfc140deu.dll', 'mfc140enu.dll', 'mfc140esn.dll', 'mfc140fra.dll', 'mfc140ita.dll', 'mfc140jpn.dll', 'mfc140kor.dll', 'mfc140rus.dll', 'mfc140u.dll', 'mfc140ud.dll', 'mfc42.dll', 'mfc42u.dll', 'MFCaptureEngine.dll', 'mfcm100.dll', 'mfcm100u.dll', 'mfcm120.dll', 'mfcm120u.dll', 'mfcm140.dll', 'mfcm140d.dll', 'mfcm140u.dll', 'mfcm140ud.dll', 'mfcore.dll', 'mfcsubs.dll', 'mfds.dll', 'mfdvdec.dll', 'mferror.dll', 'mfh263enc.dll', 'mfh264enc.dll', 'mfksproxy.dll', 'MFMediaEngine.dll', 'mfmjpegdec.dll', 'mfmkvsrcsnk.dll', 'mfmp4srcsnk.dll', 'mfmpeg2srcsnk.dll', 'mfnetcore.dll', 'mfnetsrc.dll', 'mfperfhelper.dll', 'mfplat.dll', 'MFPlay.dll', 'mfpmp.exe', 'mfps.dll', 'mfreadwrite.dll', 'mfsensorgroup.dll', 'mfsrcsnk.dll', 'mfsvr.dll', 'mftranscode.dll', 'mfvdsp.dll', 'mfvfw.dll', 'MFWMAAEC.DLL', 'mgmtapi.dll', 'mgmtrefreshcredprov.dll', 'mi.dll', 'mibincodec.dll', 'Microsoft', 'Microsoft-Windows-AppModelExecEvents.dll', 'microsoft-windows-battery-events.dll', 'microsoft-windows-hal-events.dll', 'Microsoft-Windows-Internal-Shell-NearShareExperience.dll', 'microsoft-windows-kernel-pnp-events.dll', 'microsoft-windows-kernel-power-events.dll', 'microsoft-windows-kernel-processor-power-events.dll', 'Microsoft-Windows-MapControls.dll', 'Microsoft-Windows-MosHost.dll', 'microsoft-windows-pdc.dll', 'microsoft-windows-power-cad-events.dll', 'microsoft-windows-processor-aggregator-events.dll', 'microsoft-windows-sleepstudy-events.dll', 'microsoft-windows-storage-tiering-events.dll', 'microsoft-windows-system-events.dll', 'Microsoft-WindowsPhone-SEManagementProvider.dll', 'Microsoft.Bluetooth.Proxy.dll', 'Microsoft.Bluetooth.Service.dll', 'Microsoft.Bluetooth.UserService.dll', 'Microsoft.Graphics.Display.DisplayEnhancementService.dll', 'Microsoft.LocalUserImageProvider.dll', 'Microsoft.Management.Infrastructure.Native.Unmanaged.dll', 'microsoft.windows.softwarelogo.showdesktop.exe', 'MicrosoftAccount.TokenProvider.Core.dll', 'MicrosoftAccountCloudAP.dll', 'MicrosoftAccountExtension.dll', 'MicrosoftAccountTokenProvider.dll', 'MicrosoftAccountWAMExtension.dll', 'MicrosoftEdgeBCHost.exe', 'MicrosoftEdgeCP.exe', 'MicrosoftEdgeDevTools.exe', 'MicrosoftEdgeSH.exe', 'midimap.dll', 'migisol.dll', 'migration', 'miguiresource.dll', 'migwiz', 'mimefilt.dll', 'mimofcodec.dll', 'MinstoreEvents.dll', 'MiracastInputMgr.dll', 'MiracastReceiver.dll', 'MiracastReceiverExt.dll', 'MirrorDrvCompat.dll', 'mispace.dll', 'MitigationClient.dll', 'MitigationConfiguration.dll', 'miutils.dll', 'MixedReality.Broker.dll', 'MixedRealityCapture.Pipeline.dll', 'MixedRealityRuntime.dll', 'MixedRealityRuntime.json', 'mlang.dat', 'mlang.dll', 'mmc.exe', 'mmc.exe.config', 'mmcbase.dll', 'mmcndmgr.dll', 'mmcshext.dll', 'MMDevAPI.dll', 'mmgaclient.dll', 'mmgaproxystub.dll', 'mmgaserver.exe', 'mmres.dll', 'mmsys.cpl', 'mobilenetworking.dll', 'mobsync.exe', 'mode.com', 'modemui.dll', 'modernexecserver.dll', 'more.com', 'moricons.dll', 'moshost.dll', 'MosHostClient.dll', 'moshostcore.dll', 'MosStorage.dll', 'mountvol.exe', 'MouseSystemToastIcon.contrast-white.png', 'MouseSystemToastIcon.png', 'MoUsoCoreWorker.exe', 'MP3DMOD.DLL', 'MP43DECD.DLL', 'MP4SDECD.DLL', 'Mpeg2Data.ax', 'mpeval.dll', 'mpg2splt.ax', 'MPG4DECD.DLL', 'mpnotify.exe', 'mpr.dll', 'mprapi.dll', 'mprddm.dll', 'mprdim.dll', 'mprext.dll', 'mprmsg.dll', 'MpSigStub.exe', 'MPSSVC.dll', 'mpunits.dll', 'MRINFO.EXE', 'MrmCoreR.dll', 'MrmDeploy.dll', 'MrmIndexer.dll', 'MRT', 'MRT.exe', 'mrt100.dll', 'mrt_map.dll', 'ms3dthumbnailprovider.dll', 'msaatext.dll', 'MSAC3ENC.DLL', 'msacm32.dll', 'msacm32.drv', 'msadp32.acm', 'msafd.dll', 'MSAJApi.dll', 'MSAlacDecoder.dll', 'MSAlacEncoder.dll', 'MSAMRNBDecoder.dll', 'MSAMRNBEncoder.dll', 'MSAMRNBSink.dll', 'MSAMRNBSource.dll', 'MsApoFxProxy.dll', 'MSAProfileNotificationHandler.dll', 'msasn1.dll', 'MSAudDecMFT.dll', 'msaudite.dll', 'msauserext.dll', 'mscandui.dll', 'mscat32.dll', 'MSchedExe.exe', 'msclmd.dll', 'mscms.dll', 'msconfig.exe', 'mscoree.dll', 'mscorier.dll', 'mscories.dll', 'msctf.dll', 'msctfime.ime', 'MsCtfMonitor.dll', 'msctfp.dll', 'msctfui.dll', 'msctfuimanager.dll', 'msdadiag.dll', 'msdart.dll', 'msdatsrc.tlb', 'msdelta.dll', 'msdmo.dll', 'MSDRM', 'msdrm.dll', 'msdt.exe', 'MsDtc', 'msdtc.exe', 'msdtckrm.dll', 'msdtclog.dll', 'msdtcprx.dll', 'msdtcspoffln.dll', 'msdtctm.dll', 'msdtcuiu.dll', 'msdtcVSp1res.dll', 'MSDvbNP.ax', 'msdxm.ocx', 'msdxm.tlb', 'msfeeds.dll', 'msfeedsbs.dll', 'msfeedssync.exe', 'MSFlacDecoder.dll', 'MSFlacEncoder.dll', 'msftedit.dll', 'MsftOemDllIgneous.dll', 'msg711.acm', 'msgsm32.acm', 'MSHEIF.dll', 'mshta.exe', 'mshtml.dll', 'mshtml.tlb', 'MshtmlDac.dll', 'mshtmled.dll', 'mshtmler.dll', 'msi.dll', 'MsiCofire.dll', 'msidcrl40.dll', 'msident.dll', 'msidle.dll', 'msidntld.dll', 'msieftp.dll', 'msiexec.exe', 'msihnd.dll', 'msiltcfg.dll', 'msimg32.dll', 'msimsg.dll', 'msimtf.dll', 'msinfo32.exe', 'msisip.dll', 'msIso.dll', 'msiwer.dll', 'mskeyprotcli.dll', 'mskeyprotect.dll', 'msls31.dll', 'msmpeg2adec.dll', 'MSMPEG2ENC.DLL', 'msmpeg2vdec.dll', 'MSNP.ax', 'msobjs.dll', 'msoert2.dll', 'MSOpusDecoder.dll', 'mspaint.exe', 'mspatcha.dll', 'mspatchc.dll', 'MSPhotography.dll', 'msports.dll', 'msprivs.dll', 'msra.exe', 'msrahc.dll', 'MsraLegacy.tlb', 'msrating.dll', 'MSRAWImage.dll', 'msrdc.dll', 'MsRdpWebAccess.dll', 'msrle32.dll', 'msscntrs.dll', 'mssign32.dll', 'mssip32.dll', 'mssitlb.dll', 'MsSpellCheckingFacility.dll', 'MsSpellCheckingHost.exe', 'mssph.dll', 'mssprxy.dll', 'mssrch.dll', 'mssvp.dll', 'mstask.dll', 'msTextPrediction.dll', 'mstsc.exe', 'mstscax.dll', 'msutb.dll', 'msv1_0.dll', 'msvcirt.dll', 'msvcp100.dll', 'msvcp110_win.dll', 'msvcp120.dll', 'msvcp120_clr0400.dll', 'msvcp140.dll', 'msvcp140d.dll', 'msvcp140_1.dll', 'msvcp140_1d.dll', 'msvcp140_2.dll', 'msvcp140_2d.dll', 'msvcp140_atomic_wait.dll', 'msvcp140_clr0400.dll', 'msvcp140_codecvt_ids.dll', 'msvcp60.dll', 'msvcp_win.dll', 'msvcr100.dll', 'msvcr100_clr0400.dll', 'msvcr120.dll', 'msvcr120_clr0400.dll', 'msvcrt.dll', 'msvfw32.dll', 'msvidc32.dll', 'MSVidCtl.dll', 'MSVideoDSP.dll', 'MSVP9DEC.dll', 'msvproc.dll', 'MSVPXENC.dll', 'MSWB7.dll', 'MSWB70804.dll', 'MSWebp.dll', 'mswmdm.dll', 'mswsock.dll', 'msxml3.dll', 'msxml3r.dll', 'msxml6.dll', 'msxml6r.dll', 'msyuv.dll', 'MtcModel.dll', 'MTF.dll', 'MTFAppServiceDS.dll', 'MtfDecoder.dll', 'MTFFuzzyDS.dll', 'MTFServer.dll', 'MTFSpellcheckDS.dll', 'mtstocom.exe', 'mtxclu.dll', 'mtxdm.dll', 'mtxex.dll', 'mtxoci.dll', 'MUI', 'muifontsetup.dll', 'MUILanguageCleanup.dll', 'MuiUnattend.exe', 'MultiDigiMon.exe', 'musdialoghandlers.dll', 'MusNotification.exe', 'MusNotificationUx.exe', 'MusNotifyIcon.exe', 'MusUpdateHandlers.dll', 'my-mm', 'mycomput.dll', 'mydocs.dll', 'Mystify.scr', 'N360_BACKUP', 'NAPCRYPT.DLL', 'NapiNSP.dll', 'Narrator.exe', 'NarratorControlTemplates.xml', 'NaturalAuth.dll', 'NaturalAuthClient.dll', 'NaturalLanguage6.dll', 'navshutdown.dll', 'nb-NO', 'nbtstat.exe', 'NcaApi.dll', 'NcaSvc.dll', 'ncbservice.dll', 'NcdAutoSetup.dll', 'NcdProp.dll', 'nci.dll', 'ncobjapi.dll', 'ncpa.cpl', 'ncrypt.dll', 'ncryptprov.dll', 'ncryptsslp.dll', 'ncsi.dll', 'ncuprov.dll', 'ndadmin.exe', 'nddeapi.dll', 'NDF', 'ndfapi.dll', 'ndfetw.dll', 'NdfEventView.xml', 'ndfhcdiscovery.dll', 'ndishc.dll', 'NDKPing.exe', 'ndproxystub.dll', 'nduprov.dll', 'negoexts.dll', 'net.exe', 'net1.exe', 'netapi32.dll', 'netbios.dll', 'netbtugc.exe', 'NetCellcoreCellManagerProviderResources.dll', 'netcenter.dll', 'netcfg.exe', 'NetCfgNotifyObjectHost.exe', 'netcfgx.dll', 'netcorehc.dll', 'netdiagfx.dll', 'NetDriverInstall.dll', 'netevent.dll', 'NetEvtFwdr.exe', 'netfxperf.dll', 'neth.dll', 'NetHost.exe', 'netid.dll', 'netiohlp.dll', 'netiougc.exe', 'netjoin.dll', 'netlogon.dll', 'netman.dll', 'NetMgmtIF.dll', 'netmsg.dll', 'netplwiz.dll', 'Netplwiz.exe', 'netprofm.dll', 'netprofmsvc.dll', 'netprovfw.dll', 'netprovisionsp.dll', 'NetSetupApi.dll', 'NetSetupEngine.dll', 'NetSetupShim.dll', 'NetSetupSvc.dll', 'netsh.exe', 'netshell.dll', 'NETSTAT.EXE', 'nettrace.dll', 'NetTrace.PLA.Diagnostics.xml', 'nettraceex.dll', 'netutils.dll', 'NetworkBindingEngineMigPlugin.dll', 'NetworkCollectionAgent.dll', 'NetworkDesktopSettings.dll', 'networkexplorer.dll', 'networkhelper.dll', 'NetworkIcon.dll', 'networkitemfactory.dll', 'networklist', 'NetworkMobileSettings.dll', 'NetworkProxyCsp.dll', 'NetworkQoSPolicyCSP.dll', 'NetworkStatus.dll', 'NetworkUXBroker.dll', 'newdev.dll', 'newdev.exe', 'NFCProvisioningPlugin.dll', 'NfcRadioMedia.dll', 'ngccredprov.dll', 'NgcCtnr.dll', 'NgcCtnrGidsHandler.dll', 'NgcCtnrSvc.dll', 'NgcIso.exe', 'NgcIsoCtnr.dll', 'ngckeyenum.dll', 'ngcksp.dll', 'ngclocal.dll', 'ngcpopkeysrv.dll', 'NgcProCsp.dll', 'ngcrecovery.dll', 'ngcsvc.dll', 'ngctasks.dll', 'ninput.dll', 'nl-NL', 'NL7Data0804.dll', 'NL7Lexicons0804.dll', 'NL7Models0804.dll', 'nlaapi.dll', 'nlahc.dll', 'nlasvc.dll', 'nlhtml.dll', 'nlmgp.dll', 'nlmproxy.dll', 'nlmsprep.dll', 'nlsbres.dll', 'NlsData0000.dll', 'Nlsdl.dll', 'nltest.exe', 'NmaDirect.dll', 'nmbind.exe', 'nmscrub.exe', 'node_modules', 'NOISE.CHS', 'NOISE.DAT', 'normaliz.dll', 'normidna.nls', 'normnfc.nls', 'normnfd.nls', 'normnfkc.nls', 'normnfkd.nls', 'notepad.exe', 'NotificationController.dll', 'NotificationControllerPS.dll', 'notificationplatformcomponent.dll', 'npmproxy.dll', 'NPSM.dll', 'NPSMDesktopProvider.dll', 'nrpsrv.dll', 'nshhttp.dll', 'nshipsec.dll', 'nshwfp.dll', 'nsi.dll', 'nsisvc.dll', 'nslookup.exe', 'ntasn1.dll', 'ntdll.dll', 'ntdsapi.dll', 'ntlanman.dll', 'ntlanui2.dll', 'NtlmShared.dll', 'ntmarta.dll', 'ntoskrnl.exe', 'ntprint.dll', 'ntprint.exe', 'ntshrui.dll', 'ntvdm64.dll', 'Nui', 'nvspinfo.exe', 'objsel.dll', 'occache.dll', 'ocsetapi.dll', 'odbc32.dll', 'odbcad32.exe', 'odbcbcp.dll', 'odbcconf.dll', 'odbcconf.exe', 'odbcconf.rsp', 'odbccp32.dll', 'odbccr32.dll', 'odbccu32.dll', 'odbcint.dll', 'odbctrac.dll', 'OEMDefaultAssociations.dll', 'OEMDefaultAssociations.xml', 'oemlicense.dll', 'OEMLOGO.bmp', 'ofdeploy.exe', 'offfilt.dll', 'officecsp.dll', 'offlinelsa.dll', 'offlinesam.dll', 'offreg.dll', 'oflc-nz.rs', 'OkDone_80.contrast-black.png', 'OkDone_80.contrast-white.png', 'OkDone_80.png', 'ole32.dll', 'oleacc.dll', 'oleacchooks.dll', 'oleaccrc.dll', 'oleaut32.dll', 'oledlg.dll', 'oleprn.dll', 'OmaDmAgent.dll', 'omadmapi.dll', 'omadmclient.exe', 'omadmprc.exe', 'OnDemandBrokerClient.dll', 'OnDemandConnRouteHelper.dll', 'OneBackupHandler.dll', 'OneCoreCommonProxyStub.dll', 'OneCoreUAPCommonProxyStub.dll', 'OneDriveSettingSyncProvider.dll', 'OneSettingsClient.dll', 'onex.dll', 'onexui.dll', 'onnxruntime.dll', 'oobe', 'OOBE-Maintenance.exe', 'OpcServices.dll', 'OpenCL.dll', 'openfiles.exe', 'opengl32.dll', 'OpenSSH', 'OpenWith.exe', 'OptionalFeatures.exe', 'ortcengine.dll', 'osa-Osge-001', 'osbaseln.dll', 'osk.exe', 'OskSupport.dll', 'osuninst.dll', 'OutdoorAudioEnvironment.bin', 'P2P.dll', 'P2PGraph.dll', 'p2pnetsh.dll', 'p2psvc.dll', 'p9np.dll', 'pacjsworker.exe', 'package-lock.json', 'package.json', 'PackagedCWALauncher.exe', 'packager.dll', 'PackageStateChangeHandler.dll', 'PackageStateRoaming.dll', 'panmap.dll', 'PasswordEnrollmentManager.dll', 'PasswordOnWakeSettingFlyout.exe', 'PATHPING.EXE', 'pautoenr.dll', 'PayloadRestrictions.dll', 'PaymentMediatorServiceProxy.dll', 'pcacli.dll', 'pcadm.dll', 'pcaevts.dll', 'pcalua.exe', 'pcasvc.dll', 'pcaui.dll', 'pcaui.exe', 'pcbp.rs', 'pcl.sep', 'PCPKsp.dll', 'PCShellCommonProxyStub.dll', 'pcsvDevice.dll', 'pcwrun.exe', 'pcwum.dll', 'pcwutl.dll', 'pdh.dll', 'pdhui.dll', 'pegi-pt.rs', 'pegi.rs', 'PeopleAPIs.dll', 'PeopleBand.dll', 'PerceptionDevice.dll', 'PerceptionSimulation', 'PerceptionSimulation.ProxyStubs.dll', 'PerceptionSimulationExtensions.dll', 'PerceptionSimulationManager.dll', 'perfc009.dat', 'perfctrs.dll', 'perfd009.dat', 'perfdisk.dll', 'perfh009.dat', 'perfi009.dat', 'perfmon.exe', 'perfmon.msc', 'perfnet.dll', 'perfos.dll', 'perfproc.dll', 'PerfStringBackup.INI', 'perftrack.dll', 'perfts.dll', 'perf_gputiming.dll', 'PersonalizationCSP.dll', 'phoneactivate.exe', 'PhoneCallHistoryApis.dll', 'PhoneOm.dll', 'PhonePlatformAbstraction.dll', 'PhoneProviders.dll', 'PhoneService.dll', 'PhoneServiceRes.dll', 'PhoneSystemToastIcon.contrast-white.png', 'PhoneSystemToastIcon.png', 'Phoneutil.dll', 'PhoneutilRes.dll', 'PhotoMetadataHandler.dll', 'PhotoScreensaver.scr', 'photowiz.dll', 'PickerHost.exe', 'PickerPlatform.dll', 'pid.dll', 'pidgenx.dll', 'pifmgr.dll', 'PimIndexMaintenance.dll', 'PimIndexMaintenanceClient.dll', 'Pimstore.dll', 'PinEnrollmentBroker.exe', 'PinEnrollmentHelper.dll', 'PING.EXE', 'pkeyhelper.dll', 'PkgMgr.exe', 'PktMon.exe', 'PktMonApi.dll', 'pku2u.dll', 'pl-PL', 'pla.dll', 'plasrv.exe', 'playlistfolder.dll', 'PlaySndSrv.dll', 'PlayToDevice.dll', 'PlayToManager.dll', 'playtomenu.dll', 'PlayToReceiver.dll', 'PlayToStatusProvider.dll', 'ploptin.dll', 'pngfilt.dll', 'pnidui.dll', 'pnpclean.dll', 'pnppolicy.dll', 'pnpts.dll', 'pnpui.dll', 'PnPUnattend.exe', 'pnputil.exe', 'PNPXAssoc.dll', 'PNPXAssocPrx.dll', 'pnrpauto.dll', 'Pnrphc.dll', 'pnrpnsp.dll', 'pnrpsvc.dll', 'PointOfService', 'policymanager.dll', 'policymanagerprecheck.dll', 'polstore.dll', 'poqexec.exe', 'PortableDeviceApi.dll', 'PortableDeviceClassExtension.dll', 'PortableDeviceConnectApi.dll', 'PortableDeviceStatus.dll', 'PortableDeviceSyncProvider.dll', 'PortableDeviceTypes.dll', 'PortableDeviceWiaCompat.dll', 'posetup.dll', 'pospaymentsworker.exe', 'POSyncServices.dll', 'pots.dll', 'powercfg.cpl', 'powercfg.exe', 'powercpl.dll', 'powrprof.dll', 'prauthproviders.dll', 'PresentationHost.exe', 'PresentationHostProxy.dll', 'prevhost.exe', 'prfc0804.dat', 'prfd0804.dat', 'prfh0804.dat', 'prfi0804.dat', 'prflbmsg.dll', 'print.exe', 'Print.PrintSupport.Source.dll', 'Print.Workflow.Source.dll', 'PrinterCleanupTask.dll', 'printfilterpipelineprxy.dll', 'printfilterpipelinesvc.exe', 'Printing_Admin_Scripts', 'PrintIsolationHost.exe', 'PrintIsolationProxy.dll', 'PrintPlatformConfig.dll', 'PrintRenderAPIHost.DLL', 'printticketvalidation.dll', 'printui.dll', 'printui.exe', 'PrintWorkflowService.dll', 'PrintWSDAHost.dll', 'prncache.dll', 'prnfldr.dll', 'prnntfy.dll', 'prntvpt.dll', 'ProductEnumerator.dll', 'profapi.dll', 'profext.dll', 'profprov.dll', 'profsvc.dll', 'profsvcext.dll', 'propsys.dll', 'proquota.exe', 'provcore.dll', 'provdatastore.dll', 'provdiagnostics.dll', 'provengine.dll', 'provhandlers.dll', 'provisioningcommandscsp.dll', 'provisioningcsp.dll', 'ProvisioningHandlers.dll', 'provlaunch.exe', 'provmigrate.dll', 'provops.dll', 'provpackageapidll.dll', 'provplatformdesktop.dll', 'ProvPluginEng.dll', 'provsvc.dll', 'ProvSysprep.dll', 'provthrd.dll', 'provtool.exe', 'ProximityCommon.dll', 'ProximityCommonPal.dll', 'ProximityRtapiPal.dll', 'ProximityService.dll', 'ProximityServicePal.dll', 'ProximityToast', 'ProximityUxHost.exe', 'prproc.exe', 'prvdmofcomp.dll', 'psapi.dll', 'pscript.sep', 'PSHED.DLL', 'psisdecd.dll', 'psisrndr.ax', 'PSModuleDiscoveryProvider.dll', 'psmodulediscoveryprovider.mof', 'PsmServiceExtHost.dll', 'psmsrv.dll', 'psr.exe', 'pstask.dll', 'pstorec.dll', 'pt-BR', 'pt-PT', 'ptpprov.dll', 'puiapi.dll', 'puiobj.dll', 'PushToInstall.dll', 'pwlauncher.dll', 'pwlauncher.exe', 'pwrshplugin.dll', 'pwsso.dll', 'qasf.dll', 'qcap.dll', 'qdv.dll', 'qdvd.dll', 'qedit.dll', 'qedwipes.dll', 'qmgr.dll', 'QualityUpdateAssistant.dll', 'quartz.dll', 'Query.dll', 'QuickActionsDataModel.dll', 'quickassist.exe', 'QuietHours.dll', 'qwave.dll', 'RacEngn.dll', 'racpldlg.dll', 'radardt.dll', 'radarrs.dll', 'RADCUI.dll', 'Rapidfire64.dll', 'RapidFireServer64.dll', 'ras', 'rasadhlp.dll', 'rasapi32.dll', 'rasauto.dll', 'rasautou.exe', 'raschap.dll', 'raschapext.dll', 'rasctrnm.h', 'rasctrs.dll', 'rascustom.dll', 'rasdiag.dll', 'rasdial.exe', 'rasdlg.dll', 'raserver.exe', 'rasgcw.dll', 'rasman.dll', 'rasmans.dll', 'rasmbmgr.dll', 'RasMediaManager.dll', 'RASMM.dll', 'rasmontr.dll', 'rasphone.exe', 'rasplap.dll', 'rasppp.dll', 'rastapi.dll', 'rastls.dll', 'rastlsext.dll', 'RasToast', 'rdbui.dll', 'rdpbase.dll', 'rdpcfgex.dll', 'rdpclip.exe', 'rdpcore.dll', 'rdpcorets.dll', 'rdpcredentialprovider.dll', 'rdpencom.dll', 'rdpendp.dll', 'rdpinput.exe', 'rdpnano.dll', 'RdpRelayTransport.dll', 'RdpSa.exe', 'RdpSaProxy.exe', 'RdpSaPs.dll', 'RdpSaUacHelper.exe', 'rdpserverbase.dll', 'rdpsharercom.dll', 'rdpudd.dll', 'rdpviewerax.dll', 'rdrleakdiag.exe', 'RDSAppXHelper.dll', 'rdsdwmdr.dll', 'rdsxvmaudio.dll', 'rdvvmtransport.dll', 'RDXService.dll', 'RDXTaskFactory.dll', 'readCloudDataSettings.exe', 'ReAgent.dll', 'ReAgentc.exe', 'ReAgentTask.dll', 'recdisc.exe', 'recover.exe', 'Recovery', 'recovery.dll', 'RecoveryDrive.exe', 'refsutil.exe', 'reg.exe', 'regapi.dll', 'RegCtrl.dll', 'regedt32.exe', 'regidle.dll', 'regini.exe', 'Register-CimProvider.exe', 'regsvc.dll', 'regsvr32.exe', 'regtest.txt', 'reguwpapi.dll', 'ReInfo.dll', 'rekeywiz.exe', 'relog.exe', 'RelPost.exe', 'remoteaudioendpoint.dll', 'remotepg.dll', 'RemotePosWorker.exe', 'remotesp.tsp', 'RemoteSystemToastIcon.contrast-white.png', 'RemoteSystemToastIcon.png', 'RemoteWipeCSP.dll', 'RemovableMediaProvisioningPlugin.dll', 'RemoveDeviceContextHandler.dll', 'RemoveDeviceElevated.dll', 'rendezvousSession.tlb', 'repair-bde.exe', 'replace.exe', 'ReportingCSP.dll', 'RESAMPLEDMO.DLL', 'ResBParser.dll', 'reseteng.dll', 'ResetEngine.dll', 'ResetEngine.exe', 'ResetEngOnline.dll', 'resmon.exe', 'ResourceMapper.dll', 'ResourcePolicyClient.dll', 'ResourcePolicyServer.dll', 'ResPriHMImageList', 'ResPriHMImageListLowCost', 'ResPriImageList', 'ResPriImageListLowCost', 'RestartManager.mof', 'RestartManagerUninstall.mof', 'RestartNowPower_80.contrast-black.png', 'RestartNowPower_80.contrast-white.png', 'RestartNowPower_80.png', 'RestartTonight_80.png', 'RestartTonight_80_contrast-black.png', 'RestartTonight_80_contrast-white.png', 'restore', 'resutils.dll', 'rgb9rast.dll', 'Ribbons.scr', 'riched20.dll', 'riched32.dll', 'rilproxy.dll', 'RjvMDMConfig.dll', 'RMActivate.exe', 'RMActivate_isv.exe', 'RMActivate_ssp.exe', 'RMActivate_ssp_isv.exe', 'RMapi.dll', 'rmclient.dll', 'RmClient.exe', 'RMSRoamingSecurity.dll', 'rmttpmvscmgrsvr.exe', 'rnr20.dll', 'ro-RO', 'RoamingSecurity.dll', 'Robocopy.exe', 'rometadata.dll', 'RotMgr.dll', 'ROUTE.EXE', 'RpcEpMap.dll', 'rpchttp.dll', 'RpcNs4.dll', 'rpcnsh.dll', 'RpcPing.exe', 'rpcrt4.dll', 'RpcRtRemote.dll', 'rpcss.dll', 'rrinstaller.exe', 'rsaenh.dll', 'rshx32.dll', 'RstrtMgr.dll', 'rstrui.exe', 'RtCOM64.dll', 'RtDataProc64.dll', 'RtEventLog.dll', 'rtffilt.dll', 'RtkApi64U.dll', 'RtkAudUService64.exe', 'RtkCfg64.dll', 'rtm.dll', 'rtmcodecs.dll', 'RTMediaFrame.dll', 'rtmmvrortc.dll', 'rtmpal.dll', 'rtmpltfm.dll', 'rtutils.dll', 'RTWorkQ.dll', 'ru-RU', 'RuleBasedDS.dll', 'runas.exe', 'rundll32.exe', 'runexehelper.exe', 'RunLegacyCPLElevated.exe', 'runonce.exe', 'RuntimeBroker.exe', 'samcli.dll', 'samlib.dll', 'SAMSfpi.dat', 'samsrv.dll', 'samu_krnl_ci.sbin', 'samu_krnl_isv_ci.sbin', 'sas.dll', 'sbe.dll', 'sbeio.dll', 'sberes.dll', 'sbservicetrigger.dll', 'sc.exe', 'ScanPlugin.dll', 'scansetting.dll', 'SCardBi.dll', 'SCardDlg.dll', 'SCardSvr.dll', 'ScavengeSpace.xml', 'scavengeui.dll', 'ScDeviceEnum.dll', 'scecli.dll', 'scesrv.dll', 'schannel.dll', 'schedcli.dll', 'schedsvc.dll', 'ScheduleTime_80.contrast-black.png', 'ScheduleTime_80.contrast-white.png', 'ScheduleTime_80.png', 'schtasks.exe', 'scksp.dll', 'scripto.dll', 'scrnsave.scr', 'scrobj.dll', 'scrrun.dll', 'sdbinst.exe', 'sdchange.exe', 'sdclt.exe', 'sdcpl.dll', 'SDDS.dll', 'sdengin2.dll', 'SDFHost.dll', 'sdhcinst.dll', 'sdiageng.dll', 'sdiagnhost.exe', 'sdiagprv.dll', 'sdiagschd.dll', 'sdohlp.dll', 'sdrsvc.dll', 'sdshext.dll', 'Search.ProtocolHandler.MAPI2.dll', 'SearchFilterHost.exe', 'SearchFolder.dll', 'SearchIndexer.exe', 'SearchProtocolHost.exe', 'SebBackgroundManagerPolicy.dll', 'SecConfig.efi', 'SecEdit.exe', 'sechost.dll', 'secinit.exe', 'seclogon.dll', 'secproc.dll', 'secproc_isv.dll', 'secproc_ssp.dll', 'secproc_ssp_isv.dll', 'secur32.dll', 'SecureBootEncodeUEFI.exe', 'SecureBootUpdates', 'securekernel.exe', 'SecureTimeAggregator.dll', 'security.dll', 'SecurityAndMaintenance.png', 'SecurityAndMaintenance_Alert.png', 'SecurityAndMaintenance_Error.png', 'SecurityCenterBroker.dll', 'SecurityCenterBrokerPS.dll', 'SecurityHealthAgent.dll', 'SecurityHealthHost.exe', 'SecurityHealthProxyStub.dll', 'SecurityHealthService.exe', 'SecurityHealthSSO.dll', 'SecurityHealthSystray.exe', 'sedplugins.dll', 'SEMgrPS.dll', 'SEMgrSvc.dll', 'sendmail.dll', 'Sens.dll', 'SensApi.dll', 'SensorDataService.exe', 'SensorPerformanceEvents.dll', 'SensorsApi.dll', 'SensorsClassExtension.dll', 'SensorsCpl.dll', 'SensorService.dll', 'SensorsNativeApi.dll', 'SensorsNativeApi.V2.dll', 'SensorsUtilsV2.dll', 'sensrsvc.dll', 'serialui.dll', 'services.exe', 'services.msc', 'ServicingUAPI.dll', 'serwvdrv.dll', 'SessEnv.dll', 'sessionmsg.exe', 'SET6932.tmp', 'SET7013.tmp', 'SET7171.tmp', 'SET7253.tmp', 'SET769A.tmp', 'SET81DD.tmp', 'SET87DC.tmp', 'SETACD6.tmp', 'SETBAC7.tmp', 'setbcdlocale.dll', 'SETC4D0.tmp', 'SETC4D2.tmp', 'SETC4E4.tmp', 'SETC4F6.tmp', 'SETC508.tmp', 'SETF1E4.tmp', 'SETF2B3.tmp', 'SETF3EF.tmp', 'sethc.exe', 'SetNetworkLocation.dll', 'SetNetworkLocationFlyout.dll', 'SetProxyCredential.dll', 'setspn.exe', 'SettingMonitor.dll', 'settings.dat', 'SettingsEnvironment.Desktop.dll', 'SettingsExtensibilityHandlers.dll', 'SettingsHandlers_Accessibility.dll', 'SettingsHandlers_AnalogShell.dll', 'SettingsHandlers_AppControl.dll', 'SettingsHandlers_AppExecutionAlias.dll', 'SettingsHandlers_Authentication.dll', 'SettingsHandlers_BackgroundApps.dll', 'SettingsHandlers_BatteryUsage.dll', 'SettingsHandlers_BrowserDeclutter.dll', 'SettingsHandlers_CapabilityAccess.dll', 'SettingsHandlers_Clipboard.dll', 'SettingsHandlers_ClosedCaptioning.dll', 'SettingsHandlers_ContentDeliveryManager.dll', 'SettingsHandlers_Cortana.dll', 'SettingsHandlers_Devices.dll', 'SettingsHandlers_Display.dll', 'SettingsHandlers_Flights.dll', 'SettingsHandlers_Fonts.dll', 'SettingsHandlers_ForceSync.dll', 'SettingsHandlers_Gaming.dll', 'SettingsHandlers_Geolocation.dll', 'SettingsHandlers_Gpu.dll', 'SettingsHandlers_HoloLens_Environment.dll', 'SettingsHandlers_IME.dll', 'SettingsHandlers_InkingTypingPrivacy.dll', 'SettingsHandlers_InputPersonalization.dll', 'SettingsHandlers_Language.dll', 'SettingsHandlers_ManagePhone.dll', 'SettingsHandlers_Maps.dll', 'SettingsHandlers_Mouse.dll', 'SettingsHandlers_Notifications.dll', 'SettingsHandlers_nt.dll', 'SettingsHandlers_OneCore_BatterySaver.dll', 'SettingsHandlers_OneCore_PowerAndSleep.dll', 'SettingsHandlers_OneDriveBackup.dll', 'SettingsHandlers_OptionalFeatures.dll', 'SettingsHandlers_PCDisplay.dll', 'SettingsHandlers_Pen.dll', 'SettingsHandlers_QuickActions.dll', 'SettingsHandlers_Region.dll', 'SettingsHandlers_SharedExperiences_Rome.dll', 'SettingsHandlers_SIUF.dll', 'SettingsHandlers_SpeechPrivacy.dll', 'SettingsHandlers_Startup.dll', 'SettingsHandlers_StorageSense.dll', 'SettingsHandlers_Troubleshoot.dll', 'SettingsHandlers_User.dll', 'SettingsHandlers_UserAccount.dll', 'SettingsHandlers_UserExperience.dll', 'SettingsHandlers_WorkAccess.dll', 'SettingSync.dll', 'SettingSyncCore.dll', 'SettingSyncDownloadHelper.dll', 'SettingSyncHost.exe', 'setup', 'setupapi.dll', 'setupcl.dll', 'setupcl.exe', 'setupcln.dll', 'setupetw.dll', 'setupugc.exe', 'setx.exe', 'sfc.dll', 'sfc.exe', 'sfc_os.dll', 'sgl_mnn_dll.dll', 'Sgrm', 'SgrmBroker.exe', 'SgrmEnclave.dll', 'SgrmEnclave_secure.dll', 'SgrmLpac.exe', 'shacct.dll', 'shacctprofile.dll', 'SharedPCCSP.dll', 'SharedRealitySvc.dll', 'ShareHost.dll', 'sharemediacpl.dll', 'SHCore.dll', 'shdocvw.dll', 'shell32.dll', 'ShellAppRuntime.exe', 'ShellCommonCommonProxyStub.dll', 'ShellExperiences', 'shellstyle.dll', 'shfolder.dll', 'shgina.dll', 'ShiftJIS.uce', 'shimeng.dll', 'shimgvw.dll', 'shlwapi.dll', 'shpafact.dll', 'shrpubw.exe', 'shsetup.dll', 'shsvcs.dll', 'shunimpl.dll', 'shutdown.exe', 'shutdownext.dll', 'shutdownux.dll', 'shwebsvc.dll', 'si-lk', 'signdrv.dll', 'sigverif.exe', 'SIHClient.exe', 'sihost.exe', 'SimAuth.dll', 'SimCfg.dll', 'simpdata.tlb', 'sk-SK', 'skci.dll', 'sl-SI', 'slc.dll', 'slcext.dll', 'SleepStudy', 'SlideToShutDown.exe', 'slmgr', 'slmgr.vbs', 'slui.exe', 'slwga.dll', 'SmallRoom.bin', 'SmartCardBackgroundPolicy.dll', 'SmartcardCredentialProvider.dll', 'SmartCardSimulator.dll', 'smartscreen.exe', 'smartscreenps.dll', 'SmartStandbyEvent.man', 'SmartStandbyInst.exe', 'SMBHelperClass.dll', 'smbwmiv2.dll', 'SMI', 'SmiEngine.dll', 'smphost.dll', 'SmsRouterSvc.dll', 'smss.exe', 'SndVol.exe', 'SndVolSSO.dll', 'SnippingTool.exe', 'snmpapi.dll', 'snmptrap.exe', 'Snooze_80.contrast-black.png', 'Snooze_80.contrast-white.png', 'Snooze_80.png', 'socialapis.dll', 'softkbd.dll', 'softpub.dll', 'sort.exe', 'SortServer2003Compat.dll', 'SortWindows61.dll', 'SortWindows62.dll', 'SortWindows64.dll', 'SortWindows6Compat.dll', 'SpaceAgent.exe', 'spacebridge.dll', 'SpaceControl.dll', 'spaceman.exe', 'SpatialAudioLicenseSrv.exe', 'SpatializerApo.dll', 'SpatialStore.dll', 'spbcd.dll', 'SpeakersSystemToastIcon.contrast-white.png', 'SpeakersSystemToastIcon.png', 'Spectrum.exe', 'SpectrumSyncClient.dll', 'Speech', 'SpeechPal.dll', 'Speech_OneCore', 'spfileq.dll', 'spinf.dll', 'SPITDevMft64.dll', 'spmpm.dll', 'spnet.dll', 'spool', 'spoolss.dll', 'spoolsv.exe', 'spopk.dll', 'spp', 'spp.dll', 'sppc.dll', 'sppcext.dll', 'sppcomapi.dll', 'sppcommdlg.dll', 'SppExtComObj.Exe', 'sppinst.dll', 'sppnp.dll', 'sppobjs.dll', 'sppsvc.exe', 'sppui', 'sppwinob.dll', 'sppwmi.dll', 'spwinsat.dll', 'spwizeng.dll', 'spwizimg.dll', 'spwizres.dll', 'spwmp.dll', 'sqlncli11.dll', 'SqlServerSpatial130.dll', 'SqlServerSpatial150.dll', 'sqlsrv32.dll', 'sqlsrv32.rll', 'sqmapi.dll', 'sr-Latn-RS', 'srchadmin.dll', 'srclient.dll', 'srcore.dll', 'srdelayed.exe', 'SrEvents.dll', 'SRH.dll', 'srhelper.dll', 'srms-apr-v.dat', 'srms-apr.dat', 'srms.dat', 'srpapi.dll', 'srrstr.dll', 'SrTasks.exe', 'sru', 'srumapi.dll', 'srumsvc.dll', 'srvcli.dll', 'srvsvc.dll', 'srwmi.dll', 'sscore.dll', 'sscoreext.dll', 'ssdm.dll', 'ssdpapi.dll', 'ssdpsrv.dll', 'sspicli.dll', 'sspisrv.dll', 'SSShim.dll', 'ssText3d.scr', 'sstpsvc.dll', 'StartTileData.dll', 'Startupscan.dll', 'StateRepository.Core.dll', 'stclient.dll', 'stdole2.tlb', 'stdole32.tlb', 'sti.dll', 'sti_ci.dll', 'stobject.dll', 'stop', 'StorageContextHandler.dll', 'StorageUsage.dll', 'storagewmi.dll', 'storagewmi_passthru.dll', 'stordiag.exe', 'storewuauth.dll', 'Storprop.dll', 'StorSvc.dll', 'streamci.dll', 'StringFeedbackEngine.dll', 'StructuredQuery.dll', 'SubRange.uce', 'subst.exe', 'sud.dll', 'SunplusIT', 'sv-SE', 'SvBannerBackground.png', 'svchost.exe', 'svf.dll', 'svsvc.dll', 'SwitcherDataModel.dll', 'swprv.dll', 'sxproxy.dll', 'sxs.dll', 'sxshared.dll', 'sxssrv.dll', 'sxsstore.dll', 'sxstrace.exe', 'SyncCenter.dll', 'SyncController.dll', 'SyncHost.exe', 'SyncHostps.dll', 'SyncInfrastructure.dll', 'SyncInfrastructureps.dll', 'SyncProxy.dll', 'Syncreg.dll', 'SyncRes.dll', 'SyncSettings.dll', 'syncutil.dll', 'SynRpcServer.exe', 'sysclass.dll', 'sysdm.cpl', 'SysFxUI.dll', 'sysmain.dll', 'sysmon.ocx', 'sysntfy.dll', 'Sysprep', 'sysprint.sep', 'sysprtj.sep', 'SysResetErr.exe', 'syssetup.dll', 'systemcpl.dll', 'SystemEventsBrokerClient.dll', 'SystemEventsBrokerServer.dll', 'systeminfo.exe', 'SystemPropertiesAdvanced.exe', 'SystemPropertiesComputerName.exe', 'SystemPropertiesDataExecutionPrevention.exe', 'SystemPropertiesHardware.exe', 'SystemPropertiesPerformance.exe', 'SystemPropertiesProtection.exe', 'SystemPropertiesRemote.exe', 'systemreset.exe', 'SystemResetPlatform', 'SystemSettings.DataModel.dll', 'SystemSettings.DeviceEncryptionHandlers.dll', 'SystemSettings.Handlers.dll', 'SystemSettings.SettingsExtensibility.dll', 'SystemSettings.UserAccountsHandlers.dll', 'SystemSettingsAdminFlows.exe', 'SystemSettingsBroker.exe', 'SystemSettingsRemoveDevice.exe', 'SystemSettingsThresholdAdminFlowUI.dll', 'SystemSupportInfo.dll', 'SystemUWPLauncher.exe', 'systray.exe', 't2embed.dll', 'ta-in', 'ta-lk', 'Tabbtn.dll', 'TabbtnEx.dll', 'tabcal.exe', 'TabletPC.cpl', 'TabSvc.dll', 'takeown.exe', 'tapi3.dll', 'tapi32.dll', 'tapilua.dll', 'TapiMigPlugin.dll', 'tapiperf.dll', 'tapisrv.dll', 'TapiSysprep.dll', 'tapiui.dll', 'TapiUnattend.exe', 'tar.exe', 'TaskApis.dll', 'taskbarcpl.dll', 'taskcomp.dll', 'TaskFlowDataEngine.dll', 'taskhostw.exe', 'taskkill.exe', 'tasklist.exe', 'Taskmgr.exe', 'Tasks', 'taskschd.dll', 'taskschd.msc', 'TaskSchdPS.dll', 'tbauth.dll', 'tbs.dll', 'tcblaunch.exe', 'tcbloader.dll', 'tcmsetup.exe', 'tcpbidi.xml', 'tcpipcfg.dll', 'tcpmib.dll', 'tcpmon.dll', 'tcpmon.ini', 'tcpmonui.dll', 'TCPSVCS.EXE', 'tdc.ocx', 'tdh.dll', 'TDLMigration.dll', 'telephon.cpl', 'TelephonyInteractiveUser.dll', 'TelephonyInteractiveUserRes.dll', 'TempSignedLicenseExchangeTask.dll', 'termmgr.dll', 'termsrv.dll', 'tetheringclient.dll', 'tetheringconfigsp.dll', 'TetheringIeProvider.dll', 'TetheringMgr.dll', 'tetheringservice.dll', 'TetheringStation.dll', 'TextInputFramework.dll', 'TextInputMethodFormatter.dll', 'TextShaping.dll', 'th-TH', 'themecpl.dll', 'Themes.SsfDownload.ScheduledTask.dll', 'themeservice.dll', 'themeui.dll', 'ThirdPartyNoticesBySHS.txt', 'threadpoolwinrt.dll', 'thumbcache.dll', 'ThumbnailExtractionHost.exe', 'Thumbs.db', 'ti-et', 'tier2punctuations.dll', 'TieringEngineProxy.dll', 'TieringEngineService.exe', 'TileDataRepository.dll', 'TimeBrokerClient.dll', 'TimeBrokerServer.dll', 'timedate.cpl', 'TimeDateMUICallback.dll', 'timeout.exe', 'timesync.dll', 'TimeSyncTask.dll', 'tlscsp.dll', 'tokenbinding.dll', 'TokenBroker.dll', 'TokenBrokerCookies.exe', 'TokenBrokerUI.dll', 'tpm.msc', 'TpmCertResources.dll', 'tpmcompc.dll', 'TpmCoreProvisioning.dll', 'TpmInit.exe', 'TpmTasks.dll', 'TpmTool.exe', 'tpmvsc.dll', 'tpmvscmgr.exe', 'tpmvscmgrsvr.exe', 'tquery.dll', 'tr-TR', 'tracerpt.exe', 'TRACERT.EXE', 'traffic.dll', 'TransformPPSToWlan.xslt', 'TransformPPSToWlanCredentials.xslt', 'TransliterationRanker.dll', 'tree.com', 'trie.dll', 'trkwks.dll', 'TrustedSignalCredProv.dll', 'tsbyuv.dll', 'tsf3gip.dll', 'tsgqec.dll', 'tsmf.dll', 'TSpkg.dll', 'TSSessionUX.dll', 'TSTheme.exe', 'TsUsbGDCoInstaller.dll', 'TsUsbRedirectionGroupPolicyExtension.dll', 'TSWbPrxy.exe', 'TSWorkspace.dll', 'ttdinject.exe', 'ttdloader.dll', 'ttdplm.dll', 'ttdrecord.dll', 'ttdrecordcpu.dll', 'TtlsAuth.dll', 'TtlsCfg.dll', 'TtlsExt.dll', 'tttracer.exe', 'tvratings.dll', 'twext.dll', 'twinapi.appcore.dll', 'twinapi.dll', 'twinui.appcore.dll', 'twinui.dll', 'twinui.pcshell.dll', 'txflog.dll', 'txfw32.dll', 'typeperf.exe', 'tzautoupdate.dll', 'tzres.dll', 'tzsync.exe', 'tzsyncres.dll', 'tzutil.exe', 'ubpm.dll', 'ucmhc.dll', 'UCPDMgr.exe', 'ucrtbase.dll', 'ucrtbased.dll', 'ucrtbase_clr0400.dll', 'ucrtbase_enclave.dll', 'ucsvc.exe', 'UDCInfInstaller.exe', 'udhisapi.dll', 'uDWM.dll', 'UefiCsp.dll', 'uexfat.dll', 'ufat.dll', 'UiaManager.dll', 'UIAnimation.dll', 'UIAutomationCore.dll', 'uicom.dll', 'UIManagerBrokerps.dll', 'UIMgrBroker.exe', 'uireng.dll', 'UIRibbon.dll', 'UIRibbonRes.dll', 'uk-UA', 'ulib.dll', 'umb.dll', 'umdmxfrm.dll', 'umpdc.dll', 'umpnpmgr.dll', 'umpo-overrides.dll', 'umpo.dll', 'umpoext.dll', 'umpowmi.dll', 'umrdp.dll', 'unattend.dll', 'unenrollhook.dll', 'UnifiedConsent.dll', 'unimdm.tsp', 'unimdmat.dll', 'uniplat.dll', 'Unistore.dll', 'unlodctr.exe', 'UNP', 'unregmp2.exe', 'untfs.dll', 'Untitled Folder', 'UpdateAgent.dll', 'updatecsp.dll', 'UpdateDeploymentProvider.dll', 'updatepolicy.dll', 'upfc.exe', 'UpgradeResultsUI.exe', 'upnp.dll', 'upnpcont.exe', 'upnphost.dll', 'UPPrinterInstaller.exe', 'UPPrinterInstallsCSP.dll', 'upshared.dll', 'uReFS.dll', 'uReFSv1.dll', 'ureg.dll', 'url.dll', 'urlmon.dll', 'UsbCApi.dll', 'usbceip.dll', 'usbmon.dll', 'usbperf.dll', 'UsbPmApi.dll', 'UsbSettingsHandlers.dll', 'UsbTask.dll', 'usbui.dll', 'user32.dll', 'UserAccountBroker.exe', 'UserAccountControlSettings.dll', 'UserAccountControlSettings.exe', 'useractivitybroker.dll', 'usercpl.dll', 'UserDataAccessRes.dll', 'UserDataAccountApis.dll', 'UserDataLanguageUtil.dll', 'UserDataPlatformHelperUtil.dll', 'UserDataService.dll', 'UserDataTimeUtil.dll', 'UserDataTypeHelperUtil.dll', 'UserDeviceRegistration.dll', 'UserDeviceRegistration.Ngc.dll', 'userenv.dll', 'userinit.exe', 'userinitext.dll', 'UserLanguageProfileCallback.dll', 'usermgr.dll', 'usermgrcli.dll', 'UserMgrProxy.dll', 'usk.rs', 'usoapi.dll', 'UsoClient.exe', 'usocoreps.dll', 'usocoreworker.exe', 'usosvc.dll', 'usp10.dll', 'ustprov.dll', 'UtcDecoderHost.exe', 'utcutil.dll', 'utildll.dll', 'Utilman.exe', 'uudf.dll', 'UvcModel.dll', 'UXInit.dll', 'uxlib.dll', 'uxlibres.dll', 'uxtheme.dll', 'vac.dll', 'VAN.dll', 'Vault.dll', 'VaultCDS.dll', 'vaultcli.dll', 'VaultCmd.exe', 'VaultRoaming.dll', 'vaultsvc.dll', 'VBICodec.ax', 'vbisurf.ax', 'vbsapi.dll', 'vbscript.dll', 'vbssysprep.dll', 'vcamp120.dll', 'vcamp140.dll', 'vcamp140d.dll', 'VCardParser.dll', 'vccorlib120.dll', 'vccorlib140.dll', 'vccorlib140d.dll', 'vcomp100.dll', 'vcomp120.dll', 'vcomp140.dll', 'vcomp140d.dll', 'vcruntime140.dll', 'vcruntime140d.dll', 'vcruntime140_1.dll', 'vcruntime140_1_clr0400.dll', 'vcruntime140_clr0400.dll', 'vds.exe', 'vdsbas.dll', 'vdsdyn.dll', 'vdsldr.exe', 'vdsutil.dll', 'vdsvd.dll', 'vds_ps.dll', 'verclsid.exe', 'verifier.dll', 'verifier.exe', 'verifiergui.exe', 'version.dll', 'vertdll.dll', 'vfbasics.dll', 'vfcompat.dll', 'vfcuzz.dll', 'vfluapriv.dll', 'vfnet.dll', 'vfntlmless.dll', 'vfnws.dll', 'vfprint.dll', 'vfprintpthelper.dll', 'vfrdvcompat.dll', 'vfuprov.dll', 'vfwwdm32.dll', 'VhfUm.dll', 'vid.dll', 'vidcap.ax', 'VideoHandlers.dll', 'VIDRESZR.DLL', 'virtdisk.dll', 'VirtualMonitorManager.dll', 'VmApplicationHealthMonitorProxy.dll', 'vmbuspipe.dll', 'vmdevicehost.dll', 'vmictimeprovider.dll', 'vmnetbridge.dll', 'vmrdvcore.dll', 'vmsif.dll', 'vmsifcore.dll', 'vmsifproxystub.dll', 'vnetinst.dll', 'vnetlib64.dll', 'VocabRoamingHandler.dll', 'VoiceActivationManager.dll', 'VoipRT.dll', 'vpnike.dll', 'vpnikeapi.dll', 'VpnSohDesktop.dll', 'VPNv2CSP.dll', 'vrfcore.dll', 'VscMgrPS.dll', 'vscover150.dll', 'VSD3DWARPDebug.dll', 'VsGraphicsCapture.dll', 'VsGraphicsDesktopEngine.exe', 'VsGraphicsExperiment.dll', 'VsGraphicsHelper.dll', 'VsGraphicsProxyStub.dll', 'VsGraphicsRemoteEngine.exe', 'vsjitdebugger.exe', 'vsocklib.dll', 'VSPerf150.dll', 'vssadmin.exe', 'vssapi.dll', 'vsstrace.dll', 'VSSVC.exe', 'vss_ps.dll', 'vulkan-1-999-0-0-0.dll', 'vulkan-1.dll', 'vulkaninfo-1-999-0-0-0.exe', 'vulkaninfo.exe', 'w32time.dll', 'w32tm.exe', 'w32topl.dll', 'WaaSAssessment.dll', 'WaaSMedicAgent.exe', 'WaaSMedicCapsule.dll', 'WaaSMedicPS.dll', 'WaaSMedicSvc.dll', 'WABSyncProvider.dll', 'waitfor.exe', 'WalletBackgroundServiceProxy.dll', 'WalletProxy.dll', 'WalletService.dll', 'WallpaperHost.exe', 'wavemsp.dll', 'wbadmin.exe', 'wbem', 'wbemcomn.dll', 'wbengine.exe', 'wbiosrvc.dll', 'wci.dll', 'wcimage.dll', 'wcmapi.dll', 'wcmcsp.dll', 'wcmsvc.dll', 'WCN', 'WcnApi.dll', 'wcncsvc.dll', 'WcnEapAuthProxy.dll', 'WcnEapPeerProxy.dll', 'WcnNetsh.dll', 'wcnwiz.dll', 'wc_storage.dll', 'wdc.dll', 'WDI', 'wdi.dll', 'wdigest.dll', 'wdmaud.drv', 'wdscore.dll', 'WdsUnattendTemplate.xml', 'WEB.rs', 'webauthn.dll', 'WebcamUi.dll', 'webcheck.dll', 'WebClnt.dll', 'webio.dll', 'webplatstorageserver.dll', 'WebRuntimeManager.dll', 'webservices.dll', 'Websocket.dll', 'wecapi.dll', 'wecsvc.dll', 'wecutil.exe', 'wephostsvc.dll', 'wer.dll', 'werconcpl.dll', 'wercplsupport.dll', 'werdiagcontroller.dll', 'WerEnc.dll', 'weretw.dll', 'WerFault.exe', 'WerFaultSecure.exe', 'wermgr.exe', 'wersvc.dll', 'werui.dll', 'wevtapi.dll', 'wevtfwd.dll', 'wevtsvc.dll', 'wevtutil.exe', 'wextract.exe', 'WF.msc', 'wfapigp.dll', 'wfdprov.dll', 'WFDSConMgr.dll', 'WFDSConMgrSvc.dll', 'WfHC.dll', 'WFS.exe', 'WFSR.dll', 'whealogr.dll', 'where.exe', 'whhelper.dll', 'whoami.exe', 'wiaacmgr.exe', 'wiaaut.dll', 'wiadefui.dll', 'wiadss.dll', 'WiaExtensionHost64.dll', 'wiarpc.dll', 'wiascanprofiles.dll', 'wiaservc.dll', 'wiashext.dll', 'wiatrace.dll', 'wiawow64.exe', 'WiFiCloudStore.dll', 'WiFiConfigSP.dll', 'wifidatacapabilityhandler.dll', 'WiFiDisplay.dll', 'wifinetworkmanager.dll', 'wifitask.exe', 'WimBootCompress.ini', 'wimgapi.dll', 'wimserv.exe', 'win32appinventorycsp.dll', 'Win32AppSettingsProvider.dll', 'Win32CompatibilityAppraiserCSP.dll', 'win32k.sys', 'win32kbase.sys', 'win32kfull.sys', 'win32kns.sys', 'win32spl.dll', 'win32u.dll', 'Win32_DeviceGuard.dll', 'winbio.dll', 'WinBioDatabase', 'WinBioDataModel.dll', 'WinBioDataModelOOBE.exe', 'winbioext.dll', 'WinBioPlugIns', 'winbrand.dll', 'wincorlib.dll', 'wincredprovider.dll', 'wincredui.dll', 'WindowManagement.dll', 'WindowManagementAPI.dll', 'Windows.AccountsControl.dll', 'Windows.AI.MachineLearning.dll', 'Windows.AI.MachineLearning.Preview.dll', 'Windows.ApplicationModel.Background.SystemEventsBroker.dll', 'Windows.ApplicationModel.Background.TimeBroker.dll', 'Windows.ApplicationModel.ConversationalAgent.dll', 'windows.applicationmodel.conversationalagent.internal.proxystub.dll', 'windows.applicationmodel.conversationalagent.proxystub.dll', 'Windows.ApplicationModel.Core.dll', 'windows.applicationmodel.datatransfer.dll', 'Windows.ApplicationModel.dll', 'Windows.ApplicationModel.LockScreen.dll', 'Windows.ApplicationModel.Store.dll', 'Windows.ApplicationModel.Store.Preview.DOSettings.dll', 'Windows.ApplicationModel.Store.TestingFramework.dll', 'Windows.ApplicationModel.Wallet.dll', 'Windows.CloudStore.dll', 'Windows.CloudStore.Schema.DesktopShell.dll', 'Windows.CloudStore.Schema.Shell.dll', 'Windows.Cortana.Desktop.dll', 'Windows.Cortana.OneCore.dll', 'Windows.Cortana.ProxyStub.dll', 'Windows.Data.Activities.dll', 'Windows.Data.Pdf.dll', 'Windows.Devices.AllJoyn.dll', 'Windows.Devices.Background.dll', 'Windows.Devices.Background.ps.dll', 'Windows.Devices.Bluetooth.dll', 'Windows.Devices.Custom.dll', 'Windows.Devices.Custom.ps.dll', 'Windows.Devices.Enumeration.dll', 'Windows.Devices.Haptics.dll', 'Windows.Devices.HumanInterfaceDevice.dll', 'Windows.Devices.Lights.dll', 'Windows.Devices.LowLevel.dll', 'Windows.Devices.Midi.dll', 'Windows.Devices.Perception.dll', 'Windows.Devices.Picker.dll', 'Windows.Devices.PointOfService.dll', 'Windows.Devices.Portable.dll', 'Windows.Devices.Printers.dll', 'Windows.Devices.Printers.Extensions.dll', 'Windows.Devices.Radios.dll', 'Windows.Devices.Scanners.dll', 'Windows.Devices.Sensors.dll', 'Windows.Devices.SerialCommunication.dll', 'Windows.Devices.SmartCards.dll', 'Windows.Devices.SmartCards.Phone.dll', 'Windows.Devices.Usb.dll', 'Windows.Devices.WiFi.dll', 'Windows.Devices.WiFiDirect.dll', 'Windows.Energy.dll', 'Windows.FileExplorer.Common.dll', 'Windows.Gaming.Input.dll', 'Windows.Gaming.Preview.dll', 'Windows.Gaming.UI.GameBar.dll', 'Windows.Gaming.XboxLive.Storage.dll', 'Windows.Globalization.dll', 'Windows.Globalization.Fontgroups.dll', 'Windows.Globalization.PhoneNumberFormatting.dll', 'Windows.Graphics.Display.BrightnessOverride.dll', 'Windows.Graphics.Display.DisplayEnhancementOverride.dll', 'Windows.Graphics.dll', 'Windows.Graphics.Printing.3D.dll', 'Windows.Graphics.Printing.dll', 'Windows.Graphics.Printing.Workflow.dll', 'Windows.Graphics.Printing.Workflow.Native.dll', 'Windows.Help.Runtime.dll', 'windows.immersiveshell.serviceprovider.dll', 'Windows.Internal.AdaptiveCards.XamlCardRenderer.dll', 'Windows.Internal.Bluetooth.dll', 'Windows.Internal.CapturePicker.Desktop.dll', 'Windows.Internal.CapturePicker.dll', 'Windows.Internal.Devices.Sensors.dll', 'Windows.Internal.Feedback.Analog.dll', 'Windows.Internal.Feedback.Analog.ProxyStub.dll', 'Windows.Internal.Graphics.Display.DisplayColorManagement.dll', 'Windows.Internal.Graphics.Display.DisplayEnhancementManagement.dll', 'Windows.Internal.Management.dll', 'Windows.Internal.PlatformExtension.DevicePickerExperience.dll', 'Windows.Internal.PlatformExtension.MiracastBannerExperience.dll', 'Windows.Internal.PredictionUnit.dll', 'Windows.Internal.Security.Attestation.DeviceAttestation.dll', 'Windows.Internal.SecurityMitigationsBroker.dll', 'Windows.Internal.Shell.Broker.dll', 'windows.internal.shellcommon.AccountsControlExperience.dll', 'windows.internal.shellcommon.AppResolverModal.dll', 'Windows.Internal.ShellCommon.Broker.dll', 'windows.internal.shellcommon.FilePickerExperienceMEM.dll', 'Windows.Internal.ShellCommon.PrintExperience.dll', 'windows.internal.shellcommon.shareexperience.dll', 'windows.internal.shellcommon.TokenBrokerModal.dll', 'Windows.Internal.Signals.dll', 'Windows.Internal.System.UserProfile.dll', 'Windows.Internal.Taskbar.dll', 'Windows.Internal.UI.BioEnrollment.ProxyStub.dll', 'Windows.Internal.UI.Logon.ProxyStub.dll', 'Windows.Internal.UI.Shell.WindowTabManager.dll', 'Windows.Management.EnrollmentStatusTracking.ConfigProvider.dll', 'Windows.Management.InprocObjects.dll', 'Windows.Management.ModernDeployment.ConfigProviders.dll', 'Windows.Management.Provisioning.ProxyStub.dll', 'Windows.Management.Service.dll', 'Windows.Management.Workplace.dll', 'Windows.Management.Workplace.WorkplaceSettings.dll', 'Windows.Media.Audio.dll', 'Windows.Media.BackgroundMediaPlayback.dll', 'Windows.Media.BackgroundPlayback.exe', 'Windows.Media.Devices.dll', 'Windows.Media.dll', 'Windows.Media.Editing.dll', 'Windows.Media.FaceAnalysis.dll', 'Windows.Media.Import.dll', 'Windows.Media.MediaControl.dll', 'Windows.Media.MixedRealityCapture.dll', 'Windows.Media.Ocr.dll', 'Windows.Media.Playback.BackgroundMediaPlayer.dll', 'Windows.Media.Playback.MediaPlayer.dll', 'Windows.Media.Playback.ProxyStub.dll', 'Windows.Media.Protection.PlayReady.dll', 'Windows.Media.Renewal.dll', 'Windows.Media.Speech.dll', 'Windows.Media.Speech.UXRes.dll', 'Windows.Media.Streaming.dll', 'Windows.Media.Streaming.ps.dll', 'Windows.Mirage.dll', 'Windows.Mirage.Internal.Capture.Pipeline.ProxyStub.dll', 'Windows.Mirage.Internal.dll', 'Windows.Networking.BackgroundTransfer.BackgroundManagerPolicy.dll', 'Windows.Networking.BackgroundTransfer.ContentPrefetchTask.dll', 'Windows.Networking.BackgroundTransfer.dll', 'Windows.Networking.Connectivity.dll', 'Windows.Networking.dll', 'Windows.Networking.HostName.dll', 'Windows.Networking.NetworkOperators.ESim.dll', 'Windows.Networking.NetworkOperators.HotspotAuthentication.dll', 'Windows.Networking.Proximity.dll', 'Windows.Networking.ServiceDiscovery.Dnssd.dll', 'Windows.Networking.Sockets.PushEnabledApplication.dll', 'Windows.Networking.UX.EapRequestHandler.dll', 'Windows.Networking.Vpn.dll', 'Windows.Networking.XboxLive.ProxyStub.dll', 'Windows.Payments.dll', 'Windows.Perception.Stub.dll', 'Windows.Security.Authentication.Identity.Provider.dll', 'Windows.Security.Authentication.OnlineId.dll', 'Windows.Security.Authentication.Web.Core.dll', 'Windows.Security.Credentials.UI.CredentialPicker.dll', 'Windows.Security.Credentials.UI.UserConsentVerifier.dll', 'Windows.Security.Integrity.dll', 'Windows.Services.TargetedContent.dll', 'Windows.SharedPC.AccountManager.dll', 'Windows.SharedPC.CredentialProvider.dll', 'Windows.Shell.BlueLightReduction.dll', 'Windows.Shell.ServiceHostBuilder.dll', 'Windows.Shell.StartLayoutPopulationEvents.dll', 'Windows.StateRepository.dll', 'Windows.StateRepositoryBroker.dll', 'Windows.StateRepositoryClient.dll', 'Windows.StateRepositoryCore.dll', 'Windows.StateRepositoryPS.dll', 'Windows.StateRepositoryUpgrade.dll', 'Windows.Storage.ApplicationData.dll', 'Windows.Storage.Compression.dll', 'windows.storage.dll', 'Windows.Storage.OneCore.dll', 'Windows.Storage.Search.dll', 'Windows.System.Diagnostics.dll', 'Windows.System.Diagnostics.Telemetry.PlatformTelemetryClient.dll', 'Windows.System.Diagnostics.TraceReporting.PlatformDiagnosticActions.dll', 'Windows.System.Launcher.dll', 'Windows.System.Profile.HardwareId.dll', 'Windows.System.Profile.PlatformDiagnosticsAndUsageDataSettings.dll', 'Windows.System.Profile.RetailInfo.dll', 'Windows.System.Profile.SystemId.dll', 'Windows.System.Profile.SystemManufacturers.dll', 'Windows.System.RemoteDesktop.dll', 'Windows.System.SystemManagement.dll', 'Windows.System.UserDeviceAssociation.dll', 'Windows.System.UserProfile.DiagnosticsSettings.dll', 'Windows.UI.Accessibility.dll', 'Windows.UI.AppDefaults.dll', 'Windows.UI.BioFeedback.dll', 'Windows.UI.BlockedShutdown.dll', 'Windows.UI.Core.TextInput.dll', 'Windows.UI.Cred.dll', 'Windows.UI.CredDialogController.dll', 'Windows.UI.dll', 'Windows.UI.FileExplorer.dll', 'Windows.UI.Immersive.dll', 'Windows.UI.Input.Inking.Analysis.dll', 'Windows.UI.Input.Inking.dll', 'Windows.UI.Internal.Input.ExpressiveInput.dll', 'Windows.UI.Internal.Input.ExpressiveInput.Resource.dll', 'Windows.UI.Logon.dll', 'Windows.UI.NetworkUXController.dll', 'Windows.UI.PicturePassword.dll', 'Windows.UI.Search.dll', 'Windows.UI.Shell.dll', 'Windows.UI.Shell.Internal.AdaptiveCards.dll', 'Windows.UI.Storage.dll', 'Windows.UI.Xaml.Controls.dll', 'Windows.UI.Xaml.dll', 'Windows.UI.Xaml.InkControls.dll', 'Windows.UI.Xaml.Maps.dll', 'Windows.UI.Xaml.Phone.dll', 'Windows.UI.Xaml.Resources.19h1.dll', 'Windows.UI.Xaml.Resources.Common.dll', 'Windows.UI.Xaml.Resources.rs1.dll', 'Windows.UI.Xaml.Resources.rs2.dll', 'Windows.UI.Xaml.Resources.rs3.dll', 'Windows.UI.Xaml.Resources.rs4.dll', 'Windows.UI.Xaml.Resources.rs5.dll', 'Windows.UI.Xaml.Resources.th.dll', 'Windows.UI.Xaml.Resources.win81.dll', 'Windows.UI.Xaml.Resources.win8rtm.dll', 'Windows.UI.XamlHost.dll', 'Windows.WARP.JITService.dll', 'Windows.WARP.JITService.exe', 'Windows.Web.Diagnostics.dll', 'Windows.Web.dll', 'Windows.Web.Http.dll', 'WindowsAccessBridge-64.dll', 'WindowsActionDialog.exe', 'WindowsCodecs.dll', 'WindowsCodecsExt.dll', 'WindowsCodecsRaw.dll', 'WindowsCodecsRaw.txt', 'WindowsDefaultHeatProcessor.dll', 'WindowsInternal.ComposableShell.ComposerFramework.dll', 'WindowsInternal.ComposableShell.DesktopHosting.dll', 'WindowsInternal.Shell.CompUiActivation.dll', 'windowslivelogin.dll', 'WindowsManagementServiceWinRt.ProxyStub.dll', 'windowsperformancerecordercontrol.dll', 'WindowsPowerShell', 'WindowsSecurityIcon.png', 'windowsudk.shellcommon.dll', 'WindowsUpdateElevatedInstaller.exe', 'winethc.dll', 'winevt', 'WinFax.dll', 'winhttp.dll', 'winhttpcom.dll', 'WinHvEmulation.dll', 'WinHvPlatform.dll', 'wininet.dll', 'wininetlui.dll', 'wininit.exe', 'wininitext.dll', 'winipcfile.dll', 'winipcsecproc.dll', 'winipsec.dll', 'winjson.dll', 'Winlangdb.dll', 'winload.efi', 'winload.exe', 'winlogon.exe', 'winlogonext.dll', 'winmde.dll', 'WinMetadata', 'winml.dll', 'winmm.dll', 'winmmbase.dll', 'winmsipc.dll', 'WinMsoIrmProtector.dll', 'winnlsres.dll', 'winnsi.dll', 'WinOpcIrmProtector.dll', 'WinREAgent.dll', 'winresume.efi', 'winresume.exe', 'winrm', 'winrm.cmd', 'winrm.vbs', 'winrnr.dll', 'winrs.exe', 'winrscmd.dll', 'winrshost.exe', 'winrsmgr.dll', 'winrssrv.dll', 'WinRTNetMUAHostServer.exe', 'WinRtTracing.dll', 'WinSAT.exe', 'WinSATAPI.dll', 'WinSCard.dll', 'WinSetupUI.dll', 'winshfhc.dll', 'winsku.dll', 'winsockhc.dll', 'winspool.drv', 'winsqlite3.dll', 'WINSRPC.DLL', 'winsrv.dll', 'winsrvext.dll', 'winsta.dll', 'WinSync.dll', 'WinSyncMetastore.dll', 'WinSyncProviders.dll', 'wintrust.dll', 'WinTypes.dll', 'winusb.dll', 'winver.exe', 'WiredNetworkCSP.dll', 'wisp.dll', 'witnesswmiv2provider.dll', 'wkscli.dll', 'wkspbroker.exe', 'wkspbrokerAx.dll', 'wksprt.exe', 'wksprtPS.dll', 'wkssvc.dll', 'wlanapi.dll', 'wlancfg.dll', 'WLanConn.dll', 'wlandlg.dll', 'wlanext.exe', 'wlangpui.dll', 'WLanHC.dll', 'wlanhlp.dll', 'WlanMediaManager.dll', 'WlanMM.dll', 'wlanmsm.dll', 'wlanpref.dll', 'WlanRadioManager.dll', 'wlansec.dll', 'wlansvc.dll', 'wlansvcpal.dll', 'wlanui.dll', 'wlanutil.dll', 'Wldap32.dll', 'wldp.dll', 'wlgpclnt.dll', 'wlidcli.dll', 'wlidcredprov.dll', 'wlidfdp.dll', 'wlidnsp.dll', 'wlidprov.dll', 'wlidres.dll', 'wlidsvc.dll', 'wlrmdr.exe', 'WMADMOD.DLL', 'WMADMOE.DLL', 'WMALFXGFXDSP.dll', 'WMASF.DLL', 'wmcodecdspps.dll', 'wmdmlog.dll', 'wmdmps.dll', 'wmdrmsdk.dll', 'wmerror.dll', 'wmi.dll', 'wmiclnt.dll', 'wmicmiplugin.dll', 'wmidcom.dll', 'wmidx.dll', 'WmiMgmt.msc', 'wmiprop.dll', 'wmitomi.dll', 'WMNetMgr.dll', 'wmp.dll', 'WMPDMC.exe', 'WmpDui.dll', 'wmpdxm.dll', 'wmpeffects.dll', 'WMPhoto.dll', 'wmploc.DLL', 'wmpps.dll', 'wmpshell.dll', 'wmsgapi.dll', 'WMSPDMOD.DLL', 'WMSPDMOE.DLL', 'WMVCORE.DLL', 'WMVDECOD.DLL', 'wmvdspa.dll', 'WMVENCOD.DLL', 'WMVSDECD.DLL', 'WMVSENCD.DLL', 'WMVXENCD.DLL', 'WofTasks.dll', 'WofUtil.dll', 'WordBreakers.dll', 'WorkFolders.exe', 'WorkfoldersControl.dll', 'WorkFoldersGPExt.dll', 'WorkFoldersRes.dll', 'WorkFoldersShell.dll', 'workfolderssvc.dll', 'wosc.dll', 'wow64.dll', 'wow64cpu.dll', 'wow64win.dll', 'wowreg32.exe', 'WpAXHolder.dll', 'wpbcreds.dll', 'Wpc.dll', 'WpcApi.dll', 'wpcatltoast.png', 'WpcDesktopMonSvc.dll', 'WpcMon.exe', 'wpcmon.png', 'WpcProxyStubs.dll', 'WpcRefreshTask.dll', 'WpcTok.exe', 'WpcWebFilter.dll', 'wpdbusenum.dll', 'WpdMtp.dll', 'WpdMtpUS.dll', 'wpdshext.dll', 'WPDShextAutoplay.exe', 'WPDShServiceObj.dll', 'WPDSp.dll', 'wpd_ci.dll', 'wpnapps.dll', 'wpnclient.dll', 'wpncore.dll', 'wpninprc.dll', 'wpnpinst.exe', 'wpnprv.dll', 'wpnservice.dll', 'wpnsruprov.dll', 'WpnUserService.dll', 'WpPortingLibrary.dll', 'WppRecorderUM.dll', 'wpr.config.xml', 'wpr.exe', 'WPTaskScheduler.dll', 'wpx.dll', 'write.exe', 'ws2help.dll', 'ws2_32.dll', 'wscadminui.exe', 'wscapi.dll', 'wscinterop.dll', 'wscisvif.dll', 'WSClient.dll', 'WSCollect.exe', 'wscproxystub.dll', 'wscript.exe', 'wscsvc.dll', 'wscui.cpl', 'WSDApi.dll', 'wsdchngr.dll', 'WSDPrintProxy.DLL', 'WsdProviderUtil.dll', 'WSDScanProxy.dll', 'wsecedit.dll', 'wsepno.dll', 'wshbth.dll', 'wshcon.dll', 'wshelper.dll', 'wshext.dll', 'wshhyperv.dll', 'wship6.dll', 'wshom.ocx', 'wshqos.dll', 'wshrm.dll', 'WSHTCPIP.DLL', 'wshunix.dll', 'wsl.exe', 'wslapi.dll', 'wslconfig.exe', 'WsmAgent.dll', 'wsmanconfig_schema.xml', 'WSManHTTPConfig.exe', 'WSManMigrationPlugin.dll', 'WsmAuto.dll', 'wsmplpxy.dll', 'wsmprovhost.exe', 'WsmPty.xsl', 'WsmRes.dll', 'WsmSvc.dll', 'WsmTxt.xsl', 'WsmWmiPl.dll', 'wsnmp32.dll', 'wsock32.dll', 'wsplib.dll', 'wsp_fs.dll', 'wsp_health.dll', 'wsp_sr.dll', 'wsqmcons.exe', 'WSReset.exe', 'WSTPager.ax', 'wtsapi32.dll', 'wuapi.dll', 'wuapihost.exe', 'wuauclt.exe', 'wuaueng.dll', 'wuceffects.dll', 'WUDFCoinstaller.dll', 'WUDFCompanionHost.exe', 'WUDFHost.exe', 'WUDFPlatform.dll', 'WudfSMCClassExt.dll', 'WudfUpdate_02000.dll', 'WUDFx.dll', 'WUDFx02000.dll', 'wudriver.dll', 'wups.dll', 'wups2.dll', 'wusa.exe', 'wuuhext.dll', 'wuuhosdeployment.dll', 'wvc.dll', 'WwaApi.dll', 'WwaExt.dll', 'WWAHost.exe', 'WWanAPI.dll', 'wwancfg.dll', 'wwanconn.dll', 'WWanHC.dll', 'wwanmm.dll', 'Wwanpref.dll', 'wwanprotdim.dll', 'WwanRadioManager.dll', 'wwansvc.dll', 'wwapi.dll', 'XamlTileRender.dll', 'XAudio2_8.dll', 'XAudio2_9.dll', 'XblAuthManager.dll', 'XblAuthManagerProxy.dll', 'XblAuthTokenBrokerExt.dll', 'XblGameSave.dll', 'XblGameSaveExt.dll', 'XblGameSaveProxy.dll', 'XblGameSaveTask.exe', 'XboxGipRadioManager.dll', 'xboxgipsvc.dll', 'xboxgipsynthetic.dll', 'XboxNetApiSvc.dll', 'xcopy.exe', 'XInput1_4.dll', 'XInput9_1_0.dll', 'XInputUap.dll', 'xmlfilter.dll', 'xmllite.dll', 'xmlprovi.dll', 'xolehlp.dll', 'XpsDocumentTargetPrint.dll', 'XpsGdiConverter.dll', 'XpsPrint.dll', 'xpspushlayer.dll', 'XpsRasterService.dll', 'xpsservices.dll', 'XpsToPclmConverter.dll', 'XpsToPwgrConverter.dll', 'xwizard.dtd', 'xwizard.exe', 'xwizards.dll', 'xwreg.dll', 'xwtpdui.dll', 'xwtpw32.dll', 'X_80.contrast-black.png', 'X_80.contrast-white.png', 'X_80.png', 'yarn.lock', 'zh-CN', 'zh-HANS', 'zh-TW', 'zipcontainer.dll', 'zipfldr.dll', 'ztrace_maps.dll']\n"
     ]
    }
   ],
   "source": [
    "import os\n",
    "\n",
    "# 获取文件大小\n",
    "print(os.path.getsize('C:\\\\Windows\\\\System32\\\\calc.exe'))  # 输出文件大小（字节）\n",
    "\n",
    "# 列出文件夹内容\n",
    "print(os.listdir('C:\\\\Windows\\\\System32'))  # 输出文件夹中的文件名列表\n"
   ]
  },
  {
   "cell_type": "code",
   "execution_count": 22,
   "id": "27023163-6a8f-4377-be2a-75eb4a9a0294",
   "metadata": {},
   "outputs": [
    {
     "name": "stdout",
     "output_type": "stream",
     "text": [
      "2557784118\n"
     ]
    }
   ],
   "source": [
    "# 计算文件夹中文件的总大小\n",
    "totalSize = 0\n",
    "for filename in os.listdir('C:\\\\Windows\\\\System32'):\n",
    "    totalSize += os.path.getsize(os.path.join('C:\\\\Windows\\\\System32', filename))\n",
    "print(totalSize)\n"
   ]
  },
  {
   "cell_type": "code",
   "execution_count": 23,
   "id": "d93debbd-4110-4132-bf1f-8df110aff4b5",
   "metadata": {},
   "outputs": [],
   "source": [
    "### 检查路径有效性"
   ]
  },
  {
   "cell_type": "code",
   "execution_count": 25,
   "id": "2af973ae-3064-4e58-b999-65908901d4cf",
   "metadata": {},
   "outputs": [
    {
     "name": "stdout",
     "output_type": "stream",
     "text": [
      "True\n",
      "False\n",
      "True\n",
      "False\n",
      "True\n",
      "True\n"
     ]
    }
   ],
   "source": [
    "import os\n",
    "\n",
    "# 检查路径是否存在\n",
    "print(os.path.exists('C:\\\\Windows'))  # True\n",
    "print(os.path.exists('C:\\\\some_made_up_folder'))  # False\n",
    "\n",
    "# 检查路径是否为文件夹\n",
    "print(os.path.isdir('C:\\\\Windows\\\\System32'))  # True\n",
    "print(os.path.isdir('C:\\\\Windows\\\\System32\\\\calc.exe'))  # False\n",
    "\n",
    "# 检查路径是否为文件\n",
    "print(os.path.isfile('C:\\\\Windows\\\\System32\\\\calc.exe'))  # True\n",
    "\n",
    "\n",
    "# 检查闪存驱动器是否存在\n",
    "print(os.path.exists('D:\\\\'))  # 如果驱动器插入，返回 True，否则返回 False\n"
   ]
  },
  {
   "cell_type": "markdown",
   "id": "b1121ce4-8be5-4801-bb22-217741687cee",
   "metadata": {},
   "source": [
    "### 文件读取/写入过程"
   ]
  },
  {
   "cell_type": "code",
   "execution_count": 28,
   "id": "415545ae-7d3b-4487-a46a-4656eb006dd2",
   "metadata": {},
   "outputs": [
    {
     "name": "stdout",
     "output_type": "stream",
     "text": [
      "Hello world!\n",
      "Bacon is not a vegetable.\n",
      "['Hello world!\\n', 'Bacon is not a vegetable.']\n"
     ]
    }
   ],
   "source": [
    "# 写入文件\n",
    "# 写入模式（'w'）：此模式会覆盖现有的文件内容，从头开始写入。\n",
    "#追加模式（'a'）：此模式会将内容追加到现有文件的末尾。)\n",
    "baconFile = open('bacon.txt', 'w')\n",
    "baconFile.write('Hello world!\\n')\n",
    "baconFile.close()\n",
    "\n",
    "baconFile = open('bacon.txt', 'a')\n",
    "baconFile.write('Bacon is not a vegetable.')\n",
    "baconFile.close()\n",
    "\n",
    "# 读取文件内容\n",
    "baconFile = open('bacon.txt')\n",
    "content = baconFile.read()\n",
    "baconFile.close()\n",
    "print(content)\n",
    "\n",
    "# 读取文件按行读\n",
    "sonnetFile = open('bacon.txt')\n",
    "lines = sonnetFile.readlines()\n",
    "sonnetFile.close()\n",
    "print(lines)\n"
   ]
  },
  {
   "cell_type": "markdown",
   "id": "45c5b3a9-edb9-4063-af77-047a99023607",
   "metadata": {},
   "source": [
    "### shelve 保存二进制文件"
   ]
  },
  {
   "cell_type": "code",
   "execution_count": 29,
   "id": "41e74e1a-9436-4781-b393-76ce72b8df37",
   "metadata": {},
   "outputs": [
    {
     "name": "stdout",
     "output_type": "stream",
     "text": [
      "['Zophie', 'Pooka', 'Simon']\n"
     ]
    }
   ],
   "source": [
    "# 写入数据\n",
    "import shelve\n",
    "shelfFile = shelve.open('mydata')\n",
    "cats = ['Zophie', 'Pooka', 'Simon']\n",
    "shelfFile['cats'] = cats\n",
    "shelfFile.close()\n",
    "# 读取数据\n",
    "shelfFile = shelve.open('mydata')\n",
    "print(shelfFile['cats'])\n",
    "# 输出：['Zophie', 'Pooka', 'Simon']\n",
    "shelfFile.close()\n"
   ]
  },
  {
   "cell_type": "code",
   "execution_count": 30,
   "id": "1824042b-d91d-408c-a509-84bfe9c06305",
   "metadata": {},
   "outputs": [
    {
     "name": "stdout",
     "output_type": "stream",
     "text": [
      "['cats']\n",
      "[['Zophie', 'Pooka', 'Simon']]\n"
     ]
    }
   ],
   "source": [
    "# 读取所有键和值\n",
    "shelfFile = shelve.open('mydata')\n",
    "print(list(shelfFile.keys()))  # 输出：['cats']\n",
    "print(list(shelfFile.values()))  # 输出：[ ['Zophie', 'Pooka', 'Simon'] ]\n",
    "shelfFile.close()\n"
   ]
  },
  {
   "cell_type": "markdown",
   "id": "2a3c31c7-265d-4719-bca7-33ff29d9c6e6",
   "metadata": {},
   "source": [
    "#### pprint.pformat() 保存变量\n",
    "pprint.pformat() 是 pprint 模块中的一个函数，它可以将 Python 对象（如字典、列表等）转换成一个格式化的字符串，这个字符串既便于人类阅读，也符合 Python 语法规则。将这种格式化后的字符串保存到文件中，可以在以后使用时再导入该文件，将变量恢复为原来的状态。"
   ]
  },
  {
   "cell_type": "code",
   "execution_count": 32,
   "id": "8d2b7c66-abe2-4a45-81ed-ea979b9861e6",
   "metadata": {},
   "outputs": [
    {
     "name": "stdout",
     "output_type": "stream",
     "text": [
      "[{'desc': 'chubby', 'name': 'Zophie'}, {'desc': 'fluffy', 'name': 'Pooka'}]\n",
      "[{'desc': 'chubby', 'name': 'Zophie'}, {'desc': 'fluffy', 'name': 'Pooka'}]\n",
      "{'desc': 'chubby', 'name': 'Zophie'}\n",
      "Zophie\n"
     ]
    }
   ],
   "source": [
    "import pprint\n",
    "\n",
    "# 创建一个字典\n",
    "cats = [{'name': 'Zophie', 'desc': 'chubby'}, {'name': 'Pooka', 'desc': 'fluffy'}]\n",
    "\n",
    "# 使用 pprint.pformat() 将字典转换为格式化的字符串\n",
    "formatted_data = pprint.pformat(cats)\n",
    "print(formatted_data)  # 输出格式化后的字符串\n",
    "\n",
    "# 将这个字符串保存到一个 Python 文件中（myCats.py）\n",
    "with open('myCats.py', 'w') as fileObj:\n",
    "    fileObj.write('cats = ' + formatted_data + '\\n')\n",
    "\n",
    "# 文件保存完成后，可以导入并使用\n",
    "import myCats\n",
    "# 访问 'cats' 列表\n",
    "print(myCats.cats)\n",
    "# 输出: [{'name': 'Zophie', 'desc': 'chubby'}, {'name': 'Pooka', 'desc': 'fluffy'}]\n",
    "\n",
    "# 访问列表中的第一个字典\n",
    "print(myCats.cats[0])\n",
    "# 输出: {'name': 'Zophie', 'desc': 'chubby'}\n",
    "\n",
    "# 访问字典中的 'name' 键\n",
    "print(myCats.cats[0]['name'])\n",
    "# 输出: 'Zophie'\n"
   ]
  },
  {
   "cell_type": "markdown",
   "id": "eeffb075-3e80-47d0-a2c8-c5987079fc6d",
   "metadata": {},
   "source": [
    "\n",
    "\n",
    "## Excel"
   ]
  },
  {
   "cell_type": "markdown",
   "id": "cc935ced-0fd8-4ed1-b790-edcdf545ee46",
   "metadata": {},
   "source": [
    "###  Excel 工作簿和工作表概念\n",
    "工作簿（Workbook）：Excel 文件本身，也就是 .xlsx 文件。\n",
    "工作表（Worksheet）：一个工作簿可以包含多个工作表，每个工作表由行和列组成，数据存储在其中。\n",
    "活动工作表（Active Sheet）：当前用户正在查看的工作表。\n",
    "列和行：列由字母表示（如 A、B、C），行由数字表示（如 1、2、3），交叉点称为单元格（Cell）"
   ]
  },
  {
   "cell_type": "code",
   "execution_count": 39,
   "id": "8d449f9d-d461-48f2-bfee-b4b564cb5d9c",
   "metadata": {},
   "outputs": [
    {
     "name": "stdout",
     "output_type": "stream",
     "text": [
      "<class 'openpyxl.workbook.workbook.Workbook'>\n"
     ]
    }
   ],
   "source": [
    "\n",
    "# 读取 Excel 文件\n",
    "import openpyxl\n",
    "wb = openpyxl.load_workbook('C:\\\\Users\\\\JYC11\\\\Desktop\\\\Lecture\\\\lectures-main\\\\example.xlsx')\n",
    "print(type(wb))  # 输出：<class 'openpyxl.workbook.workbook.Workbook'>\n"
   ]
  },
  {
   "cell_type": "code",
   "execution_count": 41,
   "id": "0311ab73-7e5a-4554-a343-a0e5dcd50378",
   "metadata": {},
   "outputs": [
    {
     "name": "stdout",
     "output_type": "stream",
     "text": [
      "Sheet1\n",
      "2015-04-05 13:34:02\n"
     ]
    }
   ],
   "source": [
    "# 操作工作表\n",
    "sheet = wb.active  # 获取当前活动的工作表\n",
    "print(sheet.title)  # 输出工作表的名称\n",
    "cell = sheet['A1']\n",
    "print(cell.value)  # 输出 A1 单元格的内容\n",
    "\n"
   ]
  },
  {
   "cell_type": "code",
   "execution_count": 47,
   "id": "7f6c7428-dc11-40e9-9ac5-8fb9f73bd119",
   "metadata": {},
   "outputs": [
    {
     "name": "stdout",
     "output_type": "stream",
     "text": [
      "['Sheet1', 'Sheet2', 'Sheet3']\n",
      "<Worksheet \"Sheet1\">\n",
      "<Worksheet \"Sheet1\">\n",
      "2015-04-05 13:34:02\n",
      "Apples\n",
      "1 Apples\n",
      "3 Pears\n",
      "5 Apples\n",
      "7 Strawberries\n"
     ]
    }
   ],
   "source": [
    "# 获取所有工作表的名称\n",
    "sheet_names = wb.sheetnames  # get_sheet_names() 已废弃，使用 sheetnames 属性\n",
    "print(sheet_names)\n",
    "\n",
    "sheet = wb['Sheet1']  # 获取名称为 'Sheet1' 的工作表\n",
    "print(sheet)\n",
    "\n",
    "active_sheet = wb.active  # 获取活动工作表\n",
    "print(active_sheet)\n",
    "\n",
    "cell = sheet['A1']\n",
    "print(cell.value)  # 获取单元格 A1 的值\n",
    "\n",
    "cell = sheet.cell(row=1, column=2)  # 获取 B1 单元格\n",
    "print(cell.value)\n",
    "\n",
    "\n"
   ]
  },
  {
   "cell_type": "code",
   "execution_count": 48,
   "id": "d33207f7-cb62-4688-9e3c-eb030a13bd16",
   "metadata": {},
   "outputs": [
    {
     "name": "stdout",
     "output_type": "stream",
     "text": [
      "1 Apples\n",
      "3 Pears\n",
      "5 Apples\n",
      "7 Strawberries\n"
     ]
    }
   ],
   "source": [
    "for i in range(1, 8, 2):  # 遍历奇数行\n",
    "    print(i, sheet.cell(row=i, column=2).value)  # 获取 B 列的单元格"
   ]
  },
  {
   "cell_type": "code",
   "execution_count": 49,
   "id": "9daac13d-a51d-48fb-9517-af0a466510c8",
   "metadata": {},
   "outputs": [
    {
     "name": "stdout",
     "output_type": "stream",
     "text": [
      "7 3\n"
     ]
    }
   ],
   "source": [
    "highest_row = sheet.max_row  # 获取最大行数（推荐）\n",
    "highest_column = sheet.max_column  # 获取最大列数（推荐）\n",
    "print(highest_row, highest_column)\n"
   ]
  },
  {
   "cell_type": "markdown",
   "id": "afb76a31-a7bd-4320-833a-8ebca71d2c4b",
   "metadata": {},
   "source": [
    "### 转换列字母和列号\n",
    "在 Excel 中，列是用字母表示的（如 A, B, C, ..., Z, AA, AB 等），而在程序中通常使用列号来表示（如 1, 2, 3, ..., 26, 27, 28 等）。openpyxl 提供了两个函数来实现列字母和列号之间的转换"
   ]
  },
  {
   "cell_type": "code",
   "execution_count": 53,
   "id": "344aa751-1651-4c08-8ea8-7d6066818be0",
   "metadata": {},
   "outputs": [
    {
     "name": "stdout",
     "output_type": "stream",
     "text": [
      "A\n",
      "B\n",
      "AA\n",
      "AHP\n"
     ]
    }
   ],
   "source": [
    "# 从列号转换为列字母\n",
    "from openpyxl.utils import get_column_letter\n",
    "\n",
    "print(get_column_letter(1))  # 输出 'A'\n",
    "print(get_column_letter(2))  # 输出 'B'\n",
    "print(get_column_letter(27))  # 输出 'AA'\n",
    "print(get_column_letter(900))  # 输出 'AHP'\n"
   ]
  },
  {
   "cell_type": "code",
   "execution_count": 54,
   "id": "a9a9a227-dabf-406d-814a-e74ad9b13c97",
   "metadata": {},
   "outputs": [],
   "source": [
    "# 从列字母转换为列号"
   ]
  },
  {
   "cell_type": "code",
   "execution_count": 56,
   "id": "30f69d8e-02f2-448e-ba5a-9ca262bc906f",
   "metadata": {},
   "outputs": [
    {
     "name": "stdout",
     "output_type": "stream",
     "text": [
      "1\n",
      "27\n"
     ]
    }
   ],
   "source": [
    "from openpyxl.utils import column_index_from_string\n",
    "\n",
    "print(column_index_from_string('A'))  # 输出 1\n",
    "print(column_index_from_string('AA'))  # 输出 27\n"
   ]
  },
  {
   "cell_type": "code",
   "execution_count": 67,
   "id": "c7bbe62d-cce8-4d82-98fd-a12538d31c6c",
   "metadata": {},
   "outputs": [
    {
     "name": "stdout",
     "output_type": "stream",
     "text": [
      "A1 2015-04-05 13:34:02\n",
      "B1 Apples\n",
      "C1 73\n",
      "--- END OF ROW ---\n",
      "A2 2015-04-05 03:41:23\n",
      "B2 Cherries\n",
      "C2 85\n",
      "--- END OF ROW ---\n",
      "A3 2015-04-06 12:46:51\n",
      "B3 Pears\n",
      "C3 14\n",
      "--- END OF ROW ---\n"
     ]
    }
   ],
   "source": [
    "# 获取指定区域的单元格\n",
    "import openpyxl\n",
    "\n",
    "wb = openpyxl.load_workbook('C:\\\\Users\\\\JYC11\\\\Desktop\\\\Lecture\\\\lectures-main\\\\example.xlsx')\n",
    "sheet = wb['Sheet1']\n",
    "\n",
    "# 获取从 A1 到 C3 的区域\n",
    "cells = tuple(sheet['A1':'C3'])\n",
    "\n",
    "for rowOfCellObjects in cells:\n",
    "    for cellObj in rowOfCellObjects:\n",
    "        print(cellObj.coordinate, cellObj.value)\n",
    "    print('--- END OF ROW ---')\n"
   ]
  },
  {
   "cell_type": "code",
   "execution_count": 74,
   "id": "3512160f-a43c-4732-9a52-ab7b1c3e9a9f",
   "metadata": {},
   "outputs": [
    {
     "name": "stdout",
     "output_type": "stream",
     "text": [
      "Apples\n",
      "Cherries\n",
      "Pears\n",
      "Oranges\n",
      "Apples\n",
      "Bananas\n",
      "Strawberries\n"
     ]
    }
   ],
   "source": [
    "import openpyxl\n",
    "\n",
    "# 加载工作簿\n",
    "wb = openpyxl.load_workbook('C:\\\\Users\\\\JYC11\\\\Desktop\\\\Lecture\\\\lectures-main\\\\example.xlsx')\n",
    "\n",
    "# 获取当前活动的工作表\n",
    "sheet = wb.active\n",
    "\n",
    "# 将sheet.columns转换成列表\n",
    "columns = list(sheet.columns)\n",
    "\n",
    "# 获取第二列（B列）的所有单元格\n",
    "for cellObj in columns[1]:  # columns[1] 表示B列\n",
    "    print(cellObj.value)\n"
   ]
  },
  {
   "cell_type": "markdown",
   "id": "50237f19-d714-47e5-8613-19b83c9f238b",
   "metadata": {},
   "source": [
    "### Excel写入"
   ]
  },
  {
   "cell_type": "code",
   "execution_count": 75,
   "id": "85d21f39-e880-4e5d-9fa1-ea7f07f64d12",
   "metadata": {},
   "outputs": [
    {
     "name": "stdout",
     "output_type": "stream",
     "text": [
      "['Sheet']\n",
      "Sheet\n",
      "['Spam Bacon Eggs Sheet']\n"
     ]
    }
   ],
   "source": [
    "import openpyxl\n",
    "\n",
    "# 创建一个新的工作簿\n",
    "wb = openpyxl.Workbook()\n",
    "\n",
    "# 获取工作表名称（应该返回 ['Sheet']）\n",
    "print(wb.sheetnames)\n",
    "\n",
    "# 获取活动工作表并检查其标题\n",
    "sheet = wb.active\n",
    "print(sheet.title)\n",
    "\n",
    "# 更改工作表标题\n",
    "sheet.title = 'Spam Bacon Eggs Sheet'\n",
    "\n",
    "# 验证标题是否已更改\n",
    "print(wb.sheetnames)\n"
   ]
  },
  {
   "cell_type": "code",
   "execution_count": 76,
   "id": "ae1beefd-2e9d-4cad-9052-2efac31e1327",
   "metadata": {},
   "outputs": [],
   "source": [
    "# 加载现有的工作簿并进行修改"
   ]
  },
  {
   "cell_type": "code",
   "execution_count": 77,
   "id": "717babd5-6872-48c0-931e-855ccdbe07ee",
   "metadata": {},
   "outputs": [],
   "source": [
    "import openpyxl\n",
    "\n",
    "# 加载一个现有的工作簿\n",
    "wb = openpyxl.load_workbook('C:\\\\Users\\\\JYC11\\\\Desktop\\\\Lecture\\\\lectures-main\\\\example.xlsx')\n",
    "\n",
    "# 获取活动工作表\n",
    "sheet = wb.active\n",
    "\n",
    "# 更改工作表标题\n",
    "sheet.title = 'Spam Spam Spam'\n",
    "\n",
    "# 保存工作簿到一个新文件\n",
    "wb.save('C:\\\\Users\\\\JYC11\\\\Desktop\\\\Lecture\\\\lectures-main\\\\example_copy.xlsx')\n"
   ]
  },
  {
   "cell_type": "code",
   "execution_count": 78,
   "id": "4e65f31b-65f5-4bb8-9dc3-d513f80480a1",
   "metadata": {},
   "outputs": [],
   "source": [
    "# 添加工作表"
   ]
  },
  {
   "cell_type": "code",
   "execution_count": 79,
   "id": "8bf82a16-ec0d-4e5b-ad3f-a0726a4ee45d",
   "metadata": {},
   "outputs": [
    {
     "name": "stdout",
     "output_type": "stream",
     "text": [
      "['Sheet']\n",
      "['Sheet', 'Sheet1']\n",
      "['First Sheet', 'Sheet', 'Sheet1']\n",
      "['First Sheet', 'Sheet', 'Middle Sheet', 'Sheet1']\n"
     ]
    }
   ],
   "source": [
    "import openpyxl\n",
    "\n",
    "# 创建一个新的工作簿\n",
    "wb = openpyxl.Workbook()\n",
    "\n",
    "# 查看工作簿中所有的工作表名称\n",
    "print(wb.sheetnames)  # ['Sheet']\n",
    "\n",
    "# 创建一个新的工作表（默认添加到最后）\n",
    "wb.create_sheet()\n",
    "print(wb.sheetnames)  # ['Sheet', 'Sheet1']\n",
    "\n",
    "# 在指定位置（index=0）创建一个新的工作表，并设置其名称为 'First Sheet'\n",
    "wb.create_sheet(index=0, title='First Sheet')\n",
    "print(wb.sheetnames)  # ['First Sheet', 'Sheet', 'Sheet1']\n",
    "\n",
    "# 在指定位置（index=2）创建一个新的工作表，并设置其名称为 'Middle Sheet'\n",
    "wb.create_sheet(index=2, title='Middle Sheet')\n",
    "print(wb.sheetnames)  # ['First Sheet', 'Sheet', 'Middle Sheet', 'Sheet1']\n"
   ]
  },
  {
   "cell_type": "code",
   "execution_count": 80,
   "id": "2ac236cb-7035-49e3-854e-fcb5e0b4c2a4",
   "metadata": {},
   "outputs": [],
   "source": [
    "# 删除工作表"
   ]
  },
  {
   "cell_type": "code",
   "execution_count": 82,
   "id": "ec1e9d5b-369a-408e-ad11-ebc53d970cc9",
   "metadata": {},
   "outputs": [
    {
     "name": "stdout",
     "output_type": "stream",
     "text": [
      "['Sheet', 'First Sheet', 'Middle Sheet', 'Sheet1']\n",
      "['Sheet', 'First Sheet']\n"
     ]
    }
   ],
   "source": [
    "import openpyxl\n",
    "\n",
    "# 创建一个新的工作簿并添加多个工作表\n",
    "wb = openpyxl.Workbook()\n",
    "wb.create_sheet(title='First Sheet')\n",
    "wb.create_sheet(title='Middle Sheet')\n",
    "wb.create_sheet(title='Sheet1')\n",
    "\n",
    "# 查看当前工作簿中的所有工作表名称\n",
    "print(wb.sheetnames)  # ['Sheet', 'First Sheet', 'Middle Sheet', 'Sheet1']\n",
    "\n",
    "# 删除工作表 'Middle Sheet' 和 'Sheet1'\n",
    "wb.remove(wb['Middle Sheet'])  # 删除 'Middle Sheet' 工作表\n",
    "del wb['Sheet1']               # 删除 'Sheet1' 工作表\n",
    "\n",
    "# 查看工作簿中剩下的工作表\n",
    "print(wb.sheetnames)  # ['Sheet', 'First Sheet']\n"
   ]
  },
  {
   "cell_type": "markdown",
   "id": "50210675-8403-4846-8e43-981c44aa1a23",
   "metadata": {},
   "source": [
    "### 设置单元格的字体样式"
   ]
  },
  {
   "cell_type": "code",
   "execution_count": 84,
   "id": "6d4855d3-1b3e-45f0-b291-248daf4c7a42",
   "metadata": {},
   "outputs": [],
   "source": [
    "import openpyxl\n",
    "from openpyxl.styles import Font, PatternFill, Border, Side\n",
    "\n",
    "# 创建一个新的工作簿\n",
    "wb = openpyxl.Workbook()\n",
    "ws = wb.active\n",
    "\n",
    "# 设置字体\n",
    "font = Font(name='Arial', size=12, bold=True, color='FF0000')\n",
    "ws['A1'].font = font\n",
    "\n",
    "# 设置填充颜色\n",
    "fill = PatternFill(start_color=\"FFFF00\", end_color=\"FFFF00\", fill_type=\"solid\")\n",
    "ws['A1'].fill = fill\n",
    "\n",
    "# 设置边框\n",
    "border = Border(left=Side(style='thin'), right=Side(style='thin'), \n",
    "                top=Side(style='thin'), bottom=Side(style='thin'))\n",
    "ws['A1'].border = border\n",
    "\n",
    "# 保存文件\n",
    "wb.save(\"C:\\\\Users\\\\JYC11\\\\Desktop\\\\Lecture\\\\lectures-main\\\\styled_workbook.xlsx\")\n"
   ]
  },
  {
   "cell_type": "markdown",
   "id": "7ab285fc-ffa3-49e6-ac5c-8b30e13c21fe",
   "metadata": {},
   "source": [
    "### Font() 函数的关键字参数\n",
    "\n",
    "| 关键字参数 | 数据类型 | 描述 |\n",
    "|------------|----------|------|\n",
    "| `name`     | 字符串   | 字体名称，例如 'Calibri' 或 'Times New Roman' |\n",
    "| `size`     | 整数     | 字体的点大小 |\n",
    "| `bold`     | 布尔值   | 是否加粗字体（`True` 表示加粗） |\n",
    "| `italic`   | 布尔值   | 是否使用斜体（`True` 表示斜体） |\n"
   ]
  },
  {
   "cell_type": "code",
   "execution_count": 85,
   "id": "67636fbf-9b2b-4aac-aa63-0c7ff353f6fa",
   "metadata": {},
   "outputs": [],
   "source": [
    "import openpyxl\n",
    "from openpyxl.styles import Font\n",
    "\n",
    "# 创建一个新的工作簿\n",
    "wb = openpyxl.Workbook()\n",
    "sheet = wb.active  # 默认的工作表\n",
    "\n",
    "# 设置 A1 单元格字体为 Times New Roman，粗体\n",
    "fontObj1 = Font(name='Times New Roman', bold=True)\n",
    "sheet['A1'].font = fontObj1\n",
    "sheet['A1'] = 'Bold Times New Roman'\n",
    "\n",
    "# 设置 B3 单元格字体为 24pt，斜体\n",
    "fontObj2 = Font(size=24, italic=True)\n",
    "sheet['B3'].font = fontObj2\n",
    "sheet['B3'] = '24 pt Italic'\n",
    "\n",
    "# 保存工作簿\n",
    "wb.save('C:\\\\Users\\\\JYC11\\\\Desktop\\\\Lecture\\\\lectures-main\\\\styles.xlsx')\n"
   ]
  },
  {
   "cell_type": "code",
   "execution_count": 86,
   "id": "e4bd7092-ff87-4458-a8c2-bc8685f0af67",
   "metadata": {},
   "outputs": [],
   "source": [
    "# 为单元格添加公式"
   ]
  },
  {
   "cell_type": "code",
   "execution_count": 115,
   "id": "c28a6c5f-25dc-4664-8873-e32a75fb2113",
   "metadata": {},
   "outputs": [],
   "source": [
    "import openpyxl\n",
    "\n",
    "# 创建一个新的工作簿\n",
    "wb = openpyxl.Workbook()\n",
    "sheet = wb.active  # 默认的工作表\n",
    "\n",
    "# 在 A1 和 A2 单元格中添加值\n",
    "sheet['A1'] = 200\n",
    "sheet['A2'] = 300\n",
    "\n",
    "# 在 A3 单元格中添加公式，计算 A1 和 A2 的和\n",
    "sheet['A3'] = '=SUM(A1:A2)'\n",
    "\n",
    "# 保存工作簿\n",
    "wb.save('C:\\\\Users\\\\JYC11\\\\Desktop\\\\Lecture\\\\lectures-main\\\\writeFormula.xlsx')\n"
   ]
  },
  {
   "cell_type": "code",
   "execution_count": 88,
   "id": "226ff5f6-274c-4e3a-b832-360cfe7b8add",
   "metadata": {},
   "outputs": [],
   "source": [
    "# 读取公式和结果"
   ]
  },
  {
   "cell_type": "code",
   "execution_count": 116,
   "id": "fa24c424-4542-4c4d-8ba5-1d9d49c9c466",
   "metadata": {},
   "outputs": [
    {
     "name": "stdout",
     "output_type": "stream",
     "text": [
      "=SUM(A1:A2)\n",
      "None\n"
     ]
    }
   ],
   "source": [
    "import openpyxl\n",
    "\n",
    "# 读取公式\n",
    "wbFormulas = openpyxl.load_workbook('C:\\\\Users\\\\JYC11\\\\Desktop\\\\Lecture\\\\lectures-main\\\\writeFormula.xlsx')\n",
    "sheet = wbFormulas.active\n",
    "print(sheet['A3'].value)  # 输出: '=SUM(A1:A2)'，公式本身\n",
    "\n",
    "# 使用 data_only=True 加载工作簿（读取公式计算结果）\n",
    "wb_loaded_data_only = openpyxl.load_workbook('C:\\\\Users\\\\JYC11\\\\Desktop\\\\Lecture\\\\lectures-main\\\\writeFormula.xlsx', data_only=True)\n",
    "sheet = wb_loaded_data_only.active\n",
    "print(sheet['A3'].value)  # 输出: 500，公式计算后的结果\n"
   ]
  },
  {
   "cell_type": "code",
   "execution_count": null,
   "id": "69f174b9-901b-42a6-89cd-7d3325be8f2e",
   "metadata": {},
   "outputs": [],
   "source": [
    "# 调整行高和列宽"
   ]
  },
  {
   "cell_type": "code",
   "execution_count": 99,
   "id": "b4125d6b-afc9-4fa9-80f3-326c57b9ec3a",
   "metadata": {},
   "outputs": [],
   "source": [
    "import openpyxl\n",
    "\n",
    "# 创建一个新的工作簿并激活工作表\n",
    "wb = openpyxl.Workbook()\n",
    "sheet = wb.active\n",
    "\n",
    "# 在单元格中设置值\n",
    "sheet['A1'] = 'Tall row'\n",
    "sheet['B2'] = 'Wide column'\n",
    "\n",
    "# 设置行高和列宽\n",
    "sheet.row_dimensions[1].height = 70  # 设置第1行的高度为70\n",
    "sheet.column_dimensions['B'].width = 20  # 设置B列的宽度为20\n",
    "\n",
    "# 保存工作簿\n",
    "wb.save('C:\\\\Users\\\\JYC11\\\\Desktop\\\\Lecture\\\\lectures-main\\\\dimensions.xlsx')\n"
   ]
  },
  {
   "cell_type": "code",
   "execution_count": null,
   "id": "70fb35d8-93d8-48fd-8de4-e8cd8d0f41b3",
   "metadata": {},
   "outputs": [],
   "source": [
    "# 合并和取消合并单元格"
   ]
  },
  {
   "cell_type": "code",
   "execution_count": 100,
   "id": "da06f489-54cd-488f-b202-a4cefbdecbc4",
   "metadata": {},
   "outputs": [],
   "source": [
    "import openpyxl\n",
    "\n",
    "# 创建一个新的工作簿并激活工作表\n",
    "wb = openpyxl.Workbook()\n",
    "sheet = wb.active\n",
    "\n",
    "# 合并单元格\n",
    "sheet.merge_cells('A1:D3')  # 合并 A1 到 D3\n",
    "sheet['A1'] = '十二个单元格合并在一起。'\n",
    "\n",
    "sheet.merge_cells('C5:D5')  # 合并 C5 到 D5\n",
    "sheet['C5'] = '两个合并单元格。'\n",
    "\n",
    "# 保存工作簿\n",
    "wb.save('C:\\\\Users\\\\JYC11\\\\Desktop\\\\Lecture\\\\lectures-main\\\\merged.xlsx')\n",
    "\n",
    "# 加载工作簿并取消合并单元格\n",
    "wb = openpyxl.load_workbook('C:\\\\Users\\\\JYC11\\\\Desktop\\\\Lecture\\\\lectures-main\\\\merged.xlsx')\n",
    "sheet = wb.active\n",
    "\n",
    "# 取消合并单元格\n",
    "sheet.unmerge_cells('A1:D3')\n",
    "sheet.unmerge_cells('C5:D5')\n",
    "\n",
    "# 保存更改\n",
    "wb.save('C:\\\\Users\\\\JYC11\\\\Desktop\\\\Lecture\\\\lectures-main\\\\merged.xlsx')\n"
   ]
  },
  {
   "cell_type": "markdown",
   "id": "02ea4db8-a771-4607-a4e9-87a206d19f82",
   "metadata": {},
   "source": [
    "### 设置表头（header）"
   ]
  },
  {
   "cell_type": "code",
   "execution_count": 1,
   "id": "c7ebd9eb-21dd-485d-acf6-a8c92a17e773",
   "metadata": {},
   "outputs": [],
   "source": [
    "import openpyxl\n",
    "from openpyxl.styles import Font, Alignment, PatternFill\n",
    "\n",
    "# 创建一个新的工作簿\n",
    "wb = openpyxl.Workbook()\n",
    "\n",
    "# 获取默认工作表\n",
    "sheet = wb.active\n",
    "\n",
    "# 设置表头内容\n",
    "headers = ['Name', 'Age', 'Gender', 'Occupation']\n",
    "for col_num, header in enumerate(headers, start=1):\n",
    "    # 设置单元格内容\n",
    "    sheet.cell(row=1, column=col_num, value=header)\n",
    "\n",
    "# 设置表头样式\n",
    "for col_num in range(1, len(headers) + 1):\n",
    "    header_cell = sheet.cell(row=1, column=col_num)\n",
    "\n",
    "    # 设置字体：加粗\n",
    "    header_cell.font = Font(bold=True)\n",
    "\n",
    "    # 设置居中对齐\n",
    "    header_cell.alignment = Alignment(horizontal='center', vertical='center')\n",
    "\n",
    "    # 设置背景颜色\n",
    "    header_cell.fill = PatternFill(start_color=\"FFFF00\", end_color=\"FFFF00\", fill_type=\"solid\")\n",
    "\n",
    "# 调整列宽以适应内容\n",
    "for col_num in range(1, len(headers) + 1):\n",
    "    sheet.column_dimensions[openpyxl.utils.get_column_letter(col_num)].width = 20\n",
    "\n",
    "# 保存工作簿\n",
    "wb.save('C:\\\\Users\\\\JYC11\\\\Desktop\\\\Lecture\\\\lectures-main\\\\header_example.xlsx')\n"
   ]
  },
  {
   "cell_type": "markdown",
   "id": "36fda9e3-9129-4338-be06-b577ecd1ad72",
   "metadata": {},
   "source": [
    "### 设置表头插入数据"
   ]
  },
  {
   "cell_type": "code",
   "execution_count": 2,
   "id": "065d533f-0fa2-4c93-8ede-a72a8c504e66",
   "metadata": {},
   "outputs": [],
   "source": [
    "import openpyxl\n",
    "from openpyxl.styles import Font, Alignment, PatternFill\n",
    "\n",
    "# 创建一个新的工作簿\n",
    "wb = openpyxl.Workbook()\n",
    "\n",
    "# 获取默认工作表\n",
    "sheet = wb.active\n",
    "\n",
    "# 设置表头内容\n",
    "headers = ['Name', 'Age', 'Gender', 'Occupation']\n",
    "for col_num, header in enumerate(headers, start=1):\n",
    "    # 设置单元格内容\n",
    "    sheet.cell(row=1, column=col_num, value=header)\n",
    "\n",
    "# 设置表头样式\n",
    "for col_num in range(1, len(headers) + 1):\n",
    "    header_cell = sheet.cell(row=1, column=col_num)\n",
    "    # 设置字体：加粗\n",
    "    header_cell.font = Font(bold=True)\n",
    "    # 设置居中对齐\n",
    "    header_cell.alignment = Alignment(horizontal='center', vertical='center')\n",
    "    # 设置背景颜色\n",
    "    header_cell.fill = PatternFill(start_color=\"FFFF00\", end_color=\"FFFF00\", fill_type=\"solid\")\n",
    "\n",
    "# 调整列宽以适应内容\n",
    "for col_num in range(1, len(headers) + 1):\n",
    "    sheet.column_dimensions[openpyxl.utils.get_column_letter(col_num)].width = 20\n",
    "\n",
    "# 插入数据\n",
    "data = [\n",
    "    ['Alice', 30, 'Female', 'Engineer'],\n",
    "    ['Bob', 25, 'Male', 'Designer'],\n",
    "    ['Charlie', 35, 'Male', 'Manager'],\n",
    "    ['Diana', 28, 'Female', 'Artist']\n",
    "]\n",
    "\n",
    "# 插入数据行\n",
    "for row_num, row_data in enumerate(data, start=2):  # 从第二行开始插入数据\n",
    "    for col_num, value in enumerate(row_data, start=1):\n",
    "        sheet.cell(row=row_num, column=col_num, value=value)\n",
    "\n",
    "# 保存工作簿\n",
    "wb.save('C:\\\\Users\\\\JYC11\\\\Desktop\\\\Lecture\\\\lectures-main\\\\header_example_with_data.xlsx')\n"
   ]
  },
  {
   "cell_type": "code",
   "execution_count": null,
   "id": "c82498b2-93fb-4487-8e38-da57a388b17f",
   "metadata": {},
   "outputs": [],
   "source": [
    "# 冻结窗格"
   ]
  },
  {
   "cell_type": "code",
   "execution_count": 111,
   "id": "9560cf3f-26d4-44e5-9d2d-f426773cdfe3",
   "metadata": {},
   "outputs": [],
   "source": [
    "import openpyxl\n",
    "\n",
    "# 加载电子表格\n",
    "wb = openpyxl.load_workbook('C:\\\\Users\\\\JYC11\\\\Desktop\\\\Lecture\\\\lectures-main\\\\produceSales.xlsx')\n",
    "\n",
    "# 获取活动工作表\n",
    "sheet = wb.active\n",
    "\n",
    "# 设置冻结窗格\n",
    "sheet.freeze_panes = 'A2'  # 冻结第一行\n",
    "\n",
    "# 保存文件\n",
    "wb.save('C:\\\\Users\\\\JYC11\\\\Desktop\\\\Lecture\\\\lectures-main\\\\freezeExample.xlsx')\n"
   ]
  },
  {
   "cell_type": "code",
   "execution_count": 106,
   "id": "69a8977d-19e4-4166-ad76-53764a58c30b",
   "metadata": {},
   "outputs": [],
   "source": [
    "# 图表创建"
   ]
  },
  {
   "cell_type": "code",
   "execution_count": 27,
   "id": "281c30b7-79ed-4d90-8dc9-17e5875f81c1",
   "metadata": {},
   "outputs": [],
   "source": [
    "import openpyxl\n",
    "from openpyxl.chart import BarChart, Reference\n",
    "\n",
    "# 创建新的工作簿并激活工作表\n",
    "wb = openpyxl.Workbook()\n",
    "sheet = wb.active\n",
    "\n",
    "# 创建一些数据\n",
    "for i in range(1, 11):  # 在 A 列填充数据 1 到 10\n",
    "    sheet['A' + str(i)] = i\n",
    "\n",
    "# 创建 Reference 对象，指定数据范围\n",
    "refObj = Reference(sheet, min_col=1, min_row=1, max_col=1, max_row=10)\n",
    "\n",
    "# 创建 Series 对象，指定图表数据源\n",
    "seriesObj = openpyxl.chart.Series(refObj, title='First series')\n",
    "\n",
    "# 创建一个 BarChart 对象\n",
    "chartObj = BarChart()\n",
    "\n",
    "# 将 Series 对象添加到图表对象中\n",
    "chartObj.append(seriesObj)\n",
    "\n",
    "# 设置图表的尺寸\n",
    "chartObj.width = 15  # 宽度\n",
    "chartObj.height = 8  # 高度\n",
    "\n",
    "# 将图表添加到工作表中，指定图表的单元格位置\n",
    "sheet.add_chart(chartObj, 'E5')\n",
    "\n",
    "# 保存文件\n",
    "wb.save('C:\\\\Users\\\\JYC11\\\\Desktop\\\\Lecture\\\\lectures-main\\\\sampleChart.xlsx')\n"
   ]
  },
  {
   "cell_type": "markdown",
   "id": "e333f3c9-8d7b-491f-9f26-c020f0f91877",
   "metadata": {},
   "source": [
    "### PD读取Excel\n",
    "pandas用于数据操作和分析库  \n",
    "numpy科学计算库  \n",
    "matplotlib 图表和图形可视化库   "
   ]
  },
  {
   "cell_type": "code",
   "execution_count": 34,
   "id": "600aef0a-d8c2-498e-8ad5-8854d36ec42e",
   "metadata": {},
   "outputs": [
    {
     "name": "stdout",
     "output_type": "stream",
     "text": [
      "      PRODUCE  COST PER POUND  POUNDS SOLD  TOTAL\n",
      "0    Potatoes            0.86         21.6  18.58\n",
      "1        Okra            2.26         38.6  87.24\n",
      "2  Fava beans            2.69         32.8  88.23\n",
      "3  Watermelon            0.66         27.3  18.02\n",
      "4      Garlic            1.19          4.9   5.83\n",
      "前8行数据:        PRODUCE  COST PER POUND  POUNDS SOLD  TOTAL\n",
      "0    Potatoes            0.86         21.6  18.58\n",
      "1        Okra            2.26         38.6  87.24\n",
      "2  Fava beans            2.69         32.8  88.23\n",
      "3  Watermelon            0.66         27.3  18.02\n",
      "4      Garlic            1.19          4.9   5.83\n",
      "5    Parsnips            2.27          1.1   2.50\n",
      "6   Asparagus            2.49         37.9  94.37\n",
      "7    Avocados            3.23          9.2  29.72\n"
     ]
    },
    {
     "data": {
      "image/png": "[encoded data removed]",
      "text/plain": [
       "<Figure size 640x480 with 1 Axes>"
      ]
     },
     "metadata": {},
     "output_type": "display_data"
    },
    {
     "data": {
      "image/png": "[encoded data removed]",
      "text/plain": [
       "<Figure size 640x480 with 1 Axes>"
      ]
     },
     "metadata": {},
     "output_type": "display_data"
    },
    {
     "name": "stdout",
     "output_type": "stream",
     "text": [
      "Shape:  (23757, 4)\n",
      "Checking null value: PRODUCE           0\n",
      "COST PER POUND    0\n",
      "POUNDS SOLD       0\n",
      "TOTAL             0\n",
      "dtype: int64\n",
      "       COST PER POUND   POUNDS SOLD         TOTAL\n",
      "count    23757.000000  23757.000000  23757.000000\n",
      "mean         2.246477     20.224199     45.438903\n",
      "std          1.665894     11.393066     46.559803\n",
      "min          0.660000      0.500000      0.380000\n",
      "25%          1.180000     10.400000     16.160000\n",
      "50%          1.880000     20.200000     31.560000\n",
      "75%          2.690000     30.000000     58.280000\n",
      "max          9.500000     40.000000    380.000000\n",
      "Index(['PRODUCE', 'COST PER POUND', 'POUNDS SOLD', 'TOTAL'], dtype='object')\n",
      "all col mean:\n",
      " COST PER POUND     2.246477\n",
      "POUNDS SOLD       20.224199\n",
      "TOTAL             45.438903\n",
      "dtype: float64\n",
      "all col std:\n",
      " COST PER POUND     1.665894\n",
      "POUNDS SOLD       11.393066\n",
      "TOTAL             46.559803\n",
      "dtype: float64\n",
      "all col quantile:\n",
      " COST PER POUND     1.18\n",
      "POUNDS SOLD       10.40\n",
      "TOTAL             16.16\n",
      "Name: 0.25, dtype: float64\n",
      "50% quantile (median) of COST PER POUND:  1.88\n"
     ]
    },
    {
     "data": {
      "image/png": "[encoded data removed]",
      "text/plain": [
       "<Figure size 640x480 with 1 Axes>"
      ]
     },
     "metadata": {},
     "output_type": "display_data"
    },
    {
     "data": {
      "image/png": "[encoded data removed]",
      "text/plain": [
       "<Figure size 640x480 with 1 Axes>"
      ]
     },
     "metadata": {},
     "output_type": "display_data"
    },
    {
     "data": {
      "image/png": "[encoded data removed]",
      "text/plain": [
       "<Figure size 640x480 with 1 Axes>"
      ]
     },
     "metadata": {},
     "output_type": "display_data"
    }
   ],
   "source": [
    "import numpy as np\n",
    "import pandas as pd\n",
    "import matplotlib.pyplot as plt\n",
    "\n",
    "# 读取数据\n",
    "df = pd.read_excel('C:\\\\Users\\\\JYC11\\\\Desktop\\\\Lecture\\\\lectures-main\\\\produceSales.xlsx', sheet_name='Sheet')\n",
    "\n",
    "# 输出数据的前几行\n",
    "print(df.head())\n",
    "\n",
    "print(\"前8行数据: \",df.head(8))\n",
    "print('显示时间序列数据的折线图:')\n",
    "df.plot()\n",
    "plt.show()\n",
    "\n",
    "# 输出数据的形状（行数和列数）\n",
    "print(\"Shape: \", df.shape)\n",
    "\n",
    "\n",
    "# 检查是否有空值\n",
    "print(\"Checking null value:\", df.isnull().sum())\n",
    "\n",
    "# 输出数据的描述性统计信息\n",
    "print(df.describe())\n",
    "\n",
    "# 打印所有列名，检查列名是否与 features 列表匹配\n",
    "print(df.columns)\n",
    "\n",
    "# 确保列名匹配后，选择需要的列并计算均值\n",
    "features = ['COST PER POUND', 'POUNDS SOLD', 'TOTAL']\n",
    "data = df[features]  # 使用正确的列名选择数据\n",
    "\n",
    "# 计算每列的平均值\n",
    "print('all col mean:\\n', data.mean())\n",
    "\n",
    "# 计算每列标准差\n",
    "print('all col std:\\n', data.std())\n",
    "\n",
    "# 数据中 25% 的值小于或等于这个数\n",
    "print('all col quantile:\\n', data.quantile(0.25))\n",
    "\n",
    "# 输出50%分位数（中位数）\n",
    "print('50% quantile (median) of COST PER POUND: ', df['COST PER POUND'].quantile(0.50))\n",
    "\n",
    "# 绘制箱型图(用于展示数据的分布、异常值以及集中趋势（如中位数）)\n",
    "data.boxplot(column=['COST PER POUND', 'POUNDS SOLD', 'TOTAL'])\n",
    "plt.title('Boxplot of Features')\n",
    "plt.ylabel('Values')\n",
    "plt.show()\n",
    "\n",
    "# 绘制散点图(COST PER POUND 和 POUNDS SOLD 这两个变量关系)\n",
    "plt.scatter(df['COST PER POUND'], df['POUNDS SOLD'], c='blue', alpha=0.5)\n",
    "plt.title('Scatter Plot of COST PER POUND vs POUNDS SOLD')\n",
    "plt.xlabel('COST PER POUND')\n",
    "plt.ylabel('POUNDS SOLD')\n",
    "plt.show()\n",
    "\n",
    "# 绘制COST PER POUND的直方图(展示 COST PER POUND（每磅成本）这一列数据的分布)\n",
    "df['COST PER POUND'].hist(bins=30, edgecolor='black')\n",
    "plt.title('Histogram of COST PER POUND')\n",
    "plt.xlabel('COST PER POUND')\n",
    "plt.ylabel('Frequency')\n",
    "plt.show()\n"
   ]
  },
  {
   "cell_type": "markdown",
   "id": "3eb8aec3-bd21-43b6-a5df-a0dad507e08b",
   "metadata": {},
   "source": [
    "### CSV  \n",
    "CSV 文件是简单的文本文件，其中每一行代表一个表格中的一行，而每个单元格的值（或数据）由逗号分隔\n",
    "例如：\n",
    "Date,Fruit,Quantity\n",
    "4/5/2015 13:34,Apples,73\n",
    "4/5/2015 3:41,Cherries,85\n",
    "4/6/2015 12:46,Pears,14\n",
    "4/8/2015 8:59,Oranges,52\n",
    "4/10/2015 2:07,Apples,152\n",
    "4/10/2015 18:10,Bananas,23\n",
    "4/10/2015 2:40,Strawberries,98"
   ]
  },
  {
   "cell_type": "markdown",
   "id": "4c157af4-1aa6-499e-925b-ca374ef71db6",
   "metadata": {},
   "source": [
    "### 写入CSV"
   ]
  },
  {
   "cell_type": "code",
   "execution_count": 3,
   "id": "01f40948-0fe6-47ce-afa8-cb09db10597c",
   "metadata": {},
   "outputs": [
    {
     "name": "stdout",
     "output_type": "stream",
     "text": [
      "CSV 文件写入成功！\n"
     ]
    }
   ],
   "source": [
    "import csv\n",
    "\n",
    "# 要写入的表头和数据\n",
    "header = ['Date', 'Fruit', 'Quantity']\n",
    "data = [\n",
    "    ['4/5/2015 13:34', 'Apples', 73],\n",
    "    ['4/5/2015 3:41', 'Cherries', 85],\n",
    "    ['4/6/2015 12:46', 'Pears', 14],\n",
    "    ['4/8/2015 8:59','Oranges',52],\n",
    "    ['4/10/2015 2:07','Apples',152],\n",
    "    ['4/10/2015 18:10','Bananas',23],\n",
    "    ['4/10/2015 2:40','Strawberries',98]\n",
    "]\n",
    "\n",
    "# 打开 CSV 文件并以写入模式打开\n",
    "with open('C:\\\\Users\\\\JYC11\\\\Desktop\\\\Lecture\\\\lectures-main\\\\output.csv', mode='w', newline='') as file:\n",
    "    writer = csv.writer(file)\n",
    "    \n",
    "    # 写入表头\n",
    "    writer.writerow(header)\n",
    "    \n",
    "    # 写入数据\n",
    "    writer.writerows(data)\n",
    "\n",
    "print(\"CSV 文件写入成功！\")\n"
   ]
  },
  {
   "cell_type": "code",
   "execution_count": 4,
   "id": "b065b2b4-346e-4c8a-a6ec-646364e54c5b",
   "metadata": {},
   "outputs": [],
   "source": [
    "##DictWriter 会根据字典的键来写入表头"
   ]
  },
  {
   "cell_type": "code",
   "execution_count": 5,
   "id": "6d8dd957-77a6-414a-96af-b4b1b3514b5e",
   "metadata": {},
   "outputs": [
    {
     "name": "stdout",
     "output_type": "stream",
     "text": [
      "CSV 文件写入成功！\n"
     ]
    }
   ],
   "source": [
    "import csv\n",
    "\n",
    "# 要写入的表头和数据\n",
    "header = ['Date', 'Fruit', 'Quantity']\n",
    "data = [\n",
    "    {'Date': '4/5/2015 13:34', 'Fruit': 'Apples', 'Quantity': 73},\n",
    "    {'Date': '4/5/2015 3:41', 'Fruit': 'Cherries', 'Quantity': 85},\n",
    "    {'Date': '4/6/2015 12:46', 'Fruit': 'Pears', 'Quantity': 14}\n",
    "]\n",
    "\n",
    "# 打开 CSV 文件并以写入模式打开\n",
    "with open('C:\\\\Users\\\\JYC11\\\\Desktop\\\\Lecture\\\\lectures-main\\\\output.csv', mode='w', newline='') as file:\n",
    "    writer = csv.DictWriter(file, fieldnames=header)\n",
    "    \n",
    "    # 写入表头\n",
    "    writer.writeheader()\n",
    "    \n",
    "    # 写入数据\n",
    "    writer.writerows(data)\n",
    "\n",
    "print(\"CSV 文件写入成功！\")\n"
   ]
  },
  {
   "cell_type": "markdown",
   "id": "cc638ccd-3e8b-4d63-894f-5c8ff4fb8059",
   "metadata": {},
   "source": [
    "### 读取CSV"
   ]
  },
  {
   "cell_type": "code",
   "execution_count": 7,
   "id": "22bdd5fa-380d-48d3-ba81-afa1c343b5e8",
   "metadata": {},
   "outputs": [
    {
     "name": "stdout",
     "output_type": "stream",
     "text": [
      "Header: ['4/5/2014 13:34', 'Apples', '73']\n",
      "Data: [['4/5/2014 3:41', 'Cherries', '85'], ['4/6/2014 12:46', 'Pears', '14'], ['4/8/2014 8:59', 'Oranges', '52'], ['4/10/2014 2:07', 'Apples', '152'], ['4/10/2014 18:10', 'Bananas', '23'], ['4/10/2014 2:40', 'Strawberries', '98']]\n"
     ]
    }
   ],
   "source": [
    "# 跳过表头（如果你只关心数据部分）\n",
    "import csv\n",
    "\n",
    "with open('C:\\\\Users\\\\JYC11\\\\Desktop\\\\Lecture\\\\lectures-main\\\\example.csv', mode='r') as file:\n",
    "    reader = csv.reader(file)\n",
    "    \n",
    "    # 跳过表头\n",
    "    header = next(reader)\n",
    "    \n",
    "    # 读取其余数据\n",
    "    data = list(reader)\n",
    "\n",
    "print(\"Header:\", header)\n",
    "print(\"Data:\", data)\n"
   ]
  },
  {
   "cell_type": "code",
   "execution_count": null,
   "id": "566c3664-94e2-48e3-b38f-eed7b662a0ab",
   "metadata": {},
   "outputs": [],
   "source": [
    "##使用 csv.DictReader（将表头作为键值对来处理）"
   ]
  },
  {
   "cell_type": "code",
   "execution_count": 19,
   "id": "83c9e252-bda8-4a1c-867d-ae89bf1f66db",
   "metadata": {},
   "outputs": [
    {
     "name": "stdout",
     "output_type": "stream",
     "text": [
      "{'4/5/2014 13:34': '4/5/2014 3:41', 'Apples': 'Cherries', '73': '85'}\n",
      "{'4/5/2014 13:34': '4/6/2014 12:46', 'Apples': 'Pears', '73': '14'}\n",
      "{'4/5/2014 13:34': '4/8/2014 8:59', 'Apples': 'Oranges', '73': '52'}\n",
      "{'4/5/2014 13:34': '4/10/2014 2:07', 'Apples': 'Apples', '73': '152'}\n",
      "{'4/5/2014 13:34': '4/10/2014 18:10', 'Apples': 'Bananas', '73': '23'}\n",
      "{'4/5/2014 13:34': '4/10/2014 2:40', 'Apples': 'Strawberries', '73': '98'}\n"
     ]
    }
   ],
   "source": [
    "import csv\n",
    "\n",
    "with open('example.csv', mode='r') as file:\n",
    "    reader = csv.DictReader(file)\n",
    "    \n",
    "    # 读取数据，返回的是字典列表\n",
    "    data = list(reader)\n",
    "\n",
    "# 打印读取到的数据\n",
    "for row in data:\n",
    "    print(row)\n"
   ]
  },
  {
   "cell_type": "markdown",
   "id": "afd2d4df-162b-4a4f-b6b2-cf72eec6e850",
   "metadata": {},
   "source": [
    "### JSON\n",
    "JavaScript Object Notation (JSON) 是一种常用的数据格式，它以一种简单且可读的字符串形式表示数据。  \n",
    "JSON 格式广泛应用于网络通信，尤其是在通过 API（应用编程接口）访问网站数据时。  \n",
    "{\n",
    "  \"name\": \"Zophie\",\n",
    "  \"isCat\": true,\n",
    "  \"miceCaught\": 0,\n",
    "  \"napsTaken\": 37.5,\n",
    "  \"felineIQ\": null\n",
    "}\n",
    "API（应用编程接口）是程序与程序之间交互的接口。通过 API，程序可以通过发送特定的请求来获取网站的数据，通常以 JSON 格式返回"
   ]
  },
  {
   "cell_type": "code",
   "execution_count": 11,
   "id": "fabaf427-c771-4caf-a228-b41ee64589d9",
   "metadata": {},
   "outputs": [
    {
     "name": "stdout",
     "output_type": "stream",
     "text": [
      "{'name': 'Zophie', 'isCat': True, 'miceCaught': 0, 'felineIQ': None}\n"
     ]
    }
   ],
   "source": [
    "import json\n",
    "\n",
    "# 一个包含 JSON 数据的字符串\n",
    "stringOfJsonData = '{\"name\": \"Zophie\", \"isCat\": true, \"miceCaught\": 0, \"felineIQ\": null}'\n",
    "\n",
    "# 使用 json.loads() 将 JSON 字符串转化为 Python 对象\n",
    "jsonDataAsPythonValue = json.loads(stringOfJsonData)\n",
    "\n",
    "print(jsonDataAsPythonValue)\n"
   ]
  },
  {
   "cell_type": "code",
   "execution_count": 12,
   "id": "91381513-310f-43f3-be8f-8485798cf417",
   "metadata": {},
   "outputs": [],
   "source": [
    "#写入Json"
   ]
  },
  {
   "cell_type": "code",
   "execution_count": 13,
   "id": "5cf8aabd-bdd1-4c0b-8fea-0ed16faf7e31",
   "metadata": {},
   "outputs": [
    {
     "name": "stdout",
     "output_type": "stream",
     "text": [
      "{\"isCat\": true, \"miceCaught\": 0, \"name\": \"Zophie\", \"felineIQ\": null}\n"
     ]
    }
   ],
   "source": [
    "import json\n",
    "\n",
    "# 一个包含 Python 数据结构的字典\n",
    "pythonValue = {'isCat': True, 'miceCaught': 0, 'name': 'Zophie', 'felineIQ': None}\n",
    "\n",
    "# 使用 json.dumps() 将 Python 数据结构转化为 JSON 字符串\n",
    "stringOfJsonData = json.dumps(pythonValue)\n",
    "\n",
    "print(stringOfJsonData)\n"
   ]
  },
  {
   "cell_type": "code",
   "execution_count": 14,
   "id": "578877e0-54ea-4667-a498-44582ece8055",
   "metadata": {},
   "outputs": [],
   "source": [
    "# 从 API 获取 JSON 数据"
   ]
  },
  {
   "cell_type": "code",
   "execution_count": 18,
   "id": "2157b5b6-c75b-4a16-8095-99107f51c9d3",
   "metadata": {},
   "outputs": [
    {
     "name": "stdout",
     "output_type": "stream",
     "text": [
      "[{'userId': 1, 'id': 1, 'title': 'delectus aut autem', 'completed': False}, {'userId': 1, 'id': 2, 'title': 'quis ut nam facilis et officia qui', 'completed': False}, {'userId': 1, 'id': 3, 'title': 'fugiat veniam minus', 'completed': False}, {'userId': 1, 'id': 4, 'title': 'et porro tempora', 'completed': True}, {'userId': 1, 'id': 5, 'title': 'laboriosam mollitia et enim quasi adipisci quia provident illum', 'completed': False}, {'userId': 1, 'id': 6, 'title': 'qui ullam ratione quibusdam voluptatem quia omnis', 'completed': False}, {'userId': 1, 'id': 7, 'title': 'illo expedita consequatur quia in', 'completed': False}, {'userId': 1, 'id': 8, 'title': 'quo adipisci enim quam ut ab', 'completed': True}, {'userId': 1, 'id': 9, 'title': 'molestiae perspiciatis ipsa', 'completed': False}, {'userId': 1, 'id': 10, 'title': 'illo est ratione doloremque quia maiores aut', 'completed': True}, {'userId': 1, 'id': 11, 'title': 'vero rerum temporibus dolor', 'completed': True}, {'userId': 1, 'id': 12, 'title': 'ipsa repellendus fugit nisi', 'completed': True}, {'userId': 1, 'id': 13, 'title': 'et doloremque nulla', 'completed': False}, {'userId': 1, 'id': 14, 'title': 'repellendus sunt dolores architecto voluptatum', 'completed': True}, {'userId': 1, 'id': 15, 'title': 'ab voluptatum amet voluptas', 'completed': True}, {'userId': 1, 'id': 16, 'title': 'accusamus eos facilis sint et aut voluptatem', 'completed': True}, {'userId': 1, 'id': 17, 'title': 'quo laboriosam deleniti aut qui', 'completed': True}, {'userId': 1, 'id': 18, 'title': 'dolorum est consequatur ea mollitia in culpa', 'completed': False}, {'userId': 1, 'id': 19, 'title': 'molestiae ipsa aut voluptatibus pariatur dolor nihil', 'completed': True}, {'userId': 1, 'id': 20, 'title': 'ullam nobis libero sapiente ad optio sint', 'completed': True}, {'userId': 2, 'id': 21, 'title': 'suscipit repellat esse quibusdam voluptatem incidunt', 'completed': False}, {'userId': 2, 'id': 22, 'title': 'distinctio vitae autem nihil ut molestias quo', 'completed': True}, {'userId': 2, 'id': 23, 'title': 'et itaque necessitatibus maxime molestiae qui quas velit', 'completed': False}, {'userId': 2, 'id': 24, 'title': 'adipisci non ad dicta qui amet quaerat doloribus ea', 'completed': False}, {'userId': 2, 'id': 25, 'title': 'voluptas quo tenetur perspiciatis explicabo natus', 'completed': True}, {'userId': 2, 'id': 26, 'title': 'aliquam aut quasi', 'completed': True}, {'userId': 2, 'id': 27, 'title': 'veritatis pariatur delectus', 'completed': True}, {'userId': 2, 'id': 28, 'title': 'nesciunt totam sit blanditiis sit', 'completed': False}, {'userId': 2, 'id': 29, 'title': 'laborum aut in quam', 'completed': False}, {'userId': 2, 'id': 30, 'title': 'nemo perspiciatis repellat ut dolor libero commodi blanditiis omnis', 'completed': True}, {'userId': 2, 'id': 31, 'title': 'repudiandae totam in est sint facere fuga', 'completed': False}, {'userId': 2, 'id': 32, 'title': 'earum doloribus ea doloremque quis', 'completed': False}, {'userId': 2, 'id': 33, 'title': 'sint sit aut vero', 'completed': False}, {'userId': 2, 'id': 34, 'title': 'porro aut necessitatibus eaque distinctio', 'completed': False}, {'userId': 2, 'id': 35, 'title': 'repellendus veritatis molestias dicta incidunt', 'completed': True}, {'userId': 2, 'id': 36, 'title': 'excepturi deleniti adipisci voluptatem et neque optio illum ad', 'completed': True}, {'userId': 2, 'id': 37, 'title': 'sunt cum tempora', 'completed': False}, {'userId': 2, 'id': 38, 'title': 'totam quia non', 'completed': False}, {'userId': 2, 'id': 39, 'title': 'doloremque quibusdam asperiores libero corrupti illum qui omnis', 'completed': False}, {'userId': 2, 'id': 40, 'title': 'totam atque quo nesciunt', 'completed': True}, {'userId': 3, 'id': 41, 'title': 'aliquid amet impedit consequatur aspernatur placeat eaque fugiat suscipit', 'completed': False}, {'userId': 3, 'id': 42, 'title': 'rerum perferendis error quia ut eveniet', 'completed': False}, {'userId': 3, 'id': 43, 'title': 'tempore ut sint quis recusandae', 'completed': True}, {'userId': 3, 'id': 44, 'title': 'cum debitis quis accusamus doloremque ipsa natus sapiente omnis', 'completed': True}, {'userId': 3, 'id': 45, 'title': 'velit soluta adipisci molestias reiciendis harum', 'completed': False}, {'userId': 3, 'id': 46, 'title': 'vel voluptatem repellat nihil placeat corporis', 'completed': False}, {'userId': 3, 'id': 47, 'title': 'nam qui rerum fugiat accusamus', 'completed': False}, {'userId': 3, 'id': 48, 'title': 'sit reprehenderit omnis quia', 'completed': False}, {'userId': 3, 'id': 49, 'title': 'ut necessitatibus aut maiores debitis officia blanditiis velit et', 'completed': False}, {'userId': 3, 'id': 50, 'title': 'cupiditate necessitatibus ullam aut quis dolor voluptate', 'completed': True}, {'userId': 3, 'id': 51, 'title': 'distinctio exercitationem ab doloribus', 'completed': False}, {'userId': 3, 'id': 52, 'title': 'nesciunt dolorum quis recusandae ad pariatur ratione', 'completed': False}, {'userId': 3, 'id': 53, 'title': 'qui labore est occaecati recusandae aliquid quam', 'completed': False}, {'userId': 3, 'id': 54, 'title': 'quis et est ut voluptate quam dolor', 'completed': True}, {'userId': 3, 'id': 55, 'title': 'voluptatum omnis minima qui occaecati provident nulla voluptatem ratione', 'completed': True}, {'userId': 3, 'id': 56, 'title': 'deleniti ea temporibus enim', 'completed': True}, {'userId': 3, 'id': 57, 'title': 'pariatur et magnam ea doloribus similique voluptatem rerum quia', 'completed': False}, {'userId': 3, 'id': 58, 'title': 'est dicta totam qui explicabo doloribus qui dignissimos', 'completed': False}, {'userId': 3, 'id': 59, 'title': 'perspiciatis velit id laborum placeat iusto et aliquam odio', 'completed': False}, {'userId': 3, 'id': 60, 'title': 'et sequi qui architecto ut adipisci', 'completed': True}, {'userId': 4, 'id': 61, 'title': 'odit optio omnis qui sunt', 'completed': True}, {'userId': 4, 'id': 62, 'title': 'et placeat et tempore aspernatur sint numquam', 'completed': False}, {'userId': 4, 'id': 63, 'title': 'doloremque aut dolores quidem fuga qui nulla', 'completed': True}, {'userId': 4, 'id': 64, 'title': 'voluptas consequatur qui ut quia magnam nemo esse', 'completed': False}, {'userId': 4, 'id': 65, 'title': 'fugiat pariatur ratione ut asperiores necessitatibus magni', 'completed': False}, {'userId': 4, 'id': 66, 'title': 'rerum eum molestias autem voluptatum sit optio', 'completed': False}, {'userId': 4, 'id': 67, 'title': 'quia voluptatibus voluptatem quos similique maiores repellat', 'completed': False}, {'userId': 4, 'id': 68, 'title': 'aut id perspiciatis voluptatem iusto', 'completed': False}, {'userId': 4, 'id': 69, 'title': 'doloribus sint dolorum ab adipisci itaque dignissimos aliquam suscipit', 'completed': False}, {'userId': 4, 'id': 70, 'title': 'ut sequi accusantium et mollitia delectus sunt', 'completed': False}, {'userId': 4, 'id': 71, 'title': 'aut velit saepe ullam', 'completed': False}, {'userId': 4, 'id': 72, 'title': 'praesentium facilis facere quis harum voluptatibus voluptatem eum', 'completed': False}, {'userId': 4, 'id': 73, 'title': 'sint amet quia totam corporis qui exercitationem commodi', 'completed': True}, {'userId': 4, 'id': 74, 'title': 'expedita tempore nobis eveniet laborum maiores', 'completed': False}, {'userId': 4, 'id': 75, 'title': 'occaecati adipisci est possimus totam', 'completed': False}, {'userId': 4, 'id': 76, 'title': 'sequi dolorem sed', 'completed': True}, {'userId': 4, 'id': 77, 'title': 'maiores aut nesciunt delectus exercitationem vel assumenda eligendi at', 'completed': False}, {'userId': 4, 'id': 78, 'title': 'reiciendis est magnam amet nemo iste recusandae impedit quaerat', 'completed': False}, {'userId': 4, 'id': 79, 'title': 'eum ipsa maxime ut', 'completed': True}, {'userId': 4, 'id': 80, 'title': 'tempore molestias dolores rerum sequi voluptates ipsum consequatur', 'completed': True}, {'userId': 5, 'id': 81, 'title': 'suscipit qui totam', 'completed': True}, {'userId': 5, 'id': 82, 'title': 'voluptates eum voluptas et dicta', 'completed': False}, {'userId': 5, 'id': 83, 'title': 'quidem at rerum quis ex aut sit quam', 'completed': True}, {'userId': 5, 'id': 84, 'title': 'sunt veritatis ut voluptate', 'completed': False}, {'userId': 5, 'id': 85, 'title': 'et quia ad iste a', 'completed': True}, {'userId': 5, 'id': 86, 'title': 'incidunt ut saepe autem', 'completed': True}, {'userId': 5, 'id': 87, 'title': 'laudantium quae eligendi consequatur quia et vero autem', 'completed': True}, {'userId': 5, 'id': 88, 'title': 'vitae aut excepturi laboriosam sint aliquam et et accusantium', 'completed': False}, {'userId': 5, 'id': 89, 'title': 'sequi ut omnis et', 'completed': True}, {'userId': 5, 'id': 90, 'title': 'molestiae nisi accusantium tenetur dolorem et', 'completed': True}, {'userId': 5, 'id': 91, 'title': 'nulla quis consequatur saepe qui id expedita', 'completed': True}, {'userId': 5, 'id': 92, 'title': 'in omnis laboriosam', 'completed': True}, {'userId': 5, 'id': 93, 'title': 'odio iure consequatur molestiae quibusdam necessitatibus quia sint', 'completed': True}, {'userId': 5, 'id': 94, 'title': 'facilis modi saepe mollitia', 'completed': False}, {'userId': 5, 'id': 95, 'title': 'vel nihil et molestiae iusto assumenda nemo quo ut', 'completed': True}, {'userId': 5, 'id': 96, 'title': 'nobis suscipit ducimus enim asperiores voluptas', 'completed': False}, {'userId': 5, 'id': 97, 'title': 'dolorum laboriosam eos qui iure aliquam', 'completed': False}, {'userId': 5, 'id': 98, 'title': 'debitis accusantium ut quo facilis nihil quis sapiente necessitatibus', 'completed': True}, {'userId': 5, 'id': 99, 'title': 'neque voluptates ratione', 'completed': False}, {'userId': 5, 'id': 100, 'title': 'excepturi a et neque qui expedita vel voluptate', 'completed': False}, {'userId': 6, 'id': 101, 'title': 'explicabo enim cumque porro aperiam occaecati minima', 'completed': False}, {'userId': 6, 'id': 102, 'title': 'sed ab consequatur', 'completed': False}, {'userId': 6, 'id': 103, 'title': 'non sunt delectus illo nulla tenetur enim omnis', 'completed': False}, {'userId': 6, 'id': 104, 'title': 'excepturi non laudantium quo', 'completed': False}, {'userId': 6, 'id': 105, 'title': 'totam quia dolorem et illum repellat voluptas optio', 'completed': True}, {'userId': 6, 'id': 106, 'title': 'ad illo quis voluptatem temporibus', 'completed': True}, {'userId': 6, 'id': 107, 'title': 'praesentium facilis omnis laudantium fugit ad iusto nihil nesciunt', 'completed': False}, {'userId': 6, 'id': 108, 'title': 'a eos eaque nihil et exercitationem incidunt delectus', 'completed': True}, {'userId': 6, 'id': 109, 'title': 'autem temporibus harum quisquam in culpa', 'completed': True}, {'userId': 6, 'id': 110, 'title': 'aut aut ea corporis', 'completed': True}, {'userId': 6, 'id': 111, 'title': 'magni accusantium labore et id quis provident', 'completed': False}, {'userId': 6, 'id': 112, 'title': 'consectetur impedit quisquam qui deserunt non rerum consequuntur eius', 'completed': False}, {'userId': 6, 'id': 113, 'title': 'quia atque aliquam sunt impedit voluptatum rerum assumenda nisi', 'completed': False}, {'userId': 6, 'id': 114, 'title': 'cupiditate quos possimus corporis quisquam exercitationem beatae', 'completed': False}, {'userId': 6, 'id': 115, 'title': 'sed et ea eum', 'completed': False}, {'userId': 6, 'id': 116, 'title': 'ipsa dolores vel facilis ut', 'completed': True}, {'userId': 6, 'id': 117, 'title': 'sequi quae est et qui qui eveniet asperiores', 'completed': False}, {'userId': 6, 'id': 118, 'title': 'quia modi consequatur vero fugiat', 'completed': False}, {'userId': 6, 'id': 119, 'title': 'corporis ducimus ea perspiciatis iste', 'completed': False}, {'userId': 6, 'id': 120, 'title': 'dolorem laboriosam vel voluptas et aliquam quasi', 'completed': False}, {'userId': 7, 'id': 121, 'title': 'inventore aut nihil minima laudantium hic qui omnis', 'completed': True}, {'userId': 7, 'id': 122, 'title': 'provident aut nobis culpa', 'completed': True}, {'userId': 7, 'id': 123, 'title': 'esse et quis iste est earum aut impedit', 'completed': False}, {'userId': 7, 'id': 124, 'title': 'qui consectetur id', 'completed': False}, {'userId': 7, 'id': 125, 'title': 'aut quasi autem iste tempore illum possimus', 'completed': False}, {'userId': 7, 'id': 126, 'title': 'ut asperiores perspiciatis veniam ipsum rerum saepe', 'completed': True}, {'userId': 7, 'id': 127, 'title': 'voluptatem libero consectetur rerum ut', 'completed': True}, {'userId': 7, 'id': 128, 'title': 'eius omnis est qui voluptatem autem', 'completed': False}, {'userId': 7, 'id': 129, 'title': 'rerum culpa quis harum', 'completed': False}, {'userId': 7, 'id': 130, 'title': 'nulla aliquid eveniet harum laborum libero alias ut unde', 'completed': True}, {'userId': 7, 'id': 131, 'title': 'qui ea incidunt quis', 'completed': False}, {'userId': 7, 'id': 132, 'title': 'qui molestiae voluptatibus velit iure harum quisquam', 'completed': True}, {'userId': 7, 'id': 133, 'title': 'et labore eos enim rerum consequatur sunt', 'completed': True}, {'userId': 7, 'id': 134, 'title': 'molestiae doloribus et laborum quod ea', 'completed': False}, {'userId': 7, 'id': 135, 'title': 'facere ipsa nam eum voluptates reiciendis vero qui', 'completed': False}, {'userId': 7, 'id': 136, 'title': 'asperiores illo tempora fuga sed ut quasi adipisci', 'completed': False}, {'userId': 7, 'id': 137, 'title': 'qui sit non', 'completed': False}, {'userId': 7, 'id': 138, 'title': 'placeat minima consequatur rem qui ut', 'completed': True}, {'userId': 7, 'id': 139, 'title': 'consequatur doloribus id possimus voluptas a voluptatem', 'completed': False}, {'userId': 7, 'id': 140, 'title': 'aut consectetur in blanditiis deserunt quia sed laboriosam', 'completed': True}, {'userId': 8, 'id': 141, 'title': 'explicabo consectetur debitis voluptates quas quae culpa rerum non', 'completed': True}, {'userId': 8, 'id': 142, 'title': 'maiores accusantium architecto necessitatibus reiciendis ea aut', 'completed': True}, {'userId': 8, 'id': 143, 'title': 'eum non recusandae cupiditate animi', 'completed': False}, {'userId': 8, 'id': 144, 'title': 'ut eum exercitationem sint', 'completed': False}, {'userId': 8, 'id': 145, 'title': 'beatae qui ullam incidunt voluptatem non nisi aliquam', 'completed': False}, {'userId': 8, 'id': 146, 'title': 'molestiae suscipit ratione nihil odio libero impedit vero totam', 'completed': True}, {'userId': 8, 'id': 147, 'title': 'eum itaque quod reprehenderit et facilis dolor autem ut', 'completed': True}, {'userId': 8, 'id': 148, 'title': 'esse quas et quo quasi exercitationem', 'completed': False}, {'userId': 8, 'id': 149, 'title': 'animi voluptas quod perferendis est', 'completed': False}, {'userId': 8, 'id': 150, 'title': 'eos amet tempore laudantium fugit a', 'completed': False}, {'userId': 8, 'id': 151, 'title': 'accusamus adipisci dicta qui quo ea explicabo sed vero', 'completed': True}, {'userId': 8, 'id': 152, 'title': 'odit eligendi recusandae doloremque cumque non', 'completed': False}, {'userId': 8, 'id': 153, 'title': 'ea aperiam consequatur qui repellat eos', 'completed': False}, {'userId': 8, 'id': 154, 'title': 'rerum non ex sapiente', 'completed': True}, {'userId': 8, 'id': 155, 'title': 'voluptatem nobis consequatur et assumenda magnam', 'completed': True}, {'userId': 8, 'id': 156, 'title': 'nam quia quia nulla repellat assumenda quibusdam sit nobis', 'completed': True}, {'userId': 8, 'id': 157, 'title': 'dolorem veniam quisquam deserunt repellendus', 'completed': True}, {'userId': 8, 'id': 158, 'title': 'debitis vitae delectus et harum accusamus aut deleniti a', 'completed': True}, {'userId': 8, 'id': 159, 'title': 'debitis adipisci quibusdam aliquam sed dolore ea praesentium nobis', 'completed': True}, {'userId': 8, 'id': 160, 'title': 'et praesentium aliquam est', 'completed': False}, {'userId': 9, 'id': 161, 'title': 'ex hic consequuntur earum omnis alias ut occaecati culpa', 'completed': True}, {'userId': 9, 'id': 162, 'title': 'omnis laboriosam molestias animi sunt dolore', 'completed': True}, {'userId': 9, 'id': 163, 'title': 'natus corrupti maxime laudantium et voluptatem laboriosam odit', 'completed': False}, {'userId': 9, 'id': 164, 'title': 'reprehenderit quos aut aut consequatur est sed', 'completed': False}, {'userId': 9, 'id': 165, 'title': 'fugiat perferendis sed aut quidem', 'completed': False}, {'userId': 9, 'id': 166, 'title': 'quos quo possimus suscipit minima ut', 'completed': False}, {'userId': 9, 'id': 167, 'title': 'et quis minus quo a asperiores molestiae', 'completed': False}, {'userId': 9, 'id': 168, 'title': 'recusandae quia qui sunt libero', 'completed': False}, {'userId': 9, 'id': 169, 'title': 'ea odio perferendis officiis', 'completed': True}, {'userId': 9, 'id': 170, 'title': 'quisquam aliquam quia doloribus aut', 'completed': False}, {'userId': 9, 'id': 171, 'title': 'fugiat aut voluptatibus corrupti deleniti velit iste odio', 'completed': True}, {'userId': 9, 'id': 172, 'title': 'et provident amet rerum consectetur et voluptatum', 'completed': False}, {'userId': 9, 'id': 173, 'title': 'harum ad aperiam quis', 'completed': False}, {'userId': 9, 'id': 174, 'title': 'similique aut quo', 'completed': False}, {'userId': 9, 'id': 175, 'title': 'laudantium eius officia perferendis provident perspiciatis asperiores', 'completed': True}, {'userId': 9, 'id': 176, 'title': 'magni soluta corrupti ut maiores rem quidem', 'completed': False}, {'userId': 9, 'id': 177, 'title': 'et placeat temporibus voluptas est tempora quos quibusdam', 'completed': False}, {'userId': 9, 'id': 178, 'title': 'nesciunt itaque commodi tempore', 'completed': True}, {'userId': 9, 'id': 179, 'title': 'omnis consequuntur cupiditate impedit itaque ipsam quo', 'completed': True}, {'userId': 9, 'id': 180, 'title': 'debitis nisi et dolorem repellat et', 'completed': True}, {'userId': 10, 'id': 181, 'title': 'ut cupiditate sequi aliquam fuga maiores', 'completed': False}, {'userId': 10, 'id': 182, 'title': 'inventore saepe cumque et aut illum enim', 'completed': True}, {'userId': 10, 'id': 183, 'title': 'omnis nulla eum aliquam distinctio', 'completed': True}, {'userId': 10, 'id': 184, 'title': 'molestias modi perferendis perspiciatis', 'completed': False}, {'userId': 10, 'id': 185, 'title': 'voluptates dignissimos sed doloribus animi quaerat aut', 'completed': False}, {'userId': 10, 'id': 186, 'title': 'explicabo odio est et', 'completed': False}, {'userId': 10, 'id': 187, 'title': 'consequuntur animi possimus', 'completed': False}, {'userId': 10, 'id': 188, 'title': 'vel non beatae est', 'completed': True}, {'userId': 10, 'id': 189, 'title': 'culpa eius et voluptatem et', 'completed': True}, {'userId': 10, 'id': 190, 'title': 'accusamus sint iusto et voluptatem exercitationem', 'completed': True}, {'userId': 10, 'id': 191, 'title': 'temporibus atque distinctio omnis eius impedit tempore molestias pariatur', 'completed': True}, {'userId': 10, 'id': 192, 'title': 'ut quas possimus exercitationem sint voluptates', 'completed': False}, {'userId': 10, 'id': 193, 'title': 'rerum debitis voluptatem qui eveniet tempora distinctio a', 'completed': True}, {'userId': 10, 'id': 194, 'title': 'sed ut vero sit molestiae', 'completed': False}, {'userId': 10, 'id': 195, 'title': 'rerum ex veniam mollitia voluptatibus pariatur', 'completed': True}, {'userId': 10, 'id': 196, 'title': 'consequuntur aut ut fugit similique', 'completed': True}, {'userId': 10, 'id': 197, 'title': 'dignissimos quo nobis earum saepe', 'completed': True}, {'userId': 10, 'id': 198, 'title': 'quis eius est sint explicabo', 'completed': True}, {'userId': 10, 'id': 199, 'title': 'numquam repellendus a magnam', 'completed': True}, {'userId': 10, 'id': 200, 'title': 'ipsam aperiam voluptates qui', 'completed': False}]\n"
     ]
    }
   ],
   "source": [
    "import requests\n",
    "import json\n",
    "\n",
    "# 访问一个 API 获取 JSON 数据\n",
    "response = requests.get('https://jsonplaceholder.typicode.com/todos')\n",
    "\n",
    "# 将返回的 JSON 数据解析为 Python 字典\n",
    "data = response.json()\n",
    "\n",
    "# 输出数据\n",
    "print(data)\n"
   ]
  },
  {
   "cell_type": "code",
   "execution_count": null,
   "id": "8d2a8a7b-2699-4924-860d-b362410cd8c3",
   "metadata": {},
   "outputs": [],
   "source": []
  }
 ],
 "metadata": {
  "kernelspec": {
   "display_name": "Python 3 (ipykernel)",
   "language": "python",
   "name": "python3"
  },
  "language_info": {
   "codemirror_mode": {
    "name": "ipython",
    "version": 3
   },
   "file_extension": ".py",
   "mimetype": "text/x-python",
   "name": "python",
   "nbconvert_exporter": "python",
   "pygments_lexer": "ipython3",
   "version": "3.12.7"
  }
 },
 "nbformat": 4,
 "nbformat_minor": 5
}
